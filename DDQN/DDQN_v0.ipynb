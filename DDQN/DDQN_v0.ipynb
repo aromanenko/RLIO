{
 "cells": [
  {
   "cell_type": "code",
   "execution_count": 883,
   "metadata": {},
   "outputs": [],
   "source": [
    "# buffer -> (s, a, r, s')"
   ]
  },
  {
   "cell_type": "code",
   "execution_count": 884,
   "metadata": {},
   "outputs": [],
   "source": [
    "# action -> (ROL, OUL)\n",
    "\n",
    "# ROL - threshold, at which we start reordering\n",
    "# OUL - order up to what level\n",
    "\n",
    "# (0, 1) - default policy"
   ]
  },
  {
   "cell_type": "code",
   "execution_count": 885,
   "metadata": {},
   "outputs": [],
   "source": [
    "import pandas as pd\n",
    "import numpy as np\n",
    "from scipy import stats\n",
    "\n",
    "import matplotlib.pyplot as plt\n",
    "from tqdm.notebook import trange, tqdm"
   ]
  },
  {
   "cell_type": "code",
   "execution_count": 951,
   "metadata": {},
   "outputs": [],
   "source": [
    "np.random.seed(21)"
   ]
  },
  {
   "cell_type": "code",
   "execution_count": 952,
   "metadata": {},
   "outputs": [],
   "source": [
    "PATH_STORE = 'RLIO/MERGE_TABLE_STORE_4600.csv'\n",
    "PATH_SL = 'RLIO/data/echelon/echelon_1_sl.csv'"
   ]
  },
  {
   "cell_type": "markdown",
   "metadata": {},
   "source": [
    "<h3>Fetch store data</h3>"
   ]
  },
  {
   "cell_type": "code",
   "execution_count": 852,
   "metadata": {},
   "outputs": [],
   "source": [
    "store_data = pd.read_csv(PATH_STORE, sep=';', decimal='.')"
   ]
  },
  {
   "cell_type": "code",
   "execution_count": 853,
   "metadata": {},
   "outputs": [],
   "source": [
    "store_data['curr_date'] = pd.to_datetime(store_data['curr_date'], format='%d%b%Y')\n",
    "store_data = store_data.set_index(['curr_date'], drop=True)\n",
    "store_data.index.rename('Timestamp', inplace=True)"
   ]
  },
  {
   "cell_type": "code",
   "execution_count": 854,
   "metadata": {},
   "outputs": [],
   "source": [
    "store_data.drop(['flg_spromo'], axis=1, inplace=True)"
   ]
  },
  {
   "cell_type": "code",
   "execution_count": 855,
   "metadata": {},
   "outputs": [],
   "source": [
    "store_data.columns = ['sku', 'loc', 'sold', 'stock'] # sku, location (store ID), sold, stock"
   ]
  },
  {
   "cell_type": "code",
   "execution_count": 856,
   "metadata": {},
   "outputs": [],
   "source": [
    "store_data = store_data[~store_data['sold'].isna()]"
   ]
  },
  {
   "cell_type": "code",
   "execution_count": 857,
   "metadata": {},
   "outputs": [
    {
     "data": {
      "text/html": [
       "<div>\n",
       "<style scoped>\n",
       "    .dataframe tbody tr th:only-of-type {\n",
       "        vertical-align: middle;\n",
       "    }\n",
       "\n",
       "    .dataframe tbody tr th {\n",
       "        vertical-align: top;\n",
       "    }\n",
       "\n",
       "    .dataframe thead th {\n",
       "        text-align: right;\n",
       "    }\n",
       "</style>\n",
       "<table border=\"1\" class=\"dataframe\">\n",
       "  <thead>\n",
       "    <tr style=\"text-align: right;\">\n",
       "      <th></th>\n",
       "      <th>sku</th>\n",
       "      <th>loc</th>\n",
       "      <th>sold</th>\n",
       "      <th>stock</th>\n",
       "    </tr>\n",
       "    <tr>\n",
       "      <th>Timestamp</th>\n",
       "      <th></th>\n",
       "      <th></th>\n",
       "      <th></th>\n",
       "      <th></th>\n",
       "    </tr>\n",
       "  </thead>\n",
       "  <tbody>\n",
       "    <tr>\n",
       "      <th>2016-03-28</th>\n",
       "      <td>200</td>\n",
       "      <td>4600</td>\n",
       "      <td>1.0</td>\n",
       "      <td>2.0</td>\n",
       "    </tr>\n",
       "    <tr>\n",
       "      <th>2016-03-30</th>\n",
       "      <td>200</td>\n",
       "      <td>4600</td>\n",
       "      <td>0.0</td>\n",
       "      <td>1.0</td>\n",
       "    </tr>\n",
       "    <tr>\n",
       "      <th>2016-05-13</th>\n",
       "      <td>200</td>\n",
       "      <td>4600</td>\n",
       "      <td>1.0</td>\n",
       "      <td>2.0</td>\n",
       "    </tr>\n",
       "    <tr>\n",
       "      <th>2016-05-15</th>\n",
       "      <td>200</td>\n",
       "      <td>4600</td>\n",
       "      <td>0.0</td>\n",
       "      <td>1.0</td>\n",
       "    </tr>\n",
       "    <tr>\n",
       "      <th>2016-06-28</th>\n",
       "      <td>200</td>\n",
       "      <td>4600</td>\n",
       "      <td>1.0</td>\n",
       "      <td>2.0</td>\n",
       "    </tr>\n",
       "  </tbody>\n",
       "</table>\n",
       "</div>"
      ],
      "text/plain": [
       "            sku   loc  sold  stock\n",
       "Timestamp                         \n",
       "2016-03-28  200  4600   1.0    2.0\n",
       "2016-03-30  200  4600   0.0    1.0\n",
       "2016-05-13  200  4600   1.0    2.0\n",
       "2016-05-15  200  4600   0.0    1.0\n",
       "2016-06-28  200  4600   1.0    2.0"
      ]
     },
     "execution_count": 857,
     "metadata": {},
     "output_type": "execute_result"
    }
   ],
   "source": [
    "store_data.head()"
   ]
  },
  {
   "cell_type": "markdown",
   "metadata": {},
   "source": [
    "<h3>Fetch SL data</h3>"
   ]
  },
  {
   "cell_type": "code",
   "execution_count": 858,
   "metadata": {},
   "outputs": [],
   "source": [
    "sl = pd.read_csv(PATH_SL, sep=';', decimal='.')"
   ]
  },
  {
   "cell_type": "code",
   "execution_count": 859,
   "metadata": {},
   "outputs": [],
   "source": [
    "# remove stores that are not in SL\n",
    "store_data = store_data[store_data['loc'].isin(sl['location_ids'])]\n",
    "# remove skus that are not in SL\n",
    "store_data = store_data[store_data['sku'].isin(sl['product_ids'])]"
   ]
  },
  {
   "cell_type": "markdown",
   "metadata": {},
   "source": [
    "<h3>Calculate Lambda</h3>"
   ]
  },
  {
   "cell_type": "code",
   "execution_count": 953,
   "metadata": {},
   "outputs": [],
   "source": [
    "# lambda is used for a Poisson distribution for each (store / sku) pair\n",
    "# lambda is calculated using maximum likelihood method\n",
    "# lambda is an average demand for each SKU\n",
    "\n",
    "def get_lambda(df, LOC, SKU):\n",
    "    # get max stock for each day\n",
    "    req = (df['sku'] == SKU) & (df['loc'] == LOC)\n",
    "    \n",
    "    stock_max = df[req].reset_index().groupby('Timestamp').agg({'stock': np.max})\n",
    "    stock_max = stock_max.reindex(pd.date_range(np.min(stock_max.index), np.max(stock_max.index))).fillna(method='ffill')\n",
    "    \n",
    "    # merge with \"sold\" column\n",
    "    sku_states = df[req][['sold']].merge(stock_max, how='right', left_index=True, right_index=True)\n",
    "    \n",
    "    # remove Nan values\n",
    "    sku_states = sku_states[~sku_states['sold'].isna()]\n",
    "    \n",
    "    # get valid start and end date for period (at some point the stock is all 0)\n",
    "    start = sku_states[sku_states.max(axis=1) > 0].index[0]\n",
    "    end   = sku_states[sku_states.max(axis=1) > 0].index[-1]\n",
    "    \n",
    "    sku_states = sku_states[(sku_states.index >= start) & (sku_states.index <= end)]\n",
    "    \n",
    "    # m - items in stock at the start of the day\n",
    "    # k - items sold\n",
    "    \n",
    "    # indices when m = k = 0 (we sold nothing, we had nothing)\n",
    "    zero_idx = (sku_states['stock'] == 0) & (sku_states['sold'] == 0)\n",
    "    # indices when k = m > 0 (we sold everything)\n",
    "    deficit_idx = sku_states['stock'] <= sku_states['sold']\n",
    "    \n",
    "    # just a \"ones\" vector for convenience \n",
    "    sku_states.loc[:, 'weights'] = 1\n",
    "    # scalar - non zero sold values\n",
    "    sku_states['scalar'] = sku_states['sold'][(~zero_idx)] * sku_states['weights'][(~zero_idx)]\n",
    "    \n",
    "    alpha = 0.3\n",
    "    k_sum = sku_states['scalar'].sum()\n",
    "    # count m > k >= 0\n",
    "    n_k_less_m = sku_states['weights'][(~zero_idx) & (~deficit_idx)].sum()\n",
    "    # count m = k > 0\n",
    "    n_k_equal_m = sku_states['weights'][(~zero_idx) & deficit_idx].sum()\n",
    "    \n",
    "    LAMBDA = k_sum / (n_k_less_m + alpha * n_k_equal_m)\n",
    "    \n",
    "    return LAMBDA"
   ]
  },
  {
   "cell_type": "code",
   "execution_count": 66,
   "metadata": {},
   "outputs": [
    {
     "data": {
      "application/vnd.jupyter.widget-view+json": {
       "model_id": "33af6b60b73148a08e0b2011c5fc98ff",
       "version_major": 2,
       "version_minor": 0
      },
      "text/plain": [
       "HBox(children=(IntProgress(value=0, max=1), HTML(value='')))"
      ]
     },
     "metadata": {},
     "output_type": "display_data"
    },
    {
     "data": {
      "application/vnd.jupyter.widget-view+json": {
       "model_id": "",
       "version_major": 2,
       "version_minor": 0
      },
      "text/plain": [
       "HBox(children=(IntProgress(value=0, max=6547), HTML(value='')))"
      ]
     },
     "metadata": {},
     "output_type": "display_data"
    },
    {
     "name": "stdout",
     "output_type": "stream",
     "text": [
      "\n"
     ]
    }
   ],
   "source": [
    "# Calculate lambdas for each (store / sku) pair\n",
    "lambdas = pd.DataFrame(columns=['loc', 'sku', 'lambda'])\n",
    "\n",
    "for loc in tqdm(store_data['loc'].unique()):\n",
    "    for sku in tqdm(store_data[store_data['loc'] == loc]['sku'].unique(), leave=False):\n",
    "        try:\n",
    "            lambdas = lambdas.append({\n",
    "                'loc': loc,\n",
    "                'sku': sku,\n",
    "                'lambda': get_lambda(store_data, loc, sku)\n",
    "            }, ignore_index=True)\n",
    "        except:\n",
    "            pass\n",
    "        \n",
    "lambdas.to_csv('temp/lambdas.csv', index=False)"
   ]
  },
  {
   "cell_type": "markdown",
   "metadata": {},
   "source": [
    "<h3>Fetch Lambda</h3>"
   ]
  },
  {
   "cell_type": "code",
   "execution_count": 954,
   "metadata": {},
   "outputs": [],
   "source": [
    "lambdas = pd.read_csv('temp/lambdas.csv')\n",
    "\n",
    "# remove stores that are not in lambdas\n",
    "store_data = store_data[store_data['loc'].isin(lambdas['loc'])]\n",
    "# remove skus that are not in lambdas\n",
    "store_data = store_data[store_data['sku'].isin(lambdas['sku'])]"
   ]
  },
  {
   "cell_type": "code",
   "execution_count": 955,
   "metadata": {},
   "outputs": [
    {
     "data": {
      "image/png": "[encoded data removed]",
      "text/plain": [
       "<Figure size 1152x288 with 1 Axes>"
      ]
     },
     "metadata": {
      "needs_background": "light"
     },
     "output_type": "display_data"
    }
   ],
   "source": [
    "# EXAMPLE\n",
    "\n",
    "plt.figure(figsize=(16,4))\n",
    "lambda_temp = get_lambda(store_data, 4600, 678600)\n",
    "plt.plot(stats.poisson.pmf(np.arange(10), lambda_temp), label='pmf', color='orange', linewidth=3);\n",
    "plt.title('Poisson distribution of demand for store/sku: {} / {}'.format(4600, 678600)); plt.legend();\n",
    "plt.vlines(lambda_temp, ymin=0, ymax=0.3, linestyle='dotted', color='green', linewidth=3);"
   ]
  },
  {
   "cell_type": "code",
   "execution_count": 956,
   "metadata": {},
   "outputs": [],
   "source": [
    "def fetch_lambda(LOC, SKU):\n",
    "    return lambdas[(lambdas['sku'] == SKU) & (lambdas['loc'] == LOC)]['lambda'].values[0]"
   ]
  },
  {
   "cell_type": "code",
   "execution_count": 957,
   "metadata": {},
   "outputs": [],
   "source": [
    "def get_demand(LAMBDA, size=1):\n",
    "    return np.random.poisson(LAMBDA, size=size).astype(int)"
   ]
  },
  {
   "cell_type": "markdown",
   "metadata": {},
   "source": [
    "<h3>Recover demand</h3>"
   ]
  },
  {
   "cell_type": "code",
   "execution_count": 958,
   "metadata": {},
   "outputs": [],
   "source": [
    "def recover_demand(df, LOC, SKU):\n",
    "    sku_one = df[(df['sku'] == SKU) & (df['loc'] == LOC)]['sold']\n",
    "    sku_one = sku_one.reindex(pd.date_range(np.min(sku_one.index), np.max(sku_one.index)))\n",
    "    \n",
    "    sku_one[sku_one.isna()] = get_demand(fetch_lambda(LOC, SKU), sku_one.isna().sum())\n",
    "    \n",
    "    sku_one = sku_one.rename('demand')\n",
    "    return sku_one"
   ]
  },
  {
   "cell_type": "code",
   "execution_count": 959,
   "metadata": {},
   "outputs": [
    {
     "data": {
      "text/plain": [
       "720600     1071\n",
       "1934800    1050\n",
       "2011600    1047\n",
       "5559900    1040\n",
       "582700      989\n",
       "Name: sku, dtype: int64"
      ]
     },
     "execution_count": 959,
     "metadata": {},
     "output_type": "execute_result"
    }
   ],
   "source": [
    "# top sku\n",
    "store_data['sku'].value_counts()[:5]"
   ]
  },
  {
   "cell_type": "code",
   "execution_count": 960,
   "metadata": {},
   "outputs": [
    {
     "data": {
      "image/png": "[encoded data removed]",
      "text/plain": [
       "<Figure size 1152x288 with 1 Axes>"
      ]
     },
     "metadata": {
      "needs_background": "light"
     },
     "output_type": "display_data"
    }
   ],
   "source": [
    "from pandas.plotting import register_matplotlib_converters\n",
    "register_matplotlib_converters()\n",
    "\n",
    "# Example\n",
    "\n",
    "plt.figure(figsize=(16,4));\n",
    "plt.plot(recover_demand(store_data, 4600, 720600).iloc[:200], label='720600');\n",
    "plt.plot(recover_demand(store_data, 4600, 1934800).iloc[:200], label='1934800');\n",
    "plt.plot(recover_demand(store_data, 4600, 2011600).iloc[:200], label='2011600');\n",
    "plt.title('Recovered demand for different sku'); plt.legend();"
   ]
  },
  {
   "cell_type": "markdown",
   "metadata": {},
   "source": [
    "<h3>Environment</h3>"
   ]
  },
  {
   "cell_type": "code",
   "execution_count": 961,
   "metadata": {},
   "outputs": [],
   "source": [
    "class Env:\n",
    "    def __init__(self, act_space=0, obs_space=0):\n",
    "        self.action_space = act_space\n",
    "        self.observation_space = obs_space\n",
    "        \n",
    "        self.state = None\n",
    "        self.i = 0 # index for current day\n",
    "\n",
    "    # initialize states\n",
    "    def init_zero_state(self, df, LOC, SKU):\n",
    "        self.state = pd.DataFrame(recover_demand(df, LOC, SKU))\n",
    "        self.state.loc[:, 'stock'] = 0\n",
    "        self.state['day_n'] = self.state.index.dayofweek\n",
    "        \n",
    "    # start from day == INDX\n",
    "    def reset(self, indx=0):\n",
    "        self.i = indx\n",
    "        # return first observation or the one that is requested\n",
    "        return self.state.iloc[self.i].values\n",
    "    \n",
    "    # this function is for debugging purposes only\n",
    "    def action_sample(self):\n",
    "        return np.random.poisson(2.0, size=self.action_space).astype(int)\n",
    "    \n",
    "    #\n",
    "    def get_reward(self, sold):\n",
    "        # reward is 0 at best, usually negative\n",
    "        # sales - stock at the start of the day\n",
    "        \n",
    "        # at least one in stock\n",
    "        return sold - self.state.iloc[self.i].stock * ((1-0.9)/0.8)\n",
    "    \n",
    "    #\n",
    "    def get_sales(self):\n",
    "        curr = self.state.iloc[self.i]\n",
    "        return min(curr.demand, curr.stock)\n",
    "        \n",
    "    def step(self, action):\n",
    "        # how much was sold that day\n",
    "        sold = self.get_sales()\n",
    "        # calculate the reward\n",
    "        reward = self.get_reward(sold)\n",
    "        \n",
    "        # move to the next day\n",
    "        self.i += 1\n",
    "        # calculate stock for the next day\n",
    "        \n",
    "        # sold items\n",
    "        self.state['stock'].iat[self.i] = self.state.iloc[self.i-1].stock - sold\n",
    "        # refill\n",
    "        \n",
    "        # ------- #\n",
    "        \n",
    "        #RUL, OUL = action\n",
    "        \n",
    "        #if self.state.iloc[self.i].stock <= int(RUL):\n",
    "        #    self.state['stock'].iat[self.i] = int(OUL)\n",
    "        \n",
    "        # ------- #\n",
    "        \n",
    "        # for num_actions == 1\n",
    "        self.state['stock'].iat[self.i] = self.state.iloc[self.i-1].stock - sold + int(action[0])\n",
    "        \n",
    "        # return: observation, reward, done\n",
    "        return self.state.iloc[self.i].values, reward, self.i >= self.state.shape[0]-1"
   ]
  },
  {
   "cell_type": "markdown",
   "metadata": {},
   "source": [
    "<h3>Agent</h3>"
   ]
  },
  {
   "cell_type": "code",
   "execution_count": 962,
   "metadata": {},
   "outputs": [],
   "source": [
    "import tensorflow as tf\n",
    "from tensorflow.keras import layers"
   ]
  },
  {
   "cell_type": "code",
   "execution_count": 978,
   "metadata": {},
   "outputs": [
    {
     "name": "stdout",
     "output_type": "stream",
     "text": [
      "Size of State Space ->  3\n",
      "Size of Action Space ->  1\n",
      "Max Value of Action ->  20\n",
      "Min Value of Action ->  0\n"
     ]
    }
   ],
   "source": [
    "num_states = 3\n",
    "num_actions = 1\n",
    "\n",
    "upper_bound = 20\n",
    "lower_bound = 0 #[0, 1] # ROL, OUL \n",
    "\n",
    "\n",
    "print(\"Size of State Space ->  {}\".format(num_states))\n",
    "print(\"Size of Action Space ->  {}\".format(num_actions))\n",
    "\n",
    "print(\"Max Value of Action ->  {}\".format(upper_bound))\n",
    "print(\"Min Value of Action ->  {}\".format(lower_bound))"
   ]
  },
  {
   "cell_type": "markdown",
   "metadata": {},
   "source": [
    "<h4>Exploration noise</h4>"
   ]
  },
  {
   "cell_type": "code",
   "execution_count": 979,
   "metadata": {},
   "outputs": [],
   "source": [
    "class OUActionNoise:\n",
    "    def __init__(self, mean, std_deviation, theta=0.15, dt=1e-2, x_initial=None):\n",
    "        self.theta = theta\n",
    "        self.mean = mean\n",
    "        self.std_dev = std_deviation\n",
    "        self.dt = dt\n",
    "        self.x_initial = x_initial\n",
    "        self.reset()\n",
    "\n",
    "    def __call__(self):\n",
    "        # Formula taken from https://www.wikipedia.org/wiki/Ornstein-Uhlenbeck_process.\n",
    "        x = (\n",
    "            self.x_prev\n",
    "            + self.theta * (self.mean - self.x_prev) * self.dt\n",
    "            + self.std_dev * np.sqrt(self.dt) * np.random.normal(size=self.mean.shape)\n",
    "        )\n",
    "        # Store x into x_prev\n",
    "        # Makes next noise dependent on current one\n",
    "        self.x_prev = x\n",
    "        return x\n",
    "\n",
    "    def reset(self):\n",
    "        if self.x_initial is not None:\n",
    "            self.x_prev = self.x_initial\n",
    "        else:\n",
    "            self.x_prev = np.zeros_like(self.mean)"
   ]
  },
  {
   "cell_type": "markdown",
   "metadata": {},
   "source": [
    "<h4>Buffer</h4>"
   ]
  },
  {
   "cell_type": "code",
   "execution_count": 992,
   "metadata": {},
   "outputs": [],
   "source": [
    "# Buffer stores experiences, when the capacity is exceeded, it starts overriding past data\n",
    "\n",
    "class Buffer:\n",
    "    def __init__(self, buffer_capacity=100000, batch_size=64):\n",
    "        # Number of \"experiences\" to store at max\n",
    "        self.buffer_capacity = buffer_capacity\n",
    "        # Num of tuples to train on.\n",
    "        self.batch_size = batch_size\n",
    "\n",
    "        # Its tells us num of times record() was called.\n",
    "        self.buffer_counter = 0\n",
    "\n",
    "        # Instead of list of tuples as the exp.replay concept go\n",
    "        # We use different np.arrays for each tuple element\n",
    "        self.state_buffer = np.zeros((self.buffer_capacity, num_states))\n",
    "        self.action_buffer = np.zeros((self.buffer_capacity, num_actions))\n",
    "        self.reward_buffer = np.zeros((self.buffer_capacity, 1))\n",
    "        self.next_state_buffer = np.zeros((self.buffer_capacity, num_states))\n",
    "\n",
    "    # Takes (s,a,r,s') obervation tuple as input\n",
    "    def record(self, obs_tuple):\n",
    "        # Set index to zero if buffer_capacity is exceeded,\n",
    "        # replacing old records\n",
    "        index = self.buffer_counter % self.buffer_capacity\n",
    "\n",
    "        self.state_buffer[index] = obs_tuple[0]\n",
    "        self.action_buffer[index] = obs_tuple[1]\n",
    "        self.reward_buffer[index] = obs_tuple[2]\n",
    "        self.next_state_buffer[index] = obs_tuple[3]\n",
    "\n",
    "        self.buffer_counter += 1\n",
    "\n",
    "    # Eager execution is turned on by default in TensorFlow 2. Decorating with tf.function allows\n",
    "    # TensorFlow to build a static graph out of the logic and computations in our function.\n",
    "    # This provides a large speed up for blocks of code that contain many small TensorFlow operations such as this one.\n",
    "    @tf.function\n",
    "    def update(\n",
    "        self, state_batch, action_batch, reward_batch, next_state_batch,\n",
    "    ):\n",
    "        # Training and updating Actor & Critic networks.\n",
    "        # See Pseudo Code.\n",
    "        with tf.GradientTape() as tape:\n",
    "            target_actions = target_actor(next_state_batch, training=True)\n",
    "            y = reward_batch + gamma * target_critic(\n",
    "                [next_state_batch, target_actions], training=True\n",
    "            )\n",
    "            critic_value = critic_model([state_batch, action_batch], training=True)\n",
    "            critic_loss = tf.math.reduce_mean(tf.math.square(y - critic_value))\n",
    "\n",
    "        critic_grad = tape.gradient(critic_loss, critic_model.trainable_variables)\n",
    "        critic_optimizer.apply_gradients(\n",
    "            zip(critic_grad, critic_model.trainable_variables)\n",
    "        )\n",
    "\n",
    "        with tf.GradientTape() as tape:\n",
    "            actions = actor_model(state_batch, training=True)\n",
    "            critic_value = critic_model([state_batch, actions], training=True)\n",
    "            # Used `-value` as we want to maximize the value given\n",
    "            # by the critic for our actions\n",
    "            actor_loss = -tf.math.reduce_mean(critic_value)\n",
    "\n",
    "        actor_grad = tape.gradient(actor_loss, actor_model.trainable_variables)\n",
    "        actor_optimizer.apply_gradients(\n",
    "            zip(actor_grad, actor_model.trainable_variables)\n",
    "        )\n",
    "\n",
    "    # We compute the loss and update parameters\n",
    "    def learn(self):\n",
    "        # Get sampling range\n",
    "        record_range = min(self.buffer_counter, self.buffer_capacity)\n",
    "        # Randomly sample indices\n",
    "        batch_indices = np.random.choice(record_range, self.batch_size)\n",
    "\n",
    "        # Convert to tensors\n",
    "        state_batch = tf.convert_to_tensor(self.state_buffer[batch_indices])\n",
    "        action_batch = tf.convert_to_tensor(self.action_buffer[batch_indices])\n",
    "        reward_batch = tf.convert_to_tensor(self.reward_buffer[batch_indices])\n",
    "        reward_batch = tf.cast(reward_batch, dtype=tf.float32)\n",
    "        next_state_batch = tf.convert_to_tensor(self.next_state_buffer[batch_indices])\n",
    "\n",
    "        self.update(state_batch, action_batch, reward_batch, next_state_batch)\n",
    "\n",
    "\n",
    "# This update target parameters slowly\n",
    "# Based on rate `tau`, which is much less than one.\n",
    "@tf.function\n",
    "def update_target(target_weights, weights, tau):\n",
    "    for (a, b) in zip(target_weights, weights):\n",
    "        a.assign(b * tau + a * (1 - tau))"
   ]
  },
  {
   "cell_type": "markdown",
   "metadata": {},
   "source": [
    "<h4>Actor + Critic</h4>"
   ]
  },
  {
   "cell_type": "code",
   "execution_count": 993,
   "metadata": {},
   "outputs": [],
   "source": [
    "def get_actor():\n",
    "    # Initialize weights between -3e-3 and 3-e3\n",
    "    last_init = tf.random_uniform_initializer(minval=-0.003, maxval=0.003)\n",
    "\n",
    "    inputs = layers.Input(shape=(num_states,))\n",
    "    out = layers.Dense(256, activation=\"relu\")(inputs)\n",
    "    out = layers.Dense(256, activation=\"relu\")(out)\n",
    "    outputs = layers.Dense(num_actions, activation=\"tanh\", kernel_initializer=last_init)(out)\n",
    "\n",
    "    # Our upper bound\n",
    "    outputs = outputs * upper_bound\n",
    "    model = tf.keras.Model(inputs, outputs)\n",
    "    return model\n",
    "\n",
    "\n",
    "def get_critic():\n",
    "    # State as input\n",
    "    state_input = layers.Input(shape=(num_states))\n",
    "    state_out = layers.Dense(16, activation=\"relu\")(state_input)\n",
    "    state_out = layers.Dense(32, activation=\"relu\")(state_out)\n",
    "\n",
    "    # Action as input\n",
    "    action_input = layers.Input(shape=(num_actions))\n",
    "    action_out = layers.Dense(32, activation=\"relu\")(action_input)\n",
    "\n",
    "    # Both are passed through seperate layer before concatenating\n",
    "    concat = layers.Concatenate()([state_out, action_out])\n",
    "\n",
    "    out = layers.Dense(256, activation=\"relu\")(concat)\n",
    "    out = layers.Dense(256, activation=\"relu\")(out)\n",
    "    outputs = layers.Dense(1)(out)\n",
    "\n",
    "    # Outputs single value for give state-action\n",
    "    model = tf.keras.Model([state_input, action_input], outputs)\n",
    "\n",
    "    return model"
   ]
  },
  {
   "cell_type": "markdown",
   "metadata": {},
   "source": [
    "<h4>Policy (take action)</h4>"
   ]
  },
  {
   "cell_type": "code",
   "execution_count": 994,
   "metadata": {},
   "outputs": [],
   "source": [
    "def policy(state, noise_object):\n",
    "    sampled_actions = tf.squeeze(actor_model(state))\n",
    "    noise = noise_object()\n",
    "    # Adding noise to action\n",
    "    sampled_actions = sampled_actions.numpy() + noise\n",
    "\n",
    "    # We make sure action is within bounds\n",
    "    legal_actions = np.clip(sampled_actions, lower_bound, upper_bound)\n",
    "\n",
    "    if num_actions == 1:\n",
    "        return [np.squeeze(legal_actions)]\n",
    "    else:\n",
    "        return legal_actions"
   ]
  },
  {
   "cell_type": "markdown",
   "metadata": {},
   "source": [
    "<h4>Initialize agent</h4>"
   ]
  },
  {
   "cell_type": "code",
   "execution_count": 995,
   "metadata": {},
   "outputs": [],
   "source": [
    "std_dev = 0.3\n",
    "ou_noise = OUActionNoise(mean=np.zeros(num_actions), std_deviation=float(std_dev) * np.ones(num_actions))\n",
    "\n",
    "# init actor\n",
    "actor_model = get_actor()\n",
    "critic_model = get_critic()\n",
    "\n",
    "# init critic\n",
    "target_actor = get_actor()\n",
    "target_critic = get_critic()\n",
    "\n",
    "# Making the weights equal initially\n",
    "target_actor.set_weights(actor_model.get_weights())\n",
    "target_critic.set_weights(critic_model.get_weights())\n",
    "\n",
    "# Learning rate for actor-critic models\n",
    "critic_optimizer = tf.keras.optimizers.Adam(lr=0.002)\n",
    "actor_optimizer = tf.keras.optimizers.Adam(lr=0.001)\n",
    "\n",
    "total_episodes = 8\n",
    "# Discount factor for future rewards\n",
    "gamma = 0.99\n",
    "# Used to update target networks\n",
    "tau = 0.005\n",
    "\n",
    "buffer = Buffer(50000, 64) # capacity, batch_size"
   ]
  },
  {
   "cell_type": "markdown",
   "metadata": {},
   "source": [
    "<h4>Initialize environment</h4>"
   ]
  },
  {
   "cell_type": "code",
   "execution_count": 996,
   "metadata": {},
   "outputs": [],
   "source": [
    "# init environment\n",
    "env = Env(num_actions, num_states)\n",
    "# init zeros for \"stock\" values for loc/sku pair\n",
    "env.init_zero_state(store_data, 4600, 720600)"
   ]
  },
  {
   "cell_type": "markdown",
   "metadata": {},
   "source": [
    "<h4>Simulate</h4>"
   ]
  },
  {
   "cell_type": "code",
   "execution_count": 997,
   "metadata": {},
   "outputs": [
    {
     "name": "stdout",
     "output_type": "stream",
     "text": [
      "Episode * 0 * Avg Reward is ==> -1566336.2499999998\n",
      "Episode * 1 * Avg Reward is ==> -782664.9999999999\n",
      "Episode * 2 * Avg Reward is ==> -521097.74999999994\n",
      "Episode * 3 * Avg Reward is ==> -390727.68749999994\n",
      "Episode * 4 * Avg Reward is ==> -312494.74999999994\n",
      "Episode * 5 * Avg Reward is ==> 841.3\n",
      "Episode * 6 * Avg Reward is ==> 735.475\n",
      "Episode * 7 * Avg Reward is ==> 396.275\n"
     ]
    }
   ],
   "source": [
    "# To store reward history of each episode\n",
    "ep_reward_list = []\n",
    "# To store average reward history of last few episodes\n",
    "avg_reward_list = []\n",
    "\n",
    "# Takes about 5 min to train\n",
    "for ep in range(total_episodes):\n",
    "\n",
    "    prev_state = env.reset()\n",
    "    episodic_reward = 0\n",
    "\n",
    "    while True:\n",
    "        \n",
    "        tf_prev_state = tf.expand_dims(tf.convert_to_tensor(prev_state), 0)\n",
    "\n",
    "        action = policy(tf_prev_state, ou_noise)\n",
    "        # Recieve state and reward from environment.\n",
    "        state, reward, done = env.step(action)\n",
    "\n",
    "        buffer.record((prev_state, action, reward, state))\n",
    "        episodic_reward += reward\n",
    "\n",
    "        buffer.learn()\n",
    "        update_target(target_actor.variables, actor_model.variables, tau)\n",
    "        update_target(target_critic.variables, critic_model.variables, tau)\n",
    "\n",
    "        # End this episode when `done` is True\n",
    "        if done:\n",
    "            break\n",
    "\n",
    "        prev_state = state\n",
    "\n",
    "    ep_reward_list.append(episodic_reward)\n",
    "\n",
    "    # Mean of last N episodes\n",
    "    avg_reward = np.mean(ep_reward_list[-5:])\n",
    "    print(\"Episode * {} * Avg Reward is ==> {}\".format(ep, avg_reward))\n",
    "    avg_reward_list.append(avg_reward)"
   ]
  },
  {
   "cell_type": "code",
   "execution_count": 998,
   "metadata": {},
   "outputs": [
    {
     "data": {
      "image/png": "[encoded data removed]",
      "text/plain": [
       "<Figure size 1152x288 with 1 Axes>"
      ]
     },
     "metadata": {
      "needs_background": "light"
     },
     "output_type": "display_data"
    }
   ],
   "source": [
    "# Plotting graph\n",
    "# Episodes versus Avg. Rewards\n",
    "plt.figure(figsize=(16,4));\n",
    "plt.plot(avg_reward_list);\n",
    "plt.xlabel(\"Episode\")\n",
    "plt.ylabel(\"Avg. Epsiodic Reward\")\n",
    "plt.show()"
   ]
  },
  {
   "cell_type": "markdown",
   "metadata": {},
   "source": [
    "<h2>Validation</h2>"
   ]
  },
  {
   "cell_type": "code",
   "execution_count": 999,
   "metadata": {},
   "outputs": [],
   "source": [
    "# init environment\n",
    "env = Env(num_actions, num_states)\n",
    "# init start state \"stock\" values for loc/sku pair\n",
    "env.init_zero_state(store_data, 4600, 720600)"
   ]
  },
  {
   "cell_type": "code",
   "execution_count": 1000,
   "metadata": {},
   "outputs": [
    {
     "name": "stdout",
     "output_type": "stream",
     "text": [
      "338.875\n"
     ]
    }
   ],
   "source": [
    "# VALIDATION\n",
    "\n",
    "total_reward = 0\n",
    "action_history = []\n",
    "\n",
    "\n",
    "start_day_n = 0\n",
    "#move to observation\n",
    "prev_state = env.reset(start_day_n)\n",
    "\n",
    "done = False\n",
    "while not done:\n",
    "    \n",
    "    tf_prev_state = tf.expand_dims(tf.convert_to_tensor(prev_state), 0)\n",
    "    \n",
    "    # get action\n",
    "    action = policy(tf_prev_state, lambda: 0) # noise = 0 on validation\n",
    "    # Recieve state and reward from environment.\n",
    "    state, reward, done = env.step(action)\n",
    "    # update total reward\n",
    "    total_reward += reward\n",
    "    \n",
    "    #print(action, 'demand, stock:', prev_state)\n",
    "    \n",
    "    action_history.append(action[0])\n",
    "    \n",
    "    \n",
    "    prev_state = state\n",
    "    \n",
    "print(total_reward)"
   ]
  },
  {
   "cell_type": "code",
   "execution_count": 1001,
   "metadata": {},
   "outputs": [
    {
     "data": {
      "image/png": "[encoded data removed]",
      "text/plain": [
       "<Figure size 1152x288 with 1 Axes>"
      ]
     },
     "metadata": {
      "needs_background": "light"
     },
     "output_type": "display_data"
    }
   ],
   "source": [
    "action_history = np.array(action_history)\n",
    "plt.figure(figsize=(16,4))\n",
    "plt.plot(action_history[~(action_history == 0)][:100])\n",
    "plt.title('Next order request from agent');"
   ]
  },
  {
   "cell_type": "code",
   "execution_count": null,
   "metadata": {},
   "outputs": [],
   "source": []
  },
  {
   "cell_type": "code",
   "execution_count": null,
   "metadata": {},
   "outputs": [],
   "source": []
  },
  {
   "cell_type": "code",
   "execution_count": null,
   "metadata": {},
   "outputs": [],
   "source": []
  }
 ],
 "metadata": {
  "kernelspec": {
   "display_name": "Python 3.6.5 64-bit ('base': conda)",
   "language": "python",
   "name": "python36564bitbaseconda4db4657131b6427e8cce7e3834bee618"
  },
  "language_info": {
   "codemirror_mode": {
    "name": "ipython",
    "version": 3
   },
   "file_extension": ".py",
   "mimetype": "text/x-python",
   "name": "python",
   "nbconvert_exporter": "python",
   "pygments_lexer": "ipython3",
   "version": "3.6.5"
  }
 },
 "nbformat": 4,
 "nbformat_minor": 2
}
