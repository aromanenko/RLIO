{
 "cells": [
  {
   "cell_type": "code",
   "execution_count": 0,
   "metadata": {
    "colab": {
     "base_uri": "https://localhost:8080/",
     "height": 34
    },
    "colab_type": "code",
    "executionInfo": {
     "elapsed": 630,
     "status": "ok",
     "timestamp": 1582023771711,
     "user": {
      "displayName": "Demon Veen",
      "photoUrl": "https://lh3.googleusercontent.com/a-/AAuE7mB38Y-utqUuhX6xI67A7QNwN5Bwg9g-rFdthG1HqQ=s64",
      "userId": "11570074803313430802"
     },
     "user_tz": -180
    },
    "id": "glwha0LxZrRC",
    "outputId": "19dc1dbd-ba5f-4b29-c9d0-bcc10f499c20"
   },
   "outputs": [
    {
     "name": "stdout",
     "output_type": "stream",
     "text": [
      "Drive already mounted at /content/gdrive; to attempt to forcibly remount, call drive.mount(\"/content/gdrive\", force_remount=True).\n"
     ]
    }
   ],
   "source": [
    "from google.colab import drive \n",
    "drive.mount('/content/gdrive')"
   ]
  },
  {
   "cell_type": "code",
   "execution_count": 0,
   "metadata": {
    "colab": {},
    "colab_type": "code",
    "id": "SmE2PpKf7mwQ"
   },
   "outputs": [],
   "source": [
    "import numpy as np\n",
    "import pandas as pd\n",
    "%matplotlib inline"
   ]
  },
  {
   "cell_type": "markdown",
   "metadata": {
    "colab_type": "text",
    "id": "XuQ7oLIZfGpW"
   },
   "source": [
    "Order_UpTo_Level(SKU, ТТ) - политика пополнения (S)\n",
    "<br>ReOrder_Level(SKU, ТТ) - политика пополнения (s)\n",
    "<br>(Возможное представление — Dataframe)"
   ]
  },
  {
   "cell_type": "code",
   "execution_count": 0,
   "metadata": {
    "colab": {},
    "colab_type": "code",
    "id": "v8ECFJhwZ0Hd"
   },
   "outputs": [],
   "source": [
    "OUL = 1 # Order Upto Level\n",
    "ROL = 0 # Re-Order Level\n",
    "Delta = OUL - ROL # Delta = Order_UpTo_Level - ReOrder_Level (S-s)"
   ]
  },
  {
   "cell_type": "markdown",
   "metadata": {
    "colab_type": "text",
    "id": "5hwfT-Wgl4Os"
   },
   "source": [
    "# Восстановление спроса"
   ]
  },
  {
   "cell_type": "markdown",
   "metadata": {
    "colab_type": "text",
    "id": "Fa1wEY-LbEQN"
   },
   "source": [
    "Используем обучающие данные из файла data.zip, чтобы научиться восстанавливать спрос."
   ]
  },
  {
   "cell_type": "code",
   "execution_count": 0,
   "metadata": {
    "colab": {
     "base_uri": "https://localhost:8080/"
    },
    "colab_type": "code",
    "executionInfo": {
     "elapsed": 2264,
     "status": "ok",
     "timestamp": 1582023777886,
     "user": {
      "displayName": "Demon Veen",
      "photoUrl": "https://lh3.googleusercontent.com/a-/AAuE7mB38Y-utqUuhX6xI67A7QNwN5Bwg9g-rFdthG1HqQ=s64",
      "userId": "11570074803313430802"
     },
     "user_tz": -180
    },
    "id": "qicn9sYybDpY",
    "outputId": "773e98a1-1c25-4e77-97b5-f052716dd642"
   },
   "outputs": [
    {
     "data": {
      "text/html": [
       "<div>\n",
       "<style scoped>\n",
       "    .dataframe tbody tr th:only-of-type {\n",
       "        vertical-align: middle;\n",
       "    }\n",
       "\n",
       "    .dataframe tbody tr th {\n",
       "        vertical-align: top;\n",
       "    }\n",
       "\n",
       "    .dataframe thead th {\n",
       "        text-align: right;\n",
       "    }\n",
       "</style>\n",
       "<table border=\"1\" class=\"dataframe\">\n",
       "  <thead>\n",
       "    <tr style=\"text-align: right;\">\n",
       "      <th></th>\n",
       "      <th>purchase_date</th>\n",
       "      <th>shop_id</th>\n",
       "      <th>product_id</th>\n",
       "      <th>price</th>\n",
       "      <th>sales</th>\n",
       "      <th>price_after_discount</th>\n",
       "    </tr>\n",
       "    <tr>\n",
       "      <th>Timestamp</th>\n",
       "      <th></th>\n",
       "      <th></th>\n",
       "      <th></th>\n",
       "      <th></th>\n",
       "      <th></th>\n",
       "      <th></th>\n",
       "    </tr>\n",
       "  </thead>\n",
       "  <tbody>\n",
       "    <tr>\n",
       "      <th>2013-01-02</th>\n",
       "      <td>2013-01-02</td>\n",
       "      <td>4001</td>\n",
       "      <td>4100024369</td>\n",
       "      <td>1480</td>\n",
       "      <td>1</td>\n",
       "      <td>1480.0</td>\n",
       "    </tr>\n",
       "    <tr>\n",
       "      <th>2013-01-02</th>\n",
       "      <td>2013-01-02</td>\n",
       "      <td>4001</td>\n",
       "      <td>4100024794</td>\n",
       "      <td>2807</td>\n",
       "      <td>1</td>\n",
       "      <td>2807.0</td>\n",
       "    </tr>\n",
       "    <tr>\n",
       "      <th>2013-01-02</th>\n",
       "      <td>2013-01-02</td>\n",
       "      <td>4001</td>\n",
       "      <td>4100028657</td>\n",
       "      <td>979</td>\n",
       "      <td>1</td>\n",
       "      <td>979.0</td>\n",
       "    </tr>\n",
       "    <tr>\n",
       "      <th>2013-01-02</th>\n",
       "      <td>2013-01-02</td>\n",
       "      <td>4001</td>\n",
       "      <td>4300000205</td>\n",
       "      <td>3319</td>\n",
       "      <td>1</td>\n",
       "      <td>3319.0</td>\n",
       "    </tr>\n",
       "    <tr>\n",
       "      <th>2013-01-02</th>\n",
       "      <td>2013-01-02</td>\n",
       "      <td>4001</td>\n",
       "      <td>4300007581</td>\n",
       "      <td>1899</td>\n",
       "      <td>1</td>\n",
       "      <td>1899.0</td>\n",
       "    </tr>\n",
       "  </tbody>\n",
       "</table>\n",
       "</div>"
      ],
      "text/plain": [
       "           purchase_date  shop_id  ...  sales  price_after_discount\n",
       "Timestamp                          ...                             \n",
       "2013-01-02    2013-01-02     4001  ...      1                1480.0\n",
       "2013-01-02    2013-01-02     4001  ...      1                2807.0\n",
       "2013-01-02    2013-01-02     4001  ...      1                 979.0\n",
       "2013-01-02    2013-01-02     4001  ...      1                3319.0\n",
       "2013-01-02    2013-01-02     4001  ...      1                1899.0\n",
       "\n",
       "[5 rows x 6 columns]"
      ]
     },
     "execution_count": 5,
     "metadata": {
      "tags": []
     },
     "output_type": "execute_result"
    }
   ],
   "source": [
    "sales = pd.read_csv('/content/gdrive/My Drive/A Reinforcement Learning Approach for Inventory Optimization in Retail/DemandRestoring_v0/data/sales_4001.csv', sep=',', decimal='.')\n",
    "sales['Timestamp'] = pd.to_datetime(sales[u'purchase_date'])\n",
    "sales = sales.set_index(['Timestamp'], drop=True).rename(columns={'quantity':'sales'})\n",
    "sales.head()"
   ]
  },
  {
   "cell_type": "code",
   "execution_count": 0,
   "metadata": {
    "colab": {
     "base_uri": "https://localhost:8080/",
     "height": 235
    },
    "colab_type": "code",
    "executionInfo": {
     "elapsed": 616,
     "status": "ok",
     "timestamp": 1581966168960,
     "user": {
      "displayName": "Demon Veen",
      "photoUrl": "https://lh3.googleusercontent.com/a-/AAuE7mB38Y-utqUuhX6xI67A7QNwN5Bwg9g-rFdthG1HqQ=s64",
      "userId": "11570074803313430802"
     },
     "user_tz": -180
    },
    "id": "ZyIRk2sLbvbE",
    "outputId": "bd4a9a5b-dc35-42f8-d57a-5158c056221a"
   },
   "outputs": [
    {
     "data": {
      "text/html": [
       "<div>\n",
       "<style scoped>\n",
       "    .dataframe tbody tr th:only-of-type {\n",
       "        vertical-align: middle;\n",
       "    }\n",
       "\n",
       "    .dataframe tbody tr th {\n",
       "        vertical-align: top;\n",
       "    }\n",
       "\n",
       "    .dataframe thead th {\n",
       "        text-align: right;\n",
       "    }\n",
       "</style>\n",
       "<table border=\"1\" class=\"dataframe\">\n",
       "  <thead>\n",
       "    <tr style=\"text-align: right;\">\n",
       "      <th></th>\n",
       "      <th>shop_id</th>\n",
       "      <th>product_id</th>\n",
       "      <th>updated_at</th>\n",
       "      <th>inventory</th>\n",
       "    </tr>\n",
       "    <tr>\n",
       "      <th>Timestamp</th>\n",
       "      <th></th>\n",
       "      <th></th>\n",
       "      <th></th>\n",
       "      <th></th>\n",
       "    </tr>\n",
       "  </thead>\n",
       "  <tbody>\n",
       "    <tr>\n",
       "      <th>2015-08-31</th>\n",
       "      <td>4001</td>\n",
       "      <td>4300059161</td>\n",
       "      <td>2015-08-31</td>\n",
       "      <td>0</td>\n",
       "    </tr>\n",
       "    <tr>\n",
       "      <th>2016-01-02</th>\n",
       "      <td>4001</td>\n",
       "      <td>4300059161</td>\n",
       "      <td>2016-01-02</td>\n",
       "      <td>0</td>\n",
       "    </tr>\n",
       "    <tr>\n",
       "      <th>2015-08-31</th>\n",
       "      <td>4001</td>\n",
       "      <td>4300059161</td>\n",
       "      <td>2015-08-31</td>\n",
       "      <td>1</td>\n",
       "    </tr>\n",
       "    <tr>\n",
       "      <th>2013-04-17</th>\n",
       "      <td>4001</td>\n",
       "      <td>4300051009</td>\n",
       "      <td>2013-04-17</td>\n",
       "      <td>1</td>\n",
       "    </tr>\n",
       "    <tr>\n",
       "      <th>2013-08-11</th>\n",
       "      <td>4001</td>\n",
       "      <td>4300051009</td>\n",
       "      <td>2013-08-11</td>\n",
       "      <td>0</td>\n",
       "    </tr>\n",
       "  </tbody>\n",
       "</table>\n",
       "</div>"
      ],
      "text/plain": [
       "            shop_id  product_id  updated_at  inventory\n",
       "Timestamp                                             \n",
       "2015-08-31     4001  4300059161  2015-08-31          0\n",
       "2016-01-02     4001  4300059161  2016-01-02          0\n",
       "2015-08-31     4001  4300059161  2015-08-31          1\n",
       "2013-04-17     4001  4300051009  2013-04-17          1\n",
       "2013-08-11     4001  4300051009  2013-08-11          0"
      ]
     },
     "execution_count": 309,
     "metadata": {
      "tags": []
     },
     "output_type": "execute_result"
    }
   ],
   "source": [
    "inventory = pd.read_csv('/content/gdrive/My Drive/A Reinforcement Learning Approach for Inventory Optimization in Retail/DemandRestoring_v0/data/remains_4001.csv', sep=',', decimal='.')\n",
    "inventory['Timestamp'] = pd.to_datetime(inventory[u'updated_at'])\n",
    "inventory = inventory.set_index(['Timestamp'], drop=True).rename(columns={'quantity':'inventory'})\n",
    "# inventory = inventory.sort_index()\n",
    "inventory.head()"
   ]
  },
  {
   "cell_type": "markdown",
   "metadata": {
    "colab_type": "text",
    "id": "izcaPzC8eRat"
   },
   "source": [
    "В качестве списка всех магазинов и товаров используем информацию об остатках, так как при наличии записи о ненулевом остатке в inventory можно говорить об нулевых продажах в sales."
   ]
  },
  {
   "cell_type": "code",
   "execution_count": 0,
   "metadata": {
    "colab": {
     "base_uri": "https://localhost:8080/",
     "height": 51
    },
    "colab_type": "code",
    "executionInfo": {
     "elapsed": 533,
     "status": "ok",
     "timestamp": 1581959921413,
     "user": {
      "displayName": "Demon Veen",
      "photoUrl": "https://lh3.googleusercontent.com/a-/AAuE7mB38Y-utqUuhX6xI67A7QNwN5Bwg9g-rFdthG1HqQ=s64",
      "userId": "11570074803313430802"
     },
     "user_tz": -180
    },
    "id": "vnA_ln1rbzC8",
    "outputId": "0451b410-c6c1-41ff-eaa6-82c46a3be1c9"
   },
   "outputs": [
    {
     "name": "stdout",
     "output_type": "stream",
     "text": [
      "1 [4001]\n",
      "14466 [4100000013 4100000017 4100000029 ... 4900005059 4900005473 4900005475]\n"
     ]
    }
   ],
   "source": [
    "shops = np.sort(inventory['shop_id'].unique())\n",
    "print(len(shops), shops)\n",
    "\n",
    "products = np.sort(inventory['product_id'].unique())\n",
    "print(len(products), products)"
   ]
  },
  {
   "cell_type": "markdown",
   "metadata": {
    "colab_type": "text",
    "id": "eMzZa3ETfgyc"
   },
   "source": [
    "Для каждого товара в каждом магазине расчитаем lambda.\n",
    "\n"
   ]
  },
  {
   "cell_type": "code",
   "execution_count": 0,
   "metadata": {
    "colab": {
     "base_uri": "https://localhost:8080/",
     "height": 49
    },
    "colab_type": "code",
    "executionInfo": {
     "elapsed": 587,
     "status": "ok",
     "timestamp": 1581972694695,
     "user": {
      "displayName": "Demon Veen",
      "photoUrl": "https://lh3.googleusercontent.com/a-/AAuE7mB38Y-utqUuhX6xI67A7QNwN5Bwg9g-rFdthG1HqQ=s64",
      "userId": "11570074803313430802"
     },
     "user_tz": -180
    },
    "id": "I21IMPqjfbkZ",
    "outputId": "a11111c3-b7f0-4d4f-8a88-e5ea37df9b10"
   },
   "outputs": [
    {
     "data": {
      "text/html": [
       "<div>\n",
       "<style scoped>\n",
       "    .dataframe tbody tr th:only-of-type {\n",
       "        vertical-align: middle;\n",
       "    }\n",
       "\n",
       "    .dataframe tbody tr th {\n",
       "        vertical-align: top;\n",
       "    }\n",
       "\n",
       "    .dataframe thead th {\n",
       "        text-align: right;\n",
       "    }\n",
       "</style>\n",
       "<table border=\"1\" class=\"dataframe\">\n",
       "  <thead>\n",
       "    <tr style=\"text-align: right;\">\n",
       "      <th></th>\n",
       "      <th>shop_id</th>\n",
       "      <th>product_id</th>\n",
       "      <th>month</th>\n",
       "      <th>lambda</th>\n",
       "    </tr>\n",
       "  </thead>\n",
       "  <tbody>\n",
       "  </tbody>\n",
       "</table>\n",
       "</div>"
      ],
      "text/plain": [
       "Empty DataFrame\n",
       "Columns: [shop_id, product_id, month, lambda]\n",
       "Index: []"
      ]
     },
     "execution_count": 412,
     "metadata": {
      "tags": []
     },
     "output_type": "execute_result"
    }
   ],
   "source": [
    "lambda_data = pd.DataFrame(columns=['shop_id', 'product_id', 'month', 'lambda'])\n",
    "lambda_data"
   ]
  },
  {
   "cell_type": "code",
   "execution_count": 0,
   "metadata": {
    "colab": {
     "base_uri": "https://localhost:8080/",
     "height": 85
    },
    "colab_type": "code",
    "executionInfo": {
     "elapsed": 590,
     "status": "ok",
     "timestamp": 1581966998799,
     "user": {
      "displayName": "Demon Veen",
      "photoUrl": "https://lh3.googleusercontent.com/a-/AAuE7mB38Y-utqUuhX6xI67A7QNwN5Bwg9g-rFdthG1HqQ=s64",
      "userId": "11570074803313430802"
     },
     "user_tz": -180
    },
    "id": "nlE8yCakjWEZ",
    "outputId": "f3c51152-534d-405a-a628-fbf800ca2c33"
   },
   "outputs": [
    {
     "name": "stdout",
     "output_type": "stream",
     "text": [
      "sum_k:  1.0\n",
      "n_k_less_m:  179\n",
      "n_k_equal_m:  1\n",
      "LAMBDA: 0.005555555555555556\n"
     ]
    }
   ],
   "source": [
    "shop_id = 4001\n",
    "product_id = 4100000013\n",
    "\n",
    "# inventory = inventory[(inventory['product_id'] == product_id) & (inventory['shop_id'] == shop_id)]\n",
    "# inventory[(inventory['product_id'] == product_id) & (inventory['shop_id'] == shop_id)]\n",
    "\n",
    "# Агрегируем на всякий случай остатки на одну дату (берём максимально известный остаток за дату)\n",
    "iv_ts = inventory.reset_index().groupby('Timestamp').agg({'inventory':np.max})\n",
    "\n",
    "# Добавим пропущенные даты и заполним значения остатков в эти даты нулями\n",
    "iv_ts = iv_ts.reindex(pd.date_range(np.min(iv_ts.index), np.max(iv_ts.index))).fillna(method='ffill')\n",
    "\n",
    "# Добавим данные о продажах\n",
    "sales_ts = sales[(sales['product_id'] == product_id) & (sales['shop_id'] == shop_id)]\n",
    "\n",
    "# Объединим продажи и остатки в один датафрейм\n",
    "iv_sales = sales_ts[['sales']].merge(iv_ts, how='right', left_index=True, right_index=True)\n",
    "iv_sales['sales'].fillna(0, inplace=True)\n",
    "\n",
    "# Удалим начало и \"хвост\" истории, когда продажи и остатки были равны нулю\n",
    "positive_iv_sales = iv_sales[iv_sales.max(axis=1) > 0]\n",
    "life_start_date = positive_iv_sales.index[0]\n",
    "life_end_date = positive_iv_sales.index[-1]\n",
    "iv_sales = iv_sales[(iv_sales.index >= life_start_date) & (iv_sales.index <= life_end_date)] \n",
    "\n",
    "# Дни, когда и остатки и продажи = нулю\n",
    "zero_idx = (iv_sales['inventory'] == 0) & (iv_sales['sales'] == 0)\n",
    "# Дни, когда продажи = остаткам\n",
    "sales_equal_inv_idx = (iv_sales['inventory'] == iv_sales['sales']) \n",
    "# Дни, когда продажи >= остаткам\n",
    "sales_greater_i_idx = (iv_sales['inventory'] <= iv_sales['sales']) \n",
    "\n",
    "# Суммарные продажи товара в данном магазине\n",
    "sum_k = iv_sales['sales'].sum()\n",
    "# Количество дней, когда продажи были меньше остатка\n",
    "n_k_less_m = iv_sales['sales'][(~zero_idx) & (~sales_greater_i_idx)].count()\n",
    "# Количество дней, когда продажи были равны остатку (все распродано)\n",
    "n_k_equal_m = iv_sales['sales'][(~zero_idx) & sales_greater_i_idx].count()\n",
    "\n",
    "alpha = 1\n",
    "LAMBDA = sum_k / (n_k_less_m + alpha * n_k_equal_m)\n",
    "\n",
    "print('sum_k: ', sum_k)\n",
    "print('n_k_less_m: ', n_k_less_m)\n",
    "print('n_k_equal_m: ', n_k_equal_m)\n",
    "print('LAMBDA:', LAMBDA)"
   ]
  },
  {
   "cell_type": "code",
   "execution_count": 1,
   "metadata": {},
   "outputs": [],
   "source": [
    "def kernel_default(x,y):\n",
    "    return 1"
   ]
  },
  {
   "cell_type": "code",
   "execution_count": 0,
   "metadata": {
    "colab": {},
    "colab_type": "code",
    "id": "qhU8diiPf2JQ"
   },
   "outputs": [],
   "source": [
    "def DemandRestoring(shop_id, product_id, kernel = kernel_default):\n",
    "    # inventory = inventory[(inventory['product_id'] == product_id) & (inventory['shop_id'] == shop_id)]\n",
    "    # inventory[(inventory['product_id'] == product_id) & (inventory['shop_id'] == shop_id)]\n",
    "\n",
    "    # Агрегируем на всякий случай остатки на одну дату (берём максимально известный остаток за дату)\n",
    "    iv_ts = inventory.reset_index().groupby('Timestamp').agg({'inventory':np.max})\n",
    "\n",
    "    # Добавим пропущенные даты и заполним значения остатков в эти даты нулями\n",
    "    iv_ts = iv_ts.reindex(pd.date_range(np.min(iv_ts.index), np.max(iv_ts.index))).fillna(method='ffill')\n",
    "\n",
    "    # Добавим данные о продажах\n",
    "    sales_ts = sales[(sales['product_id'] == product_id) & (sales['shop_id'] == shop_id)]\n",
    "\n",
    "    # Объединим продажи и остатки в один датафрейм\n",
    "    iv_sales = sales_ts[['sales']].merge(iv_ts, how='right', left_index=True, right_index=True)\n",
    "    iv_sales['sales'].fillna(0, inplace=True)\n",
    "\n",
    "    # Удалим начало и \"хвост\" истории, когда продажи и остатки были равны нулю\n",
    "    positive_iv_sales = iv_sales[iv_sales.max(axis=1) > 0]\n",
    "    life_start_date = positive_iv_sales.index[0]\n",
    "    life_end_date = positive_iv_sales.index[-1]\n",
    "    iv_sales = iv_sales[(iv_sales.index >= life_start_date) & (iv_sales.index <= life_end_date)] \n",
    "\n",
    "    # Дни, когда и остатки и продажи = нулю\n",
    "    zero_idx = (iv_sales['inventory'] == 0) & (iv_sales['sales'] == 0)\n",
    "    # Дни, когда продажи = остаткам\n",
    "    sales_equal_inv_idx = (iv_sales['inventory'] == iv_sales['sales']) \n",
    "    # Дни, когда продажи >= остаткам\n",
    "    sales_greater_i_idx = (iv_sales['inventory'] <= iv_sales['sales']) \n",
    "\n",
    "    # вычисление веса для каждого периода, когда наблюдался дефицит \n",
    "    iv_sales['LAMBDA'] = np.NaN\n",
    "    for oos_day in zero_idx:\n",
    "        iv_sales['weights'] = [kernel(iv_sales.index[oos_day], iv_sales.index[x]) for x in iv_sales.index] \n",
    "\n",
    "        # Суммарные продажи товара в данном магазине\n",
    "        iv_sales['scalar'] = iv_sales['sales'][(~zero_idx)]*iv_sales['weights'][(~zero_idx)]\n",
    "        sum_k = iv_sales['scalar'].sum()\n",
    "        \n",
    "        #   sum_k = iv_sales['sales'].sum()\n",
    "        # Количество дней, когда продажи были меньше остатка\n",
    "#         n_k_less_m = iv_sales['sales'][(~zero_idx) & (~sales_greater_i_idx)].count()\n",
    "        n_k_less_m = iv_sales['weights'][(~zero_idx) & (~sales_greater_i_idx)].sum()\n",
    "        # Количество дней, когда продажи были равны остатку (все распродано)\n",
    "#         n_k_equal_m = iv_sales['sales'][(~zero_idx) & sales_greater_i_idx].count()\n",
    "        n_k_equal_m = iv_sales['weights'][(~zero_idx) & sales_greater_i_idx].sum()\n",
    "\n",
    "        alpha = 1 # Возможно проапгрейдить\n",
    "        iv_sales['LAMBDA'][oss_day] = sum_k / (n_k_less_m + alpha * n_k_equal_m)\n",
    "\n",
    "return LAMBDA"
   ]
  },
  {
   "cell_type": "code",
   "execution_count": 0,
   "metadata": {
    "colab": {},
    "colab_type": "code",
    "id": "SMFhm5zUcwFn"
   },
   "outputs": [],
   "source": [
    "for shop_id in shops:\n",
    "    for product_id in products:\n",
    "    LAMBDA = DemandRestoring(shop_id, product_id)\n",
    "    lambda_data = lambda_data.append({'shop_id': shop_id, 'product_id': product_id, 'month': 1, 'lambda': LAMBDA}, ignore_index=True)"
   ]
  },
  {
   "cell_type": "code",
   "execution_count": 0,
   "metadata": {
    "colab": {},
    "colab_type": "code",
    "id": "X7U0mgCHcv8w"
   },
   "outputs": [],
   "source": [
    "# LAMBDA = DemandRestoring(shop_id, product_id)\n",
    "# lambda_data = lambda_data.append({'shop_id': shop_id, 'product_id': product_id, 'month': 1, 'lambda': LAMBDA}, ignore_index=True)\n",
    "# lambda_data"
   ]
  },
  {
   "cell_type": "code",
   "execution_count": 0,
   "metadata": {
    "colab": {},
    "colab_type": "code",
    "id": "kat2E2B-noV0"
   },
   "outputs": [],
   "source": [
    "lambda_data[['shop_id', 'product_id', 'month']] = lambda_data[['shop_id', 'product_id', 'month']].astype('int64')\n",
    "lambda_data['lambda'] = lambda_data['lambda'].astype('float64')\n",
    "lambda_data"
   ]
  },
  {
   "cell_type": "code",
   "execution_count": 0,
   "metadata": {
    "colab": {},
    "colab_type": "code",
    "id": "LRnwmQ07cv6r"
   },
   "outputs": [],
   "source": [
    "export_lambda_csv = lambda_data.to_csv('/content/gdrive/My Drive/A Reinforcement Learning Approach for Inventory Optimization in Retail/DemandRestoring_v0/data/lambda_data.csv', sep=',', decimal='.')"
   ]
  },
  {
   "cell_type": "markdown",
   "metadata": {
    "colab_type": "text",
    "id": "9YgW9DAabpMg"
   },
   "source": [
    "Можно сразу подгрузить посчитанную lambda."
   ]
  },
  {
   "cell_type": "code",
   "execution_count": 0,
   "metadata": {
    "colab": {},
    "colab_type": "code",
    "id": "hBk1a3toaA8L"
   },
   "outputs": [],
   "source": [
    "lambda_data = pd.read_csv('/content/gdrive/My Drive/A Reinforcement Learning Approach for Inventory Optimization in Retail/DemandRestoring_v0/data/lambda_data.csv', sep=',', decimal='.')"
   ]
  },
  {
   "cell_type": "markdown",
   "metadata": {
    "colab_type": "text",
    "id": "1wjR1J6XcE4_"
   },
   "source": [
    "# Остальные составляющие среды"
   ]
  },
  {
   "cell_type": "markdown",
   "metadata": {
    "colab_type": "text",
    "id": "QQQ6C589dJSG"
   },
   "source": [
    "Order(SKU, ТТ)_t - это количество товаров,отправка которого инициировано соответствующим Recommended_Order(SKU, ТТ)_t, которое финально доедет и будет выставлено на полку в магазин.\n",
    "\n",
    "Order(SKU, ТТ)_t и Recommended_Order_t в этих обозначениях _t - дата, когда сформировались данные объёмы.\n",
    "\n",
    "State: (Stock(SKU, ТТ)_j, Sales(SKU, ТТ)_j, Demand(SKU, ТТ)_j, Orders_Pipeline(SKU, ТТ): [Order_t, Ordrer_t-n, Order_t-m, Order_t-p], n<m<p) period t1-t2\n",
    "\n",
    "Хранить Stock, Sales и Demand как dataframe?\n",
    "\n",
    "LT = 1\n",
    "\n",
    "Важно: в State продаж (Sales) и остатки (Stock) - модельные (нужно моделировать. Те, Sales и Stock, что пришли в данных от заказчика (как результат работы реальной системы) - нужны только для восстановления спрос"
   ]
  },
  {
   "cell_type": "code",
   "execution_count": 0,
   "metadata": {
    "colab": {},
    "colab_type": "code",
    "id": "epB2X9aemQCL"
   },
   "outputs": [],
   "source": [
    "sales_data = pd.DataFrame(columns=['purchase_date',\t'shop_id', 'product_id', 'price',\t'sales'])\n",
    "stock_data = pd.DataFrame(columns=['shop_id', 'product_id', 'updated_at',\t'inventory'])"
   ]
  },
  {
   "cell_type": "markdown",
   "metadata": {
    "colab_type": "text",
    "id": "hUzUvNYAcbXk"
   },
   "source": [
    "Рекомендация к заказу: Recommend_Order_t = OUL - (INV + Orders_t - 1), IF Inv_t <= ROL 0, otherwise."
   ]
  },
  {
   "cell_type": "code",
   "execution_count": 0,
   "metadata": {
    "colab": {},
    "colab_type": "code",
    "id": "hulWjopFcVa_"
   },
   "outputs": [],
   "source": [
    "rec_order = [0]\n",
    "order = [0]\n",
    "inv = [0, 0]\n",
    "\n",
    "for t in range(1, 2):\n",
    "  if inv[t] <= ROL:\n",
    "    rec_order.append(OUL - inv[t] - order[t - 1])\n",
    "  else:\n",
    "    rec_order.append(0)\n",
    "\n",
    "print(rec_order)"
   ]
  },
  {
   "cell_type": "markdown",
   "metadata": {
    "colab_type": "text",
    "id": "d3oW6QbVcfbP"
   },
   "source": [
    "recommend_order - наша рекомендация к заказу\n",
    "<br>order - объем получаемого заказа\n",
    "\n",
    "order = F(recommend_order_t, alpha_order)\n",
    "<br>1)order <= recommend_order_t \n",
    "<br>2)$\\sum_{sku}$ E(order_{sku,t}) = alpha_order * E(recommend_order_{sku,t})\n",
    "\n",
    "inv[t] = max(inv[t - 1] + order_come[t] - demand(m), 0)\n",
    "<br>sales = max(demand(m), inv[t - 1] + order_come[t])"
   ]
  },
  {
   "cell_type": "code",
   "execution_count": 0,
   "metadata": {
    "colab": {},
    "colab_type": "code",
    "id": "MzQts5n_cpyP"
   },
   "outputs": [],
   "source": [
    "from math import ceil\n",
    "from scipy.stats import chi\n",
    "\n",
    "rec_order = 10\n",
    "alpha_order = 0.3\n",
    "\n",
    "order = np.random.uniform(rec_order * alpha_order, rec_order, 5)\n",
    "print(order)"
   ]
  },
  {
   "cell_type": "markdown",
   "metadata": {
    "colab_type": "text",
    "id": "S0jzOUbulfd_"
   },
   "source": [
    "# Красивый вариант рассчета с использованием датафреймов (in progress)"
   ]
  },
  {
   "cell_type": "markdown",
   "metadata": {
    "colab_type": "text",
    "id": "ZFsWMXqspbxf"
   },
   "source": [
    "0 bold text Объединим bold text два датафрейма sales и inventory в один (причем будем объединять только по ненулевым параметрам). "
   ]
  },
  {
   "cell_type": "code",
   "execution_count": 0,
   "metadata": {
    "colab": {
     "base_uri": "https://localhost:8080/",
     "height": 204
    },
    "colab_type": "code",
    "executionInfo": {
     "elapsed": 648,
     "status": "ok",
     "timestamp": 1581947672281,
     "user": {
      "displayName": "Demon Veen",
      "photoUrl": "https://lh3.googleusercontent.com/a-/AAuE7mB38Y-utqUuhX6xI67A7QNwN5Bwg9g-rFdthG1HqQ=s64",
      "userId": "11570074803313430802"
     },
     "user_tz": -180
    },
    "id": "K9tqwDok776C",
    "outputId": "3f3f9d90-3a9e-47bf-b1e1-0c37eb7345be"
   },
   "outputs": [
    {
     "data": {
      "text/html": [
       "<div>\n",
       "<style scoped>\n",
       "    .dataframe tbody tr th:only-of-type {\n",
       "        vertical-align: middle;\n",
       "    }\n",
       "\n",
       "    .dataframe tbody tr th {\n",
       "        vertical-align: top;\n",
       "    }\n",
       "\n",
       "    .dataframe thead th {\n",
       "        text-align: right;\n",
       "    }\n",
       "</style>\n",
       "<table border=\"1\" class=\"dataframe\">\n",
       "  <thead>\n",
       "    <tr style=\"text-align: right;\">\n",
       "      <th></th>\n",
       "      <th>purchase_date</th>\n",
       "      <th>shop_id</th>\n",
       "      <th>product_id</th>\n",
       "      <th>sales</th>\n",
       "      <th>updated_at</th>\n",
       "      <th>inventory</th>\n",
       "    </tr>\n",
       "  </thead>\n",
       "  <tbody>\n",
       "    <tr>\n",
       "      <th>0</th>\n",
       "      <td>2013-01-02</td>\n",
       "      <td>4001</td>\n",
       "      <td>4100024369</td>\n",
       "      <td>1.0</td>\n",
       "      <td>2014-12-24</td>\n",
       "      <td>0.0</td>\n",
       "    </tr>\n",
       "    <tr>\n",
       "      <th>1</th>\n",
       "      <td>2014-12-24</td>\n",
       "      <td>4001</td>\n",
       "      <td>4100024369</td>\n",
       "      <td>1.0</td>\n",
       "      <td>2014-12-24</td>\n",
       "      <td>0.0</td>\n",
       "    </tr>\n",
       "    <tr>\n",
       "      <th>2</th>\n",
       "      <td>2013-01-02</td>\n",
       "      <td>4001</td>\n",
       "      <td>4100024794</td>\n",
       "      <td>1.0</td>\n",
       "      <td>2015-08-31</td>\n",
       "      <td>1.0</td>\n",
       "    </tr>\n",
       "    <tr>\n",
       "      <th>3</th>\n",
       "      <td>2013-01-02</td>\n",
       "      <td>4001</td>\n",
       "      <td>4100024794</td>\n",
       "      <td>1.0</td>\n",
       "      <td>2015-08-31</td>\n",
       "      <td>0.0</td>\n",
       "    </tr>\n",
       "    <tr>\n",
       "      <th>4</th>\n",
       "      <td>2013-01-02</td>\n",
       "      <td>4001</td>\n",
       "      <td>4100028657</td>\n",
       "      <td>1.0</td>\n",
       "      <td>2015-08-31</td>\n",
       "      <td>1.0</td>\n",
       "    </tr>\n",
       "  </tbody>\n",
       "</table>\n",
       "</div>"
      ],
      "text/plain": [
       "  purchase_date  shop_id  product_id  sales  updated_at  inventory\n",
       "0    2013-01-02     4001  4100024369    1.0  2014-12-24        0.0\n",
       "1    2014-12-24     4001  4100024369    1.0  2014-12-24        0.0\n",
       "2    2013-01-02     4001  4100024794    1.0  2015-08-31        1.0\n",
       "3    2013-01-02     4001  4100024794    1.0  2015-08-31        0.0\n",
       "4    2013-01-02     4001  4100028657    1.0  2015-08-31        1.0"
      ]
     },
     "execution_count": 128,
     "metadata": {
      "tags": []
     },
     "output_type": "execute_result"
    }
   ],
   "source": [
    "# data = pd.merge(left=sales, right=inventory, how='right', left_on=['shop_id',\t'product_id', 'purchase_date'], right_on=['shop_id', 'product_id', 'updated_at'])\n",
    "# data = pd.merge(left=sales, right=inventory, how='right', left_index=True, right_index=True)\n",
    "data = pd.merge(left=sales, right=inventory, how='outer')\n",
    "data.head()"
   ]
  },
  {
   "cell_type": "code",
   "execution_count": 0,
   "metadata": {
    "colab": {
     "base_uri": "https://localhost:8080/",
     "height": 235
    },
    "colab_type": "code",
    "executionInfo": {
     "elapsed": 684,
     "status": "ok",
     "timestamp": 1581947504314,
     "user": {
      "displayName": "Demon Veen",
      "photoUrl": "https://lh3.googleusercontent.com/a-/AAuE7mB38Y-utqUuhX6xI67A7QNwN5Bwg9g-rFdthG1HqQ=s64",
      "userId": "11570074803313430802"
     },
     "user_tz": -180
    },
    "id": "tIP_ISmpZiFa",
    "outputId": "901ee86b-0407-4041-ed0f-59c0667e90e4"
   },
   "outputs": [
    {
     "data": {
      "text/html": [
       "<div>\n",
       "<style scoped>\n",
       "    .dataframe tbody tr th:only-of-type {\n",
       "        vertical-align: middle;\n",
       "    }\n",
       "\n",
       "    .dataframe tbody tr th {\n",
       "        vertical-align: top;\n",
       "    }\n",
       "\n",
       "    .dataframe thead th {\n",
       "        text-align: right;\n",
       "    }\n",
       "</style>\n",
       "<table border=\"1\" class=\"dataframe\">\n",
       "  <thead>\n",
       "    <tr style=\"text-align: right;\">\n",
       "      <th></th>\n",
       "      <th>sales</th>\n",
       "      <th>purchase_date</th>\n",
       "      <th>shop_id_x</th>\n",
       "      <th>product_id_x</th>\n",
       "      <th>shop_id_y</th>\n",
       "      <th>product_id_y</th>\n",
       "      <th>updated_at</th>\n",
       "      <th>inventory</th>\n",
       "    </tr>\n",
       "    <tr>\n",
       "      <th>Timestamp</th>\n",
       "      <th></th>\n",
       "      <th></th>\n",
       "      <th></th>\n",
       "      <th></th>\n",
       "      <th></th>\n",
       "      <th></th>\n",
       "      <th></th>\n",
       "      <th></th>\n",
       "    </tr>\n",
       "  </thead>\n",
       "  <tbody>\n",
       "    <tr>\n",
       "      <th>2013-01-02</th>\n",
       "      <td>1.0</td>\n",
       "      <td>2013-01-02</td>\n",
       "      <td>4001.0</td>\n",
       "      <td>4.100024e+09</td>\n",
       "      <td>4001</td>\n",
       "      <td>4300000205</td>\n",
       "      <td>2013-01-02</td>\n",
       "      <td>0</td>\n",
       "    </tr>\n",
       "    <tr>\n",
       "      <th>2013-01-02</th>\n",
       "      <td>1.0</td>\n",
       "      <td>2013-01-02</td>\n",
       "      <td>4001.0</td>\n",
       "      <td>4.100025e+09</td>\n",
       "      <td>4001</td>\n",
       "      <td>4300000205</td>\n",
       "      <td>2013-01-02</td>\n",
       "      <td>0</td>\n",
       "    </tr>\n",
       "    <tr>\n",
       "      <th>2013-01-02</th>\n",
       "      <td>1.0</td>\n",
       "      <td>2013-01-02</td>\n",
       "      <td>4001.0</td>\n",
       "      <td>4.100029e+09</td>\n",
       "      <td>4001</td>\n",
       "      <td>4300000205</td>\n",
       "      <td>2013-01-02</td>\n",
       "      <td>0</td>\n",
       "    </tr>\n",
       "    <tr>\n",
       "      <th>2013-01-02</th>\n",
       "      <td>1.0</td>\n",
       "      <td>2013-01-02</td>\n",
       "      <td>4001.0</td>\n",
       "      <td>4.300000e+09</td>\n",
       "      <td>4001</td>\n",
       "      <td>4300000205</td>\n",
       "      <td>2013-01-02</td>\n",
       "      <td>0</td>\n",
       "    </tr>\n",
       "    <tr>\n",
       "      <th>2013-01-02</th>\n",
       "      <td>1.0</td>\n",
       "      <td>2013-01-02</td>\n",
       "      <td>4001.0</td>\n",
       "      <td>4.300008e+09</td>\n",
       "      <td>4001</td>\n",
       "      <td>4300000205</td>\n",
       "      <td>2013-01-02</td>\n",
       "      <td>0</td>\n",
       "    </tr>\n",
       "  </tbody>\n",
       "</table>\n",
       "</div>"
      ],
      "text/plain": [
       "            sales purchase_date  shop_id_x  ...  product_id_y  updated_at  inventory\n",
       "Timestamp                                   ...                                     \n",
       "2013-01-02    1.0    2013-01-02     4001.0  ...    4300000205  2013-01-02          0\n",
       "2013-01-02    1.0    2013-01-02     4001.0  ...    4300000205  2013-01-02          0\n",
       "2013-01-02    1.0    2013-01-02     4001.0  ...    4300000205  2013-01-02          0\n",
       "2013-01-02    1.0    2013-01-02     4001.0  ...    4300000205  2013-01-02          0\n",
       "2013-01-02    1.0    2013-01-02     4001.0  ...    4300000205  2013-01-02          0\n",
       "\n",
       "[5 rows x 8 columns]"
      ]
     },
     "execution_count": 126,
     "metadata": {
      "tags": []
     },
     "output_type": "execute_result"
    }
   ],
   "source": [
    " data = sales[['sales', 'purchase_date',\t'shop_id',\t'product_id']].merge(inventory, how = 'right', left_index = True, right_index = True)\n",
    " data.head()"
   ]
  },
  {
   "cell_type": "code",
   "execution_count": 0,
   "metadata": {
    "colab": {
     "base_uri": "https://localhost:8080/",
     "height": 450
    },
    "colab_type": "code",
    "executionInfo": {
     "elapsed": 1378,
     "status": "ok",
     "timestamp": 1581947329671,
     "user": {
      "displayName": "Demon Veen",
      "photoUrl": "https://lh3.googleusercontent.com/a-/AAuE7mB38Y-utqUuhX6xI67A7QNwN5Bwg9g-rFdthG1HqQ=s64",
      "userId": "11570074803313430802"
     },
     "user_tz": -180
    },
    "id": "aqF45thTaIjZ",
    "outputId": "af583142-c526-40ba-d104-4e214c5691b4"
   },
   "outputs": [
    {
     "data": {
      "text/html": [
       "<div>\n",
       "<style scoped>\n",
       "    .dataframe tbody tr th:only-of-type {\n",
       "        vertical-align: middle;\n",
       "    }\n",
       "\n",
       "    .dataframe tbody tr th {\n",
       "        vertical-align: top;\n",
       "    }\n",
       "\n",
       "    .dataframe thead th {\n",
       "        text-align: right;\n",
       "    }\n",
       "</style>\n",
       "<table border=\"1\" class=\"dataframe\">\n",
       "  <thead>\n",
       "    <tr style=\"text-align: right;\">\n",
       "      <th></th>\n",
       "      <th>purchase_date</th>\n",
       "      <th>shop_id</th>\n",
       "      <th>product_id</th>\n",
       "      <th>sales</th>\n",
       "    </tr>\n",
       "    <tr>\n",
       "      <th>Timestamp</th>\n",
       "      <th></th>\n",
       "      <th></th>\n",
       "      <th></th>\n",
       "      <th></th>\n",
       "    </tr>\n",
       "  </thead>\n",
       "  <tbody>\n",
       "    <tr>\n",
       "      <th>2013-01-02</th>\n",
       "      <td>2013-01-02</td>\n",
       "      <td>4001</td>\n",
       "      <td>4100024369</td>\n",
       "      <td>1</td>\n",
       "    </tr>\n",
       "    <tr>\n",
       "      <th>2013-01-02</th>\n",
       "      <td>2013-01-02</td>\n",
       "      <td>4001</td>\n",
       "      <td>4100024794</td>\n",
       "      <td>1</td>\n",
       "    </tr>\n",
       "    <tr>\n",
       "      <th>2013-01-02</th>\n",
       "      <td>2013-01-02</td>\n",
       "      <td>4001</td>\n",
       "      <td>4100028657</td>\n",
       "      <td>1</td>\n",
       "    </tr>\n",
       "    <tr>\n",
       "      <th>2013-01-02</th>\n",
       "      <td>2013-01-02</td>\n",
       "      <td>4001</td>\n",
       "      <td>4300000205</td>\n",
       "      <td>1</td>\n",
       "    </tr>\n",
       "    <tr>\n",
       "      <th>2013-01-02</th>\n",
       "      <td>2013-01-02</td>\n",
       "      <td>4001</td>\n",
       "      <td>4300007581</td>\n",
       "      <td>1</td>\n",
       "    </tr>\n",
       "    <tr>\n",
       "      <th>...</th>\n",
       "      <td>...</td>\n",
       "      <td>...</td>\n",
       "      <td>...</td>\n",
       "      <td>...</td>\n",
       "    </tr>\n",
       "    <tr>\n",
       "      <th>2016-10-20</th>\n",
       "      <td>2016-10-20</td>\n",
       "      <td>4001</td>\n",
       "      <td>4300058441</td>\n",
       "      <td>1</td>\n",
       "    </tr>\n",
       "    <tr>\n",
       "      <th>2016-10-20</th>\n",
       "      <td>2016-10-20</td>\n",
       "      <td>4001</td>\n",
       "      <td>4300058538</td>\n",
       "      <td>1</td>\n",
       "    </tr>\n",
       "    <tr>\n",
       "      <th>2016-10-20</th>\n",
       "      <td>2016-10-20</td>\n",
       "      <td>4001</td>\n",
       "      <td>4300060869</td>\n",
       "      <td>1</td>\n",
       "    </tr>\n",
       "    <tr>\n",
       "      <th>2016-10-20</th>\n",
       "      <td>2016-10-20</td>\n",
       "      <td>4001</td>\n",
       "      <td>4300073829</td>\n",
       "      <td>1</td>\n",
       "    </tr>\n",
       "    <tr>\n",
       "      <th>2016-10-20</th>\n",
       "      <td>2016-10-20</td>\n",
       "      <td>4001</td>\n",
       "      <td>4900001047</td>\n",
       "      <td>1</td>\n",
       "    </tr>\n",
       "  </tbody>\n",
       "</table>\n",
       "<p>17839 rows × 4 columns</p>\n",
       "</div>"
      ],
      "text/plain": [
       "           purchase_date  shop_id  product_id  sales\n",
       "Timestamp                                           \n",
       "2013-01-02    2013-01-02     4001  4100024369      1\n",
       "2013-01-02    2013-01-02     4001  4100024794      1\n",
       "2013-01-02    2013-01-02     4001  4100028657      1\n",
       "2013-01-02    2013-01-02     4001  4300000205      1\n",
       "2013-01-02    2013-01-02     4001  4300007581      1\n",
       "...                  ...      ...         ...    ...\n",
       "2016-10-20    2016-10-20     4001  4300058441      1\n",
       "2016-10-20    2016-10-20     4001  4300058538      1\n",
       "2016-10-20    2016-10-20     4001  4300060869      1\n",
       "2016-10-20    2016-10-20     4001  4300073829      1\n",
       "2016-10-20    2016-10-20     4001  4900001047      1\n",
       "\n",
       "[17839 rows x 4 columns]"
      ]
     },
     "execution_count": 125,
     "metadata": {
      "tags": []
     },
     "output_type": "execute_result"
    }
   ],
   "source": [
    "sales"
   ]
  },
  {
   "cell_type": "code",
   "execution_count": 0,
   "metadata": {
    "colab": {
     "base_uri": "https://localhost:8080/",
     "height": 450
    },
    "colab_type": "code",
    "executionInfo": {
     "elapsed": 904,
     "status": "ok",
     "timestamp": 1581947509740,
     "user": {
      "displayName": "Demon Veen",
      "photoUrl": "https://lh3.googleusercontent.com/a-/AAuE7mB38Y-utqUuhX6xI67A7QNwN5Bwg9g-rFdthG1HqQ=s64",
      "userId": "11570074803313430802"
     },
     "user_tz": -180
    },
    "id": "NQRT3nCYZ0_W",
    "outputId": "6b20a17f-0351-4bdf-caf5-9835b2f90a6a"
   },
   "outputs": [
    {
     "data": {
      "text/html": [
       "<div>\n",
       "<style scoped>\n",
       "    .dataframe tbody tr th:only-of-type {\n",
       "        vertical-align: middle;\n",
       "    }\n",
       "\n",
       "    .dataframe tbody tr th {\n",
       "        vertical-align: top;\n",
       "    }\n",
       "\n",
       "    .dataframe thead th {\n",
       "        text-align: right;\n",
       "    }\n",
       "</style>\n",
       "<table border=\"1\" class=\"dataframe\">\n",
       "  <thead>\n",
       "    <tr style=\"text-align: right;\">\n",
       "      <th></th>\n",
       "      <th>sales</th>\n",
       "      <th>purchase_date</th>\n",
       "      <th>shop_id_x</th>\n",
       "      <th>product_id_x</th>\n",
       "      <th>shop_id_y</th>\n",
       "      <th>product_id_y</th>\n",
       "      <th>updated_at</th>\n",
       "      <th>inventory</th>\n",
       "    </tr>\n",
       "    <tr>\n",
       "      <th>Timestamp</th>\n",
       "      <th></th>\n",
       "      <th></th>\n",
       "      <th></th>\n",
       "      <th></th>\n",
       "      <th></th>\n",
       "      <th></th>\n",
       "      <th></th>\n",
       "      <th></th>\n",
       "    </tr>\n",
       "  </thead>\n",
       "  <tbody>\n",
       "    <tr>\n",
       "      <th>2013-01-02</th>\n",
       "      <td>1.0</td>\n",
       "      <td>2013-01-02</td>\n",
       "      <td>4001.0</td>\n",
       "      <td>4.100024e+09</td>\n",
       "      <td>4001</td>\n",
       "      <td>4300000205</td>\n",
       "      <td>2013-01-02</td>\n",
       "      <td>0</td>\n",
       "    </tr>\n",
       "    <tr>\n",
       "      <th>2013-01-02</th>\n",
       "      <td>1.0</td>\n",
       "      <td>2013-01-02</td>\n",
       "      <td>4001.0</td>\n",
       "      <td>4.100025e+09</td>\n",
       "      <td>4001</td>\n",
       "      <td>4300000205</td>\n",
       "      <td>2013-01-02</td>\n",
       "      <td>0</td>\n",
       "    </tr>\n",
       "    <tr>\n",
       "      <th>2013-01-02</th>\n",
       "      <td>1.0</td>\n",
       "      <td>2013-01-02</td>\n",
       "      <td>4001.0</td>\n",
       "      <td>4.100029e+09</td>\n",
       "      <td>4001</td>\n",
       "      <td>4300000205</td>\n",
       "      <td>2013-01-02</td>\n",
       "      <td>0</td>\n",
       "    </tr>\n",
       "    <tr>\n",
       "      <th>2013-01-02</th>\n",
       "      <td>1.0</td>\n",
       "      <td>2013-01-02</td>\n",
       "      <td>4001.0</td>\n",
       "      <td>4.300000e+09</td>\n",
       "      <td>4001</td>\n",
       "      <td>4300000205</td>\n",
       "      <td>2013-01-02</td>\n",
       "      <td>0</td>\n",
       "    </tr>\n",
       "    <tr>\n",
       "      <th>2013-01-02</th>\n",
       "      <td>1.0</td>\n",
       "      <td>2013-01-02</td>\n",
       "      <td>4001.0</td>\n",
       "      <td>4.300008e+09</td>\n",
       "      <td>4001</td>\n",
       "      <td>4300000205</td>\n",
       "      <td>2013-01-02</td>\n",
       "      <td>0</td>\n",
       "    </tr>\n",
       "    <tr>\n",
       "      <th>...</th>\n",
       "      <td>...</td>\n",
       "      <td>...</td>\n",
       "      <td>...</td>\n",
       "      <td>...</td>\n",
       "      <td>...</td>\n",
       "      <td>...</td>\n",
       "      <td>...</td>\n",
       "      <td>...</td>\n",
       "    </tr>\n",
       "    <tr>\n",
       "      <th>2016-10-20</th>\n",
       "      <td>1.0</td>\n",
       "      <td>2016-10-20</td>\n",
       "      <td>4001.0</td>\n",
       "      <td>4.300058e+09</td>\n",
       "      <td>4001</td>\n",
       "      <td>4100058973</td>\n",
       "      <td>2016-10-20</td>\n",
       "      <td>0</td>\n",
       "    </tr>\n",
       "    <tr>\n",
       "      <th>2016-10-20</th>\n",
       "      <td>1.0</td>\n",
       "      <td>2016-10-20</td>\n",
       "      <td>4001.0</td>\n",
       "      <td>4.300059e+09</td>\n",
       "      <td>4001</td>\n",
       "      <td>4100058973</td>\n",
       "      <td>2016-10-20</td>\n",
       "      <td>0</td>\n",
       "    </tr>\n",
       "    <tr>\n",
       "      <th>2016-10-20</th>\n",
       "      <td>1.0</td>\n",
       "      <td>2016-10-20</td>\n",
       "      <td>4001.0</td>\n",
       "      <td>4.300061e+09</td>\n",
       "      <td>4001</td>\n",
       "      <td>4100058973</td>\n",
       "      <td>2016-10-20</td>\n",
       "      <td>0</td>\n",
       "    </tr>\n",
       "    <tr>\n",
       "      <th>2016-10-20</th>\n",
       "      <td>1.0</td>\n",
       "      <td>2016-10-20</td>\n",
       "      <td>4001.0</td>\n",
       "      <td>4.300074e+09</td>\n",
       "      <td>4001</td>\n",
       "      <td>4100058973</td>\n",
       "      <td>2016-10-20</td>\n",
       "      <td>0</td>\n",
       "    </tr>\n",
       "    <tr>\n",
       "      <th>2016-10-20</th>\n",
       "      <td>1.0</td>\n",
       "      <td>2016-10-20</td>\n",
       "      <td>4001.0</td>\n",
       "      <td>4.900001e+09</td>\n",
       "      <td>4001</td>\n",
       "      <td>4100058973</td>\n",
       "      <td>2016-10-20</td>\n",
       "      <td>0</td>\n",
       "    </tr>\n",
       "  </tbody>\n",
       "</table>\n",
       "<p>381798 rows × 8 columns</p>\n",
       "</div>"
      ],
      "text/plain": [
       "            sales purchase_date  shop_id_x  ...  product_id_y  updated_at  inventory\n",
       "Timestamp                                   ...                                     \n",
       "2013-01-02    1.0    2013-01-02     4001.0  ...    4300000205  2013-01-02          0\n",
       "2013-01-02    1.0    2013-01-02     4001.0  ...    4300000205  2013-01-02          0\n",
       "2013-01-02    1.0    2013-01-02     4001.0  ...    4300000205  2013-01-02          0\n",
       "2013-01-02    1.0    2013-01-02     4001.0  ...    4300000205  2013-01-02          0\n",
       "2013-01-02    1.0    2013-01-02     4001.0  ...    4300000205  2013-01-02          0\n",
       "...           ...           ...        ...  ...           ...         ...        ...\n",
       "2016-10-20    1.0    2016-10-20     4001.0  ...    4100058973  2016-10-20          0\n",
       "2016-10-20    1.0    2016-10-20     4001.0  ...    4100058973  2016-10-20          0\n",
       "2016-10-20    1.0    2016-10-20     4001.0  ...    4100058973  2016-10-20          0\n",
       "2016-10-20    1.0    2016-10-20     4001.0  ...    4100058973  2016-10-20          0\n",
       "2016-10-20    1.0    2016-10-20     4001.0  ...    4100058973  2016-10-20          0\n",
       "\n",
       "[381798 rows x 8 columns]"
      ]
     },
     "execution_count": 127,
     "metadata": {
      "tags": []
     },
     "output_type": "execute_result"
    }
   ],
   "source": [
    "data"
   ]
  },
  {
   "cell_type": "code",
   "execution_count": 0,
   "metadata": {
    "colab": {},
    "colab_type": "code",
    "id": "F6kMh88UXzzX"
   },
   "outputs": [],
   "source": [
    "data[data['shop_id'] == 4001][data['product_id'] == 4900001067]"
   ]
  },
  {
   "cell_type": "code",
   "execution_count": 0,
   "metadata": {
    "colab": {
     "base_uri": "https://localhost:8080/",
     "height": 235
    },
    "colab_type": "code",
    "executionInfo": {
     "elapsed": 679,
     "status": "ok",
     "timestamp": 1581944370845,
     "user": {
      "displayName": "Demon Veen",
      "photoUrl": "https://lh3.googleusercontent.com/a-/AAuE7mB38Y-utqUuhX6xI67A7QNwN5Bwg9g-rFdthG1HqQ=s64",
      "userId": "11570074803313430802"
     },
     "user_tz": -180
    },
    "id": "UiEN353cDiG7",
    "outputId": "7568427b-17c5-448e-c1a0-dfef90deb39a"
   },
   "outputs": [
    {
     "data": {
      "text/html": [
       "<div>\n",
       "<style scoped>\n",
       "    .dataframe tbody tr th:only-of-type {\n",
       "        vertical-align: middle;\n",
       "    }\n",
       "\n",
       "    .dataframe tbody tr th {\n",
       "        vertical-align: top;\n",
       "    }\n",
       "\n",
       "    .dataframe thead th {\n",
       "        text-align: right;\n",
       "    }\n",
       "</style>\n",
       "<table border=\"1\" class=\"dataframe\">\n",
       "  <thead>\n",
       "    <tr style=\"text-align: right;\">\n",
       "      <th></th>\n",
       "      <th>shop_id</th>\n",
       "      <th>product_id</th>\n",
       "      <th>sales</th>\n",
       "      <th>inventory</th>\n",
       "    </tr>\n",
       "    <tr>\n",
       "      <th>Timestamp</th>\n",
       "      <th></th>\n",
       "      <th></th>\n",
       "      <th></th>\n",
       "      <th></th>\n",
       "    </tr>\n",
       "  </thead>\n",
       "  <tbody>\n",
       "    <tr>\n",
       "      <th>2013-01-02</th>\n",
       "      <td>4001</td>\n",
       "      <td>4300000205</td>\n",
       "      <td>1</td>\n",
       "      <td>0</td>\n",
       "    </tr>\n",
       "    <tr>\n",
       "      <th>2013-01-02</th>\n",
       "      <td>4001</td>\n",
       "      <td>4300007581</td>\n",
       "      <td>1</td>\n",
       "      <td>0</td>\n",
       "    </tr>\n",
       "    <tr>\n",
       "      <th>2013-01-03</th>\n",
       "      <td>4001</td>\n",
       "      <td>4100028568</td>\n",
       "      <td>1</td>\n",
       "      <td>0</td>\n",
       "    </tr>\n",
       "    <tr>\n",
       "      <th>2013-01-03</th>\n",
       "      <td>4001</td>\n",
       "      <td>4100039578</td>\n",
       "      <td>1</td>\n",
       "      <td>0</td>\n",
       "    </tr>\n",
       "    <tr>\n",
       "      <th>2013-01-03</th>\n",
       "      <td>4001</td>\n",
       "      <td>4300006873</td>\n",
       "      <td>1</td>\n",
       "      <td>0</td>\n",
       "    </tr>\n",
       "  </tbody>\n",
       "</table>\n",
       "</div>"
      ],
      "text/plain": [
       "            shop_id  product_id  sales  inventory\n",
       "Timestamp                                        \n",
       "2013-01-02     4001  4300000205      1          0\n",
       "2013-01-02     4001  4300007581      1          0\n",
       "2013-01-03     4001  4100028568      1          0\n",
       "2013-01-03     4001  4100039578      1          0\n",
       "2013-01-03     4001  4300006873      1          0"
      ]
     },
     "execution_count": 7,
     "metadata": {
      "tags": []
     },
     "output_type": "execute_result"
    }
   ],
   "source": [
    "data['Timestamp'] = pd.to_datetime(data[u'updated_at'])\n",
    "data = data.set_index(['Timestamp']).drop(columns=['purchase_date', 'updated_at'])\n",
    "data.head()"
   ]
  },
  {
   "cell_type": "code",
   "execution_count": 0,
   "metadata": {
    "colab": {
     "base_uri": "https://localhost:8080/",
     "height": 34
    },
    "colab_type": "code",
    "executionInfo": {
     "elapsed": 582,
     "status": "ok",
     "timestamp": 1581944372566,
     "user": {
      "displayName": "Demon Veen",
      "photoUrl": "https://lh3.googleusercontent.com/a-/AAuE7mB38Y-utqUuhX6xI67A7QNwN5Bwg9g-rFdthG1HqQ=s64",
      "userId": "11570074803313430802"
     },
     "user_tz": -180
    },
    "id": "IKYeqTioEca7",
    "outputId": "74e04ee1-ff45-47a2-e0f4-b7efb8efb1c8"
   },
   "outputs": [
    {
     "name": "stdout",
     "output_type": "stream",
     "text": [
      "1 [4001]\n"
     ]
    }
   ],
   "source": [
    "shops = data['shop_id'].unique()\n",
    "print(len(shops), shops)"
   ]
  },
  {
   "cell_type": "code",
   "execution_count": 0,
   "metadata": {
    "colab": {
     "base_uri": "https://localhost:8080/",
     "height": 34
    },
    "colab_type": "code",
    "executionInfo": {
     "elapsed": 517,
     "status": "ok",
     "timestamp": 1581944373610,
     "user": {
      "displayName": "Demon Veen",
      "photoUrl": "https://lh3.googleusercontent.com/a-/AAuE7mB38Y-utqUuhX6xI67A7QNwN5Bwg9g-rFdthG1HqQ=s64",
      "userId": "11570074803313430802"
     },
     "user_tz": -180
    },
    "id": "qgm4J171GHVt",
    "outputId": "b5c9cc0e-a0c3-4a09-81bd-d8f4af2b6dd5"
   },
   "outputs": [
    {
     "name": "stdout",
     "output_type": "stream",
     "text": [
      "8114 [4300000205 4300007581 4100028568 ... 4300058538 4300060869 4300073829]\n"
     ]
    }
   ],
   "source": [
    "products = data['product_id'].unique()\n",
    "print(len(products), products)"
   ]
  },
  {
   "cell_type": "markdown",
   "metadata": {
    "colab_type": "text",
    "id": "QmxUzA6BoSbB"
   },
   "source": [
    "Создадим датафрейм lambda_data для хранения значения параметра lambda[shop_id][product_id][month]. \n",
    "\n",
    "---\n",
    "\n"
   ]
  },
  {
   "cell_type": "code",
   "execution_count": 0,
   "metadata": {
    "colab": {
     "base_uri": "https://localhost:8080/",
     "height": 419
    },
    "colab_type": "code",
    "executionInfo": {
     "elapsed": 722,
     "status": "ok",
     "timestamp": 1581945592185,
     "user": {
      "displayName": "Demon Veen",
      "photoUrl": "https://lh3.googleusercontent.com/a-/AAuE7mB38Y-utqUuhX6xI67A7QNwN5Bwg9g-rFdthG1HqQ=s64",
      "userId": "11570074803313430802"
     },
     "user_tz": -180
    },
    "id": "sihLmqu0kU8t",
    "outputId": "902cf362-1187-4fcf-dd0e-457576343d73"
   },
   "outputs": [
    {
     "data": {
      "text/html": [
       "<div>\n",
       "<style scoped>\n",
       "    .dataframe tbody tr th:only-of-type {\n",
       "        vertical-align: middle;\n",
       "    }\n",
       "\n",
       "    .dataframe tbody tr th {\n",
       "        vertical-align: top;\n",
       "    }\n",
       "\n",
       "    .dataframe thead th {\n",
       "        text-align: right;\n",
       "    }\n",
       "</style>\n",
       "<table border=\"1\" class=\"dataframe\">\n",
       "  <thead>\n",
       "    <tr style=\"text-align: right;\">\n",
       "      <th></th>\n",
       "      <th>shop_id</th>\n",
       "      <th>product_id</th>\n",
       "      <th>month</th>\n",
       "      <th>lambda</th>\n",
       "    </tr>\n",
       "  </thead>\n",
       "  <tbody>\n",
       "    <tr>\n",
       "      <th>0</th>\n",
       "      <td>4001</td>\n",
       "      <td>4100000017</td>\n",
       "      <td>NaN</td>\n",
       "      <td>NaN</td>\n",
       "    </tr>\n",
       "    <tr>\n",
       "      <th>1</th>\n",
       "      <td>4001</td>\n",
       "      <td>4100000137</td>\n",
       "      <td>NaN</td>\n",
       "      <td>NaN</td>\n",
       "    </tr>\n",
       "    <tr>\n",
       "      <th>2</th>\n",
       "      <td>4001</td>\n",
       "      <td>4100000170</td>\n",
       "      <td>NaN</td>\n",
       "      <td>NaN</td>\n",
       "    </tr>\n",
       "    <tr>\n",
       "      <th>3</th>\n",
       "      <td>4001</td>\n",
       "      <td>4100000174</td>\n",
       "      <td>NaN</td>\n",
       "      <td>NaN</td>\n",
       "    </tr>\n",
       "    <tr>\n",
       "      <th>4</th>\n",
       "      <td>4001</td>\n",
       "      <td>4100000175</td>\n",
       "      <td>NaN</td>\n",
       "      <td>NaN</td>\n",
       "    </tr>\n",
       "    <tr>\n",
       "      <th>...</th>\n",
       "      <td>...</td>\n",
       "      <td>...</td>\n",
       "      <td>...</td>\n",
       "      <td>...</td>\n",
       "    </tr>\n",
       "    <tr>\n",
       "      <th>8496</th>\n",
       "      <td>4001</td>\n",
       "      <td>4900002021</td>\n",
       "      <td>NaN</td>\n",
       "      <td>NaN</td>\n",
       "    </tr>\n",
       "    <tr>\n",
       "      <th>8497</th>\n",
       "      <td>4001</td>\n",
       "      <td>4900002021</td>\n",
       "      <td>NaN</td>\n",
       "      <td>NaN</td>\n",
       "    </tr>\n",
       "    <tr>\n",
       "      <th>8498</th>\n",
       "      <td>4001</td>\n",
       "      <td>4900002085</td>\n",
       "      <td>NaN</td>\n",
       "      <td>NaN</td>\n",
       "    </tr>\n",
       "    <tr>\n",
       "      <th>8499</th>\n",
       "      <td>4001</td>\n",
       "      <td>4900002085</td>\n",
       "      <td>NaN</td>\n",
       "      <td>NaN</td>\n",
       "    </tr>\n",
       "    <tr>\n",
       "      <th>8500</th>\n",
       "      <td>4001</td>\n",
       "      <td>4900005475</td>\n",
       "      <td>NaN</td>\n",
       "      <td>NaN</td>\n",
       "    </tr>\n",
       "  </tbody>\n",
       "</table>\n",
       "<p>8501 rows × 4 columns</p>\n",
       "</div>"
      ],
      "text/plain": [
       "      shop_id  product_id  month  lambda\n",
       "0        4001  4100000017    NaN     NaN\n",
       "1        4001  4100000137    NaN     NaN\n",
       "2        4001  4100000170    NaN     NaN\n",
       "3        4001  4100000174    NaN     NaN\n",
       "4        4001  4100000175    NaN     NaN\n",
       "...       ...         ...    ...     ...\n",
       "8496     4001  4900002021    NaN     NaN\n",
       "8497     4001  4900002021    NaN     NaN\n",
       "8498     4001  4900002085    NaN     NaN\n",
       "8499     4001  4900002085    NaN     NaN\n",
       "8500     4001  4900005475    NaN     NaN\n",
       "\n",
       "[8501 rows x 4 columns]"
      ]
     },
     "execution_count": 69,
     "metadata": {
      "tags": []
     },
     "output_type": "execute_result"
    }
   ],
   "source": [
    "lambda_data = pd.DataFrame(data.reset_index(), columns=['shop_id', 'product_id', 'month', 'lambda'])\n",
    "lambda_data = lambda_data.sort_values(['shop_id', 'product_id']).reset_index(drop=True)\n",
    "lambda_data"
   ]
  },
  {
   "cell_type": "code",
   "execution_count": 0,
   "metadata": {
    "colab": {},
    "colab_type": "code",
    "id": "k1ZooTYbR2CA"
   },
   "outputs": [],
   "source": [
    "# lambda_data = lambda_data.append({'shop_id': 4002, 'product_id': 1, 'month': 1, 'lambda': 1}, ignore_index=True)\n",
    "# lambda_data = lambda_data.append({'shop_id': 4002, 'product_id': 1, 'month': 1, 'lambda': 1}, ignore_index=True)\n",
    "# lambda_data = lambda_data.append({'shop_id': 4002, 'product_id': 2, 'month': 1, 'lambda': 1}, ignore_index=True)\n",
    "# lambda_data = lambda_data.append({'shop_id': 4002, 'product_id': 2, 'month': 1, 'lambda': 1}, ignore_index=True)\n",
    "# lambda_data"
   ]
  },
  {
   "cell_type": "code",
   "execution_count": 0,
   "metadata": {
    "colab": {
     "base_uri": "https://localhost:8080/",
     "height": 419
    },
    "colab_type": "code",
    "executionInfo": {
     "elapsed": 758,
     "status": "ok",
     "timestamp": 1581945600638,
     "user": {
      "displayName": "Demon Veen",
      "photoUrl": "https://lh3.googleusercontent.com/a-/AAuE7mB38Y-utqUuhX6xI67A7QNwN5Bwg9g-rFdthG1HqQ=s64",
      "userId": "11570074803313430802"
     },
     "user_tz": -180
    },
    "id": "lBrrco-NMtdk",
    "outputId": "74945d61-0922-4494-ee73-52ba6d717fc4"
   },
   "outputs": [
    {
     "data": {
      "text/html": [
       "<div>\n",
       "<style scoped>\n",
       "    .dataframe tbody tr th:only-of-type {\n",
       "        vertical-align: middle;\n",
       "    }\n",
       "\n",
       "    .dataframe tbody tr th {\n",
       "        vertical-align: top;\n",
       "    }\n",
       "\n",
       "    .dataframe thead th {\n",
       "        text-align: right;\n",
       "    }\n",
       "</style>\n",
       "<table border=\"1\" class=\"dataframe\">\n",
       "  <thead>\n",
       "    <tr style=\"text-align: right;\">\n",
       "      <th></th>\n",
       "      <th>shop_id</th>\n",
       "      <th>product_id</th>\n",
       "      <th>month</th>\n",
       "      <th>lambda</th>\n",
       "    </tr>\n",
       "  </thead>\n",
       "  <tbody>\n",
       "    <tr>\n",
       "      <th>0</th>\n",
       "      <td>4001</td>\n",
       "      <td>4100000017</td>\n",
       "      <td>NaN</td>\n",
       "      <td>NaN</td>\n",
       "    </tr>\n",
       "    <tr>\n",
       "      <th>1</th>\n",
       "      <td>4001</td>\n",
       "      <td>4100000137</td>\n",
       "      <td>NaN</td>\n",
       "      <td>NaN</td>\n",
       "    </tr>\n",
       "    <tr>\n",
       "      <th>2</th>\n",
       "      <td>4001</td>\n",
       "      <td>4100000170</td>\n",
       "      <td>NaN</td>\n",
       "      <td>NaN</td>\n",
       "    </tr>\n",
       "    <tr>\n",
       "      <th>3</th>\n",
       "      <td>4001</td>\n",
       "      <td>4100000174</td>\n",
       "      <td>NaN</td>\n",
       "      <td>NaN</td>\n",
       "    </tr>\n",
       "    <tr>\n",
       "      <th>4</th>\n",
       "      <td>4001</td>\n",
       "      <td>4100000175</td>\n",
       "      <td>NaN</td>\n",
       "      <td>NaN</td>\n",
       "    </tr>\n",
       "    <tr>\n",
       "      <th>...</th>\n",
       "      <td>...</td>\n",
       "      <td>...</td>\n",
       "      <td>...</td>\n",
       "      <td>...</td>\n",
       "    </tr>\n",
       "    <tr>\n",
       "      <th>8109</th>\n",
       "      <td>4001</td>\n",
       "      <td>4900001995</td>\n",
       "      <td>NaN</td>\n",
       "      <td>NaN</td>\n",
       "    </tr>\n",
       "    <tr>\n",
       "      <th>8110</th>\n",
       "      <td>4001</td>\n",
       "      <td>4900002005</td>\n",
       "      <td>NaN</td>\n",
       "      <td>NaN</td>\n",
       "    </tr>\n",
       "    <tr>\n",
       "      <th>8111</th>\n",
       "      <td>4001</td>\n",
       "      <td>4900002021</td>\n",
       "      <td>NaN</td>\n",
       "      <td>NaN</td>\n",
       "    </tr>\n",
       "    <tr>\n",
       "      <th>8112</th>\n",
       "      <td>4001</td>\n",
       "      <td>4900002085</td>\n",
       "      <td>NaN</td>\n",
       "      <td>NaN</td>\n",
       "    </tr>\n",
       "    <tr>\n",
       "      <th>8113</th>\n",
       "      <td>4001</td>\n",
       "      <td>4900005475</td>\n",
       "      <td>NaN</td>\n",
       "      <td>NaN</td>\n",
       "    </tr>\n",
       "  </tbody>\n",
       "</table>\n",
       "<p>8114 rows × 4 columns</p>\n",
       "</div>"
      ],
      "text/plain": [
       "      shop_id  product_id  month  lambda\n",
       "0        4001  4100000017    NaN     NaN\n",
       "1        4001  4100000137    NaN     NaN\n",
       "2        4001  4100000170    NaN     NaN\n",
       "3        4001  4100000174    NaN     NaN\n",
       "4        4001  4100000175    NaN     NaN\n",
       "...       ...         ...    ...     ...\n",
       "8109     4001  4900001995    NaN     NaN\n",
       "8110     4001  4900002005    NaN     NaN\n",
       "8111     4001  4900002021    NaN     NaN\n",
       "8112     4001  4900002085    NaN     NaN\n",
       "8113     4001  4900005475    NaN     NaN\n",
       "\n",
       "[8114 rows x 4 columns]"
      ]
     },
     "execution_count": 71,
     "metadata": {
      "tags": []
     },
     "output_type": "execute_result"
    }
   ],
   "source": [
    "lambda_data.drop_duplicates(subset=['shop_id', 'product_id'], keep='first', inplace=True)\n",
    "lambda_data = lambda_data.reset_index(drop=True)\n",
    "lambda_data"
   ]
  },
  {
   "cell_type": "markdown",
   "metadata": {
    "colab_type": "text",
    "id": "akJouS40UQFF"
   },
   "source": [
    "Восстановление спроса."
   ]
  },
  {
   "cell_type": "code",
   "execution_count": 0,
   "metadata": {
    "colab": {
     "base_uri": "https://localhost:8080/",
     "height": 49
    },
    "colab_type": "code",
    "executionInfo": {
     "elapsed": 681,
     "status": "ok",
     "timestamp": 1581946014939,
     "user": {
      "displayName": "Demon Veen",
      "photoUrl": "https://lh3.googleusercontent.com/a-/AAuE7mB38Y-utqUuhX6xI67A7QNwN5Bwg9g-rFdthG1HqQ=s64",
      "userId": "11570074803313430802"
     },
     "user_tz": -180
    },
    "id": "Hg-qvKR_VDs1",
    "outputId": "b889d377-a762-4163-e963-41362d73e3e2"
   },
   "outputs": [
    {
     "data": {
      "text/html": [
       "<div>\n",
       "<style scoped>\n",
       "    .dataframe tbody tr th:only-of-type {\n",
       "        vertical-align: middle;\n",
       "    }\n",
       "\n",
       "    .dataframe tbody tr th {\n",
       "        vertical-align: top;\n",
       "    }\n",
       "\n",
       "    .dataframe thead th {\n",
       "        text-align: right;\n",
       "    }\n",
       "</style>\n",
       "<table border=\"1\" class=\"dataframe\">\n",
       "  <thead>\n",
       "    <tr style=\"text-align: right;\">\n",
       "      <th></th>\n",
       "      <th>shop_id</th>\n",
       "      <th>product_id</th>\n",
       "      <th>month</th>\n",
       "      <th>lambda</th>\n",
       "    </tr>\n",
       "  </thead>\n",
       "  <tbody>\n",
       "  </tbody>\n",
       "</table>\n",
       "</div>"
      ],
      "text/plain": [
       "Empty DataFrame\n",
       "Columns: [shop_id, product_id, month, lambda]\n",
       "Index: []"
      ]
     },
     "execution_count": 77,
     "metadata": {
      "tags": []
     },
     "output_type": "execute_result"
    }
   ],
   "source": [
    "lambda_tmp = pd.DataFrame(columns=['shop_id', 'product_id', 'month', 'lambda'])\n",
    "lambda_tmp"
   ]
  },
  {
   "cell_type": "code",
   "execution_count": 0,
   "metadata": {
    "colab": {
     "base_uri": "https://localhost:8080/",
     "height": 450
    },
    "colab_type": "code",
    "executionInfo": {
     "elapsed": 718,
     "status": "ok",
     "timestamp": 1581945852036,
     "user": {
      "displayName": "Demon Veen",
      "photoUrl": "https://lh3.googleusercontent.com/a-/AAuE7mB38Y-utqUuhX6xI67A7QNwN5Bwg9g-rFdthG1HqQ=s64",
      "userId": "11570074803313430802"
     },
     "user_tz": -180
    },
    "id": "bYtwvhCLRSaV",
    "outputId": "dae64493-99a3-4a75-ae11-3ba16202458d"
   },
   "outputs": [
    {
     "data": {
      "text/html": [
       "<div>\n",
       "<style scoped>\n",
       "    .dataframe tbody tr th:only-of-type {\n",
       "        vertical-align: middle;\n",
       "    }\n",
       "\n",
       "    .dataframe tbody tr th {\n",
       "        vertical-align: top;\n",
       "    }\n",
       "\n",
       "    .dataframe thead th {\n",
       "        text-align: right;\n",
       "    }\n",
       "</style>\n",
       "<table border=\"1\" class=\"dataframe\">\n",
       "  <thead>\n",
       "    <tr style=\"text-align: right;\">\n",
       "      <th></th>\n",
       "      <th>shop_id</th>\n",
       "      <th>product_id</th>\n",
       "      <th>sales</th>\n",
       "      <th>inventory</th>\n",
       "    </tr>\n",
       "    <tr>\n",
       "      <th>Timestamp</th>\n",
       "      <th></th>\n",
       "      <th></th>\n",
       "      <th></th>\n",
       "      <th></th>\n",
       "    </tr>\n",
       "  </thead>\n",
       "  <tbody>\n",
       "    <tr>\n",
       "      <th>2013-01-02</th>\n",
       "      <td>4001</td>\n",
       "      <td>4300000205</td>\n",
       "      <td>1</td>\n",
       "      <td>0</td>\n",
       "    </tr>\n",
       "    <tr>\n",
       "      <th>2013-01-02</th>\n",
       "      <td>4001</td>\n",
       "      <td>4300007581</td>\n",
       "      <td>1</td>\n",
       "      <td>0</td>\n",
       "    </tr>\n",
       "    <tr>\n",
       "      <th>2013-01-03</th>\n",
       "      <td>4001</td>\n",
       "      <td>4100028568</td>\n",
       "      <td>1</td>\n",
       "      <td>0</td>\n",
       "    </tr>\n",
       "    <tr>\n",
       "      <th>2013-01-03</th>\n",
       "      <td>4001</td>\n",
       "      <td>4100039578</td>\n",
       "      <td>1</td>\n",
       "      <td>0</td>\n",
       "    </tr>\n",
       "    <tr>\n",
       "      <th>2013-01-03</th>\n",
       "      <td>4001</td>\n",
       "      <td>4300006873</td>\n",
       "      <td>1</td>\n",
       "      <td>0</td>\n",
       "    </tr>\n",
       "    <tr>\n",
       "      <th>...</th>\n",
       "      <td>...</td>\n",
       "      <td>...</td>\n",
       "      <td>...</td>\n",
       "      <td>...</td>\n",
       "    </tr>\n",
       "    <tr>\n",
       "      <th>2016-10-20</th>\n",
       "      <td>4001</td>\n",
       "      <td>4100063151</td>\n",
       "      <td>1</td>\n",
       "      <td>0</td>\n",
       "    </tr>\n",
       "    <tr>\n",
       "      <th>2016-10-20</th>\n",
       "      <td>4001</td>\n",
       "      <td>4300058089</td>\n",
       "      <td>1</td>\n",
       "      <td>0</td>\n",
       "    </tr>\n",
       "    <tr>\n",
       "      <th>2016-10-20</th>\n",
       "      <td>4001</td>\n",
       "      <td>4300058538</td>\n",
       "      <td>1</td>\n",
       "      <td>0</td>\n",
       "    </tr>\n",
       "    <tr>\n",
       "      <th>2016-10-20</th>\n",
       "      <td>4001</td>\n",
       "      <td>4300060869</td>\n",
       "      <td>1</td>\n",
       "      <td>0</td>\n",
       "    </tr>\n",
       "    <tr>\n",
       "      <th>2016-10-20</th>\n",
       "      <td>4001</td>\n",
       "      <td>4300073829</td>\n",
       "      <td>1</td>\n",
       "      <td>0</td>\n",
       "    </tr>\n",
       "  </tbody>\n",
       "</table>\n",
       "<p>8501 rows × 4 columns</p>\n",
       "</div>"
      ],
      "text/plain": [
       "            shop_id  product_id  sales  inventory\n",
       "Timestamp                                        \n",
       "2013-01-02     4001  4300000205      1          0\n",
       "2013-01-02     4001  4300007581      1          0\n",
       "2013-01-03     4001  4100028568      1          0\n",
       "2013-01-03     4001  4100039578      1          0\n",
       "2013-01-03     4001  4300006873      1          0\n",
       "...             ...         ...    ...        ...\n",
       "2016-10-20     4001  4100063151      1          0\n",
       "2016-10-20     4001  4300058089      1          0\n",
       "2016-10-20     4001  4300058538      1          0\n",
       "2016-10-20     4001  4300060869      1          0\n",
       "2016-10-20     4001  4300073829      1          0\n",
       "\n",
       "[8501 rows x 4 columns]"
      ]
     },
     "execution_count": 74,
     "metadata": {
      "tags": []
     },
     "output_type": "execute_result"
    }
   ],
   "source": [
    "data"
   ]
  },
  {
   "cell_type": "code",
   "execution_count": 0,
   "metadata": {
    "colab": {
     "base_uri": "https://localhost:8080/",
     "height": 142
    },
    "colab_type": "code",
    "executionInfo": {
     "elapsed": 860,
     "status": "ok",
     "timestamp": 1581946517113,
     "user": {
      "displayName": "Demon Veen",
      "photoUrl": "https://lh3.googleusercontent.com/a-/AAuE7mB38Y-utqUuhX6xI67A7QNwN5Bwg9g-rFdthG1HqQ=s64",
      "userId": "11570074803313430802"
     },
     "user_tz": -180
    },
    "id": "wObGtnMnUV0a",
    "outputId": "981ed03a-845b-42e6-a551-599f12c0d2c4"
   },
   "outputs": [
    {
     "data": {
      "text/html": [
       "<div>\n",
       "<style scoped>\n",
       "    .dataframe tbody tr th:only-of-type {\n",
       "        vertical-align: middle;\n",
       "    }\n",
       "\n",
       "    .dataframe tbody tr th {\n",
       "        vertical-align: top;\n",
       "    }\n",
       "\n",
       "    .dataframe thead th {\n",
       "        text-align: right;\n",
       "    }\n",
       "</style>\n",
       "<table border=\"1\" class=\"dataframe\">\n",
       "  <thead>\n",
       "    <tr style=\"text-align: right;\">\n",
       "      <th></th>\n",
       "      <th>shop_id</th>\n",
       "      <th>product_id</th>\n",
       "      <th>sales</th>\n",
       "      <th>inventory</th>\n",
       "    </tr>\n",
       "    <tr>\n",
       "      <th>Timestamp</th>\n",
       "      <th></th>\n",
       "      <th></th>\n",
       "      <th></th>\n",
       "      <th></th>\n",
       "    </tr>\n",
       "  </thead>\n",
       "  <tbody>\n",
       "    <tr>\n",
       "      <th>2015-09-03</th>\n",
       "      <td>4001</td>\n",
       "      <td>4900001067</td>\n",
       "      <td>1</td>\n",
       "      <td>0</td>\n",
       "    </tr>\n",
       "    <tr>\n",
       "      <th>2016-06-05</th>\n",
       "      <td>4001</td>\n",
       "      <td>4900001067</td>\n",
       "      <td>1</td>\n",
       "      <td>0</td>\n",
       "    </tr>\n",
       "  </tbody>\n",
       "</table>\n",
       "</div>"
      ],
      "text/plain": [
       "            shop_id  product_id  sales  inventory\n",
       "Timestamp                                        \n",
       "2015-09-03     4001  4900001067      1          0\n",
       "2016-06-05     4001  4900001067      1          0"
      ]
     },
     "execution_count": 95,
     "metadata": {
      "tags": []
     },
     "output_type": "execute_result"
    }
   ],
   "source": [
    "data[data['shop_id'] == 4001][data['product_id'] == 4900001067]"
   ]
  },
  {
   "cell_type": "code",
   "execution_count": 0,
   "metadata": {
    "colab": {
     "base_uri": "https://localhost:8080/",
     "height": 450
    },
    "colab_type": "code",
    "executionInfo": {
     "elapsed": 794,
     "status": "ok",
     "timestamp": 1581946527161,
     "user": {
      "displayName": "Demon Veen",
      "photoUrl": "https://lh3.googleusercontent.com/a-/AAuE7mB38Y-utqUuhX6xI67A7QNwN5Bwg9g-rFdthG1HqQ=s64",
      "userId": "11570074803313430802"
     },
     "user_tz": -180
    },
    "id": "0RhVxje-U7HM",
    "outputId": "af830eec-f1cc-4004-c165-d5885f7f6a32"
   },
   "outputs": [
    {
     "data": {
      "text/html": [
       "<div>\n",
       "<style scoped>\n",
       "    .dataframe tbody tr th:only-of-type {\n",
       "        vertical-align: middle;\n",
       "    }\n",
       "\n",
       "    .dataframe tbody tr th {\n",
       "        vertical-align: top;\n",
       "    }\n",
       "\n",
       "    .dataframe thead th {\n",
       "        text-align: right;\n",
       "    }\n",
       "</style>\n",
       "<table border=\"1\" class=\"dataframe\">\n",
       "  <thead>\n",
       "    <tr style=\"text-align: right;\">\n",
       "      <th></th>\n",
       "      <th>purchase_date</th>\n",
       "      <th>shop_id</th>\n",
       "      <th>product_id</th>\n",
       "      <th>sales</th>\n",
       "    </tr>\n",
       "    <tr>\n",
       "      <th>Timestamp</th>\n",
       "      <th></th>\n",
       "      <th></th>\n",
       "      <th></th>\n",
       "      <th></th>\n",
       "    </tr>\n",
       "  </thead>\n",
       "  <tbody>\n",
       "    <tr>\n",
       "      <th>2013-01-15</th>\n",
       "      <td>2013-01-15</td>\n",
       "      <td>4001</td>\n",
       "      <td>4900001067</td>\n",
       "      <td>5</td>\n",
       "    </tr>\n",
       "    <tr>\n",
       "      <th>2013-01-15</th>\n",
       "      <td>2013-01-15</td>\n",
       "      <td>4001</td>\n",
       "      <td>4900001067</td>\n",
       "      <td>1</td>\n",
       "    </tr>\n",
       "    <tr>\n",
       "      <th>2013-01-15</th>\n",
       "      <td>2013-01-15</td>\n",
       "      <td>4001</td>\n",
       "      <td>4900001067</td>\n",
       "      <td>1</td>\n",
       "    </tr>\n",
       "    <tr>\n",
       "      <th>2013-01-16</th>\n",
       "      <td>2013-01-16</td>\n",
       "      <td>4001</td>\n",
       "      <td>4900001067</td>\n",
       "      <td>1</td>\n",
       "    </tr>\n",
       "    <tr>\n",
       "      <th>2013-01-17</th>\n",
       "      <td>2013-01-17</td>\n",
       "      <td>4001</td>\n",
       "      <td>4900001067</td>\n",
       "      <td>1</td>\n",
       "    </tr>\n",
       "    <tr>\n",
       "      <th>...</th>\n",
       "      <td>...</td>\n",
       "      <td>...</td>\n",
       "      <td>...</td>\n",
       "      <td>...</td>\n",
       "    </tr>\n",
       "    <tr>\n",
       "      <th>2016-09-06</th>\n",
       "      <td>2016-09-06</td>\n",
       "      <td>4001</td>\n",
       "      <td>4900001067</td>\n",
       "      <td>1</td>\n",
       "    </tr>\n",
       "    <tr>\n",
       "      <th>2016-09-12</th>\n",
       "      <td>2016-09-12</td>\n",
       "      <td>4001</td>\n",
       "      <td>4900001067</td>\n",
       "      <td>1</td>\n",
       "    </tr>\n",
       "    <tr>\n",
       "      <th>2016-09-13</th>\n",
       "      <td>2016-09-13</td>\n",
       "      <td>4001</td>\n",
       "      <td>4900001067</td>\n",
       "      <td>1</td>\n",
       "    </tr>\n",
       "    <tr>\n",
       "      <th>2016-09-17</th>\n",
       "      <td>2016-09-17</td>\n",
       "      <td>4001</td>\n",
       "      <td>4900001067</td>\n",
       "      <td>1</td>\n",
       "    </tr>\n",
       "    <tr>\n",
       "      <th>2016-10-15</th>\n",
       "      <td>2016-10-15</td>\n",
       "      <td>4001</td>\n",
       "      <td>4900001067</td>\n",
       "      <td>1</td>\n",
       "    </tr>\n",
       "  </tbody>\n",
       "</table>\n",
       "<p>325 rows × 4 columns</p>\n",
       "</div>"
      ],
      "text/plain": [
       "           purchase_date  shop_id  product_id  sales\n",
       "Timestamp                                           \n",
       "2013-01-15    2013-01-15     4001  4900001067      5\n",
       "2013-01-15    2013-01-15     4001  4900001067      1\n",
       "2013-01-15    2013-01-15     4001  4900001067      1\n",
       "2013-01-16    2013-01-16     4001  4900001067      1\n",
       "2013-01-17    2013-01-17     4001  4900001067      1\n",
       "...                  ...      ...         ...    ...\n",
       "2016-09-06    2016-09-06     4001  4900001067      1\n",
       "2016-09-12    2016-09-12     4001  4900001067      1\n",
       "2016-09-13    2016-09-13     4001  4900001067      1\n",
       "2016-09-17    2016-09-17     4001  4900001067      1\n",
       "2016-10-15    2016-10-15     4001  4900001067      1\n",
       "\n",
       "[325 rows x 4 columns]"
      ]
     },
     "execution_count": 96,
     "metadata": {
      "tags": []
     },
     "output_type": "execute_result"
    }
   ],
   "source": [
    "sales[sales['product_id'] == 4900001067]"
   ]
  },
  {
   "cell_type": "code",
   "execution_count": 0,
   "metadata": {
    "colab": {
     "base_uri": "https://localhost:8080/",
     "height": 204
    },
    "colab_type": "code",
    "executionInfo": {
     "elapsed": 803,
     "status": "ok",
     "timestamp": 1581946534562,
     "user": {
      "displayName": "Demon Veen",
      "photoUrl": "https://lh3.googleusercontent.com/a-/AAuE7mB38Y-utqUuhX6xI67A7QNwN5Bwg9g-rFdthG1HqQ=s64",
      "userId": "11570074803313430802"
     },
     "user_tz": -180
    },
    "id": "BPc-vDPgViFS",
    "outputId": "bb4026e8-92c6-4596-aa54-280e93a5ca0c"
   },
   "outputs": [
    {
     "data": {
      "text/html": [
       "<div>\n",
       "<style scoped>\n",
       "    .dataframe tbody tr th:only-of-type {\n",
       "        vertical-align: middle;\n",
       "    }\n",
       "\n",
       "    .dataframe tbody tr th {\n",
       "        vertical-align: top;\n",
       "    }\n",
       "\n",
       "    .dataframe thead th {\n",
       "        text-align: right;\n",
       "    }\n",
       "</style>\n",
       "<table border=\"1\" class=\"dataframe\">\n",
       "  <thead>\n",
       "    <tr style=\"text-align: right;\">\n",
       "      <th></th>\n",
       "      <th>shop_id</th>\n",
       "      <th>product_id</th>\n",
       "      <th>updated_at</th>\n",
       "      <th>inventory</th>\n",
       "    </tr>\n",
       "    <tr>\n",
       "      <th>Timestamp</th>\n",
       "      <th></th>\n",
       "      <th></th>\n",
       "      <th></th>\n",
       "      <th></th>\n",
       "    </tr>\n",
       "  </thead>\n",
       "  <tbody>\n",
       "    <tr>\n",
       "      <th>2015-08-31</th>\n",
       "      <td>4001</td>\n",
       "      <td>4900001067</td>\n",
       "      <td>2015-08-31</td>\n",
       "      <td>33</td>\n",
       "    </tr>\n",
       "    <tr>\n",
       "      <th>2015-09-03</th>\n",
       "      <td>4001</td>\n",
       "      <td>4900001067</td>\n",
       "      <td>2015-09-03</td>\n",
       "      <td>0</td>\n",
       "    </tr>\n",
       "    <tr>\n",
       "      <th>2015-12-12</th>\n",
       "      <td>4001</td>\n",
       "      <td>4900001067</td>\n",
       "      <td>2015-12-12</td>\n",
       "      <td>5</td>\n",
       "    </tr>\n",
       "    <tr>\n",
       "      <th>2016-06-05</th>\n",
       "      <td>4001</td>\n",
       "      <td>4900001067</td>\n",
       "      <td>2016-06-05</td>\n",
       "      <td>0</td>\n",
       "    </tr>\n",
       "  </tbody>\n",
       "</table>\n",
       "</div>"
      ],
      "text/plain": [
       "            shop_id  product_id  updated_at  inventory\n",
       "Timestamp                                             \n",
       "2015-08-31     4001  4900001067  2015-08-31         33\n",
       "2015-09-03     4001  4900001067  2015-09-03          0\n",
       "2015-12-12     4001  4900001067  2015-12-12          5\n",
       "2016-06-05     4001  4900001067  2016-06-05          0"
      ]
     },
     "execution_count": 97,
     "metadata": {
      "tags": []
     },
     "output_type": "execute_result"
    }
   ],
   "source": [
    "inventory[inventory['product_id'] == 4900001067]"
   ]
  },
  {
   "cell_type": "code",
   "execution_count": 0,
   "metadata": {
    "colab": {
     "base_uri": "https://localhost:8080/",
     "height": 283
    },
    "colab_type": "code",
    "executionInfo": {
     "elapsed": 784,
     "status": "error",
     "timestamp": 1581946424071,
     "user": {
      "displayName": "Demon Veen",
      "photoUrl": "https://lh3.googleusercontent.com/a-/AAuE7mB38Y-utqUuhX6xI67A7QNwN5Bwg9g-rFdthG1HqQ=s64",
      "userId": "11570074803313430802"
     },
     "user_tz": -180
    },
    "id": "x2eAZgWoVtda",
    "outputId": "7413715f-c861-45ce-fb81-0cc49e6de340"
   },
   "outputs": [
    {
     "ename": "AttributeError",
     "evalue": "ignored",
     "output_type": "error",
     "traceback": [
      "\u001b[0;31m---------------------------------------------------------------------------\u001b[0m",
      "\u001b[0;31mAttributeError\u001b[0m                            Traceback (most recent call last)",
      "\u001b[0;32m<ipython-input-89-648c96355c77>\u001b[0m in \u001b[0;36m<module>\u001b[0;34m()\u001b[0m\n\u001b[0;32m----> 1\u001b[0;31m \u001b[0mdata\u001b[0m\u001b[0;34m.\u001b[0m\u001b[0mgroupby\u001b[0m\u001b[0;34m(\u001b[0m\u001b[0;34m[\u001b[0m\u001b[0;34m'product_id'\u001b[0m\u001b[0;34m]\u001b[0m\u001b[0;34m)\u001b[0m\u001b[0;34m.\u001b[0m\u001b[0munique\u001b[0m\u001b[0;34m.\u001b[0m\u001b[0mcount\u001b[0m\u001b[0;34m(\u001b[0m\u001b[0;34m)\u001b[0m\u001b[0;34m\u001b[0m\u001b[0;34m\u001b[0m\u001b[0m\n\u001b[0m",
      "\u001b[0;32m/usr/local/lib/python3.6/dist-packages/pandas/core/groupby/groupby.py\u001b[0m in \u001b[0;36m__getattr__\u001b[0;34m(self, attr)\u001b[0m\n\u001b[1;32m    564\u001b[0m \u001b[0;34m\u001b[0m\u001b[0m\n\u001b[1;32m    565\u001b[0m         raise AttributeError(\n\u001b[0;32m--> 566\u001b[0;31m             \u001b[0;34m\"%r object has no attribute %r\"\u001b[0m \u001b[0;34m%\u001b[0m \u001b[0;34m(\u001b[0m\u001b[0mtype\u001b[0m\u001b[0;34m(\u001b[0m\u001b[0mself\u001b[0m\u001b[0;34m)\u001b[0m\u001b[0;34m.\u001b[0m\u001b[0m__name__\u001b[0m\u001b[0;34m,\u001b[0m \u001b[0mattr\u001b[0m\u001b[0;34m)\u001b[0m\u001b[0;34m\u001b[0m\u001b[0;34m\u001b[0m\u001b[0m\n\u001b[0m\u001b[1;32m    567\u001b[0m         )\n\u001b[1;32m    568\u001b[0m \u001b[0;34m\u001b[0m\u001b[0m\n",
      "\u001b[0;31mAttributeError\u001b[0m: 'DataFrameGroupBy' object has no attribute 'unique'"
     ]
    }
   ],
   "source": [
    "data.groupby(['product_id']).unique.count()"
   ]
  },
  {
   "cell_type": "code",
   "execution_count": 0,
   "metadata": {
    "colab": {
     "base_uri": "https://localhost:8080/",
     "height": 238
    },
    "colab_type": "code",
    "executionInfo": {
     "elapsed": 737,
     "status": "ok",
     "timestamp": 1581946494320,
     "user": {
      "displayName": "Demon Veen",
      "photoUrl": "https://lh3.googleusercontent.com/a-/AAuE7mB38Y-utqUuhX6xI67A7QNwN5Bwg9g-rFdthG1HqQ=s64",
      "userId": "11570074803313430802"
     },
     "user_tz": -180
    },
    "id": "n3RrdHqkWbRI",
    "outputId": "c8c16a7a-c212-407c-8ab3-fc78e5c962ae"
   },
   "outputs": [
    {
     "data": {
      "text/plain": [
       "product_id\n",
       "4100000017    1\n",
       "4100000137    1\n",
       "4100000170    1\n",
       "4100000174    1\n",
       "4100000175    1\n",
       "             ..\n",
       "4900001995    2\n",
       "4900002005    1\n",
       "4900002021    3\n",
       "4900002085    2\n",
       "4900005475    1\n",
       "Name: product_id, Length: 8114, dtype: int64"
      ]
     },
     "execution_count": 94,
     "metadata": {
      "tags": []
     },
     "output_type": "execute_result"
    }
   ],
   "source": [
    "data.groupby(['product_id']).product_id.count()"
   ]
  },
  {
   "cell_type": "code",
   "execution_count": 0,
   "metadata": {
    "colab": {},
    "colab_type": "code",
    "id": "WSWRvOM8WuRP"
   },
   "outputs": [],
   "source": []
  }
 ],
 "metadata": {
  "colab": {
   "authorship_tag": "ABX9TyNQQ2wSdIPybmrztqvceoQY",
   "collapsed_sections": [
    "5hwfT-Wgl4Os",
    "1wjR1J6XcE4_",
    "S0jzOUbulfd_"
   ],
   "name": "DemandRestoring_v1.ipynb",
   "provenance": []
  },
  "kernelspec": {
   "display_name": "Python 3",
   "language": "python",
   "name": "python3"
  },
  "language_info": {
   "codemirror_mode": {
    "name": "ipython",
    "version": 3
   },
   "file_extension": ".py",
   "mimetype": "text/x-python",
   "name": "python",
   "nbconvert_exporter": "python",
   "pygments_lexer": "ipython3",
   "version": "3.6.8"
  }
 },
 "nbformat": 4,
 "nbformat_minor": 1
}
