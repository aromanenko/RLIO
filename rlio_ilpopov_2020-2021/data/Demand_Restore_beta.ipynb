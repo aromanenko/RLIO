{
 "cells": [
  {
   "cell_type": "code",
   "execution_count": 33,
   "metadata": {},
   "outputs": [],
   "source": [
    "import scipy.stats\n",
    "import numpy as np\n",
    "import pandas as pd\n",
    "import matplotlib.pyplot as plt\n",
    "\n",
    "from scipy.stats import poisson\n",
    "from scipy.stats import ttest_ind"
   ]
  },
  {
   "cell_type": "code",
   "execution_count": 34,
   "metadata": {},
   "outputs": [],
   "source": [
    "df = pd.read_csv(\"MERGE_TABLE_STORE_4600.csv\", sep=\";\")"
   ]
  },
  {
   "cell_type": "markdown",
   "metadata": {},
   "source": [
    "### Пропуски в flag_promo"
   ]
  },
  {
   "cell_type": "code",
   "execution_count": 35,
   "metadata": {},
   "outputs": [
    {
     "data": {
      "text/plain": [
       "0"
      ]
     },
     "execution_count": 35,
     "metadata": {},
     "output_type": "execute_result"
    }
   ],
   "source": [
    "df.flg_spromo.isnull().sum()"
   ]
  },
  {
   "cell_type": "code",
   "execution_count": 36,
   "metadata": {},
   "outputs": [
    {
     "data": {
      "text/plain": [
       "0    13594213\n",
       "1       23101\n",
       "Name: flg_spromo, dtype: int64"
      ]
     },
     "execution_count": 36,
     "metadata": {},
     "output_type": "execute_result"
    }
   ],
   "source": [
    "df.flg_spromo.value_counts()"
   ]
  },
  {
   "cell_type": "markdown",
   "metadata": {},
   "source": [
    "### Получим список товаров, по которым больше всего данных:"
   ]
  },
  {
   "cell_type": "code",
   "execution_count": 37,
   "metadata": {},
   "outputs": [],
   "source": [
    "id_list = df.product_id.value_counts().nlargest(40).index.tolist()"
   ]
  },
  {
   "cell_type": "code",
   "execution_count": 38,
   "metadata": {},
   "outputs": [
    {
     "data": {
      "text/plain": [
       "[555800,\n",
       " 616400,\n",
       " 564900,\n",
       " 582700,\n",
       " 404500,\n",
       " 589400,\n",
       " 582800,\n",
       " 1518900,\n",
       " 835000,\n",
       " 587400,\n",
       " 617400,\n",
       " 819800,\n",
       " 1843100,\n",
       " 631500,\n",
       " 7562300,\n",
       " 11637400,\n",
       " 3539700,\n",
       " 3540400,\n",
       " 12906800,\n",
       " 4095600,\n",
       " 886100,\n",
       " 4212800,\n",
       " 706600,\n",
       " 9339400,\n",
       " 589700,\n",
       " 625700,\n",
       " 560100,\n",
       " 559800,\n",
       " 490400,\n",
       " 1617800,\n",
       " 744200,\n",
       " 720500,\n",
       " 4285500,\n",
       " 615200,\n",
       " 1453400,\n",
       " 4043300,\n",
       " 571300,\n",
       " 808700,\n",
       " 101300,\n",
       " 6783400]"
      ]
     },
     "execution_count": 38,
     "metadata": {},
     "output_type": "execute_result"
    }
   ],
   "source": [
    "id_list"
   ]
  },
  {
   "cell_type": "markdown",
   "metadata": {},
   "source": [
    "### Выберем только нужные товары и приводим даты к верному формату:"
   ]
  },
  {
   "cell_type": "code",
   "execution_count": 39,
   "metadata": {},
   "outputs": [],
   "source": [
    "df_model = df[df.product_id.isin(id_list)]"
   ]
  },
  {
   "cell_type": "markdown",
   "metadata": {},
   "source": [
    "Смотрим на тот же флаг промо"
   ]
  },
  {
   "cell_type": "code",
   "execution_count": 40,
   "metadata": {},
   "outputs": [
    {
     "data": {
      "text/plain": [
       "0    54421\n",
       "1     1891\n",
       "Name: flg_spromo, dtype: int64"
      ]
     },
     "execution_count": 40,
     "metadata": {},
     "output_type": "execute_result"
    }
   ],
   "source": [
    "df_model.flg_spromo.value_counts()"
   ]
  },
  {
   "cell_type": "code",
   "execution_count": 41,
   "metadata": {},
   "outputs": [
    {
     "name": "stderr",
     "output_type": "stream",
     "text": [
      "/home/alexander/PythonProjects/MO/venb/lib/python3.8/site-packages/pandas/core/indexing.py:1745: SettingWithCopyWarning: \n",
      "A value is trying to be set on a copy of a slice from a DataFrame.\n",
      "Try using .loc[row_indexer,col_indexer] = value instead\n",
      "\n",
      "See the caveats in the documentation: https://pandas.pydata.org/pandas-docs/stable/user_guide/indexing.html#returning-a-view-versus-a-copy\n",
      "  isetter(ilocs[0], value)\n"
     ]
    }
   ],
   "source": [
    "df_model.loc[:, \"curr_date\"] = pd.to_datetime(df_model.curr_date)"
   ]
  },
  {
   "cell_type": "markdown",
   "metadata": {},
   "source": [
    "### Заполним пропущенные даты в датасете для товара/магазина:"
   ]
  },
  {
   "cell_type": "code",
   "execution_count": 42,
   "metadata": {},
   "outputs": [],
   "source": [
    "def add_missing_dates(model_df, product_id, store_id):\n",
    "    # Data as index and fill missing stock data\n",
    "    new_df = model_df[\n",
    "        (model_df[\"product_id\"] == product_id) & (model_df[\"store_id\"] == store_id)\n",
    "    ].set_index(\"curr_date\")[[\"stock\"]]\n",
    "    new_df = new_df.reindex(pd.date_range(np.min(new_df.index), np.max(new_df.index))).fillna(\n",
    "        method=\"ffill\"\n",
    "    )\n",
    "\n",
    "    # Add sales data to df with stock data\n",
    "    _df_day_sales = model_df[(model_df[\"product_id\"] == product_id)].set_index(\"curr_date\")\n",
    "    new_df = _df_day_sales[[\"product_id\", \"store_id\", \"flg_spromo\", \"s_qty\"]].merge(\n",
    "        new_df, how=\"right\", left_index=True, right_index=True\n",
    "    )\n",
    "\n",
    "    return new_df"
   ]
  },
  {
   "cell_type": "markdown",
   "metadata": {},
   "source": [
    "### Посчитаем спрос "
   ]
  },
  {
   "cell_type": "code",
   "execution_count": 43,
   "metadata": {},
   "outputs": [],
   "source": [
    "def calculate_demand(df, sku, store=4600):\n",
    "    max_sales = df[(df[\"product_id\"] == sku) & (df[\"store_id\"] == store)].s_qty.max()\n",
    "    sales_oracle_day = df[(df[\"product_id\"] == sku) & (df[\"store_id\"] == store)][\"s_qty\"]\n",
    "    lambda_value = df[((df[\"product_id\"] == sku) & (df[\"store_id\"] == store))][\"lambda\"]\n",
    "    df.loc[((df[\"product_id\"] == sku) & (df[\"store_id\"] == store)), \"demand\"] = np.fmin(\n",
    "        np.full((1, len(lambda_value)), max_sales),\n",
    "        np.fmax(np.random.poisson(lambda_value, size=len(lambda_value)), sales_oracle_day),\n",
    "    ).tolist()[0]\n",
    "    return df\n",
    "\n",
    "\n",
    "def ttest_promo(df_promo, df_nopromo):\n",
    "    # Check data for correctness\n",
    "    if len(df_promo) > 0 and len(df_nopromo) > 0:\n",
    "        _, p_value = ttest_ind(np.array(df_nopromo[\"s_qty\"]), np.array(df_promo[\"s_qty\"]))\n",
    "        if p_value < 0.05:\n",
    "            flag = True\n",
    "            decision = \"H1: different averages\"\n",
    "        else:\n",
    "            flag = False\n",
    "            decision = \"H0: same averages\"\n",
    "\n",
    "    # Report if test is not available\n",
    "    else:\n",
    "        flag = False\n",
    "        decision = \"Not enough data\"\n",
    "\n",
    "    return flag, decision\n",
    "\n",
    "\n",
    "def calculate_lambda_promo(df, product_id, teta=1, enable_test=True):\n",
    "    # Choose data without promo for a given product\n",
    "    df_nopromo = df.loc[(df[\"product_id\"] == product_id) & (df[\"flg_spromo\"] == 0)]\n",
    "    # Leave only correct data\n",
    "    df_nopromo = df_nopromo.loc[\n",
    "        (df_nopromo[\"stock\"] > 0) & (df_nopromo[\"s_qty\"] <= df_nopromo[\"stock\"])\n",
    "    ]\n",
    "    # Count days, where sell all or part of product amount\n",
    "    sales_part = len(df_nopromo.loc[df_nopromo[\"s_qty\"] < df_nopromo[\"stock\"]])\n",
    "    sales_all = len(df_nopromo.loc[df_nopromo[\"s_qty\"] == df_nopromo[\"stock\"]])\n",
    "\n",
    "    # Count lambda for poisson distribution for days without promo\n",
    "    lambda_nopromo = df_nopromo[\"s_qty\"].sum() / (sales_part + sales_all * teta)\n",
    "\n",
    "    # Choose data with promo for a given product\n",
    "    df_promo = df.loc[(df[\"product_id\"] == product_id) & (df[\"flg_spromo\"] == 1)]\n",
    "    # Leave only correct data\n",
    "    df_promo = df_promo.loc[(df_promo[\"stock\"] > 0) & (df_promo[\"s_qty\"] <= df_promo[\"stock\"])]\n",
    "    # Count days, where sell all or part of product amount\n",
    "    sales_part = len(df_promo.loc[df_promo[\"s_qty\"] < df_promo[\"stock\"]])\n",
    "    sales_all = len(df_promo.loc[df_promo[\"s_qty\"] == df_promo[\"stock\"]])\n",
    "\n",
    "    # If required, conduct t_test and make a decision\n",
    "    recount, decision = False, None\n",
    "    if enable_test == True:\n",
    "        recount, decision = ttest_promo(df_promo, df_nopromo)\n",
    "\n",
    "    if enable_test == False or recount == True:\n",
    "        # Count lambda for poisson distribution for days with promo\n",
    "        if (sales_part + sales_all * teta) == 0:\n",
    "            lambda_promo = 0\n",
    "        else:\n",
    "            lambda_promo = df_promo[\"s_qty\"].sum() / (sales_part + sales_all * teta)\n",
    "    else:\n",
    "        lambda_promo = lambda_nopromo\n",
    "\n",
    "    return lambda_nopromo, lambda_promo, decision"
   ]
  },
  {
   "cell_type": "code",
   "execution_count": 44,
   "metadata": {},
   "outputs": [],
   "source": [
    "def add_lambda_window(df, product_id, store_id=4600, window=30, min_periods=7):\n",
    "    model_df = df\n",
    "    df = df.loc[\n",
    "        (df[\"product_id\"] == product_id) & (df[\"store_id\"] == store_id)\n",
    "    ]\n",
    "    df.loc[:, \"lambda\"] = (\n",
    "        df[\"s_qty\"]\n",
    "        .rolling(center=True, window=window, min_periods=min_periods)\n",
    "        .apply(np.nanmean)\n",
    "    )\n",
    "    df[\"lambda\"].fillna(method=\"ffill\", inplace=True)\n",
    "    df[\"lambda\"].fillna(method=\"bfill\", inplace=True)\n",
    "    model_df.loc[\n",
    "        (\n",
    "            (model_df[\"product_id\"] == product_id)\n",
    "            & (model_df[\"store_id\"] == store_id)\n",
    "        ),\n",
    "        \"lambda\",\n",
    "    ] = df\n",
    "    return model_df"
   ]
  },
  {
   "cell_type": "code",
   "execution_count": 45,
   "metadata": {},
   "outputs": [],
   "source": [
    "def add_lambda_ordinary(df, product_id, store_id, lambda_nopromo):\n",
    "    df.loc[\n",
    "        (df[\"product_id\"] == product_id) & (df[\"store_id\"] == store_id), [\"lambda\"]\n",
    "    ] = lambda_nopromo\n",
    "    return df\n",
    "\n",
    "\n",
    "def add_lambda_promo(df, product_id, store_id, lambda_promo):\n",
    "    df.loc[\n",
    "        (\n",
    "            (df[\"product_id\"] == product_id)\n",
    "            & (df[\"store_id\"] == store_id)\n",
    "            & (df[\"flg_spromo\"] == 1)\n",
    "        ),\n",
    "        [\"lambda\"],\n",
    "    ] = lambda_promo\n",
    "    return df"
   ]
  },
  {
   "cell_type": "markdown",
   "metadata": {},
   "source": [
    "### Tests:"
   ]
  },
  {
   "cell_type": "code",
   "execution_count": 46,
   "metadata": {},
   "outputs": [],
   "source": [
    "import ipywidgets as widgets\n",
    "from IPython.display import display, clear_output"
   ]
  },
  {
   "cell_type": "code",
   "execution_count": 47,
   "metadata": {},
   "outputs": [],
   "source": [
    "_sku_list = df_model.product_id.unique().tolist()\n",
    "_store_list = df.store_id.unique().tolist()\n",
    "\n",
    "dropdown_store = widgets.Dropdown(\n",
    "    options=_store_list,\n",
    "    value=_store_list[0],\n",
    "    description='Store ID:',\n",
    "    disabled=False,\n",
    ")\n",
    "\n",
    "dropdown_sku = widgets.Dropdown(\n",
    "    options=_sku_list,\n",
    "    value=582700,\n",
    "    description='SKU ID:',\n",
    "    disabled=False,\n",
    ")\n",
    "\n",
    "_dates = pd.to_datetime(df_model.curr_date.unique())\n",
    "_options = [(d.strftime('%d.%m.%Y'), d) for d in _dates if d.weekday() == 0]\n",
    "range_date = widgets.SelectionRangeSlider(\n",
    "    options=_options,\n",
    "    index=(0,len(_options)-1),\n",
    "    description='Date',\n",
    "    disabled=False,\n",
    "    layout=widgets.Layout(width='auto')\n",
    ")\n",
    "\n",
    "button_plot = widgets.Button(\n",
    "    description='Plot',\n",
    "    disabled=False,\n",
    "    button_style='', # 'success', 'info', 'warning', 'danger' or ''\n",
    "    tooltip='Click me',\n",
    "    icon='check'\n",
    ")\n",
    "\n",
    "def plot(b):\n",
    "    temp = add_missing_dates(df_model, dropdown_sku.value, dropdown_store.value)\n",
    "    lambda_nopromo, lambda_promo, _ = calculate_lambda_promo(temp, dropdown_sku.value, teta=1)\n",
    "\n",
    "    # Добавим обычную лямбду для всех дней и посчитаем спрос\n",
    "    temp = add_lambda_ordinary(temp, dropdown_sku.value, dropdown_store.value, lambda_nopromo)\n",
    "    temp_demand = calculate_demand(temp, dropdown_sku.value)\n",
    "\n",
    "    # Добавим лямбду для промо дней, посчитаем спрос\n",
    "    temp = add_lambda_promo(temp, dropdown_sku.value, dropdown_store.value, lambda_promo)\n",
    "    temp2 = calculate_demand(temp, dropdown_sku.value)\n",
    "    \n",
    "    # Рассчет\n",
    "    \n",
    "    # Спрос\n",
    "    y1 = temp2[(range_date.value[0] <= temp2.index) & (temp2.index < range_date.value[1])].demand.values\n",
    "    x1 = temp2[(range_date.value[0] <= temp2.index) & (temp2.index < range_date.value[1])].index.values\n",
    "\n",
    "    # Реальные продажи\n",
    "    y2_ = temp2[(range_date.value[0] <= temp2.index) & (temp2.index < range_date.value[1])].s_qty.values\n",
    "    x2_ = temp2[(range_date.value[0] <= temp2.index) & (temp2.index < range_date.value[1])].index.values\n",
    "    \n",
    "    temp2.s_qty.fillna(method='ffill', inplace=True)\n",
    "    \n",
    "    # Реальные продажи\n",
    "    y2 = temp2[(range_date.value[0] <= temp2.index) & (temp2.index < range_date.value[1])].s_qty.values\n",
    "    x2 = temp2[(range_date.value[0] <= temp2.index) & (temp2.index < range_date.value[1])].index.values\n",
    "    \n",
    "    y3 = temp2[\n",
    "        (range_date.value[0] <= temp2.index) & (temp2.index < range_date.value[1])\n",
    "        & ((temp2.s_qty == temp2.stock) | (0 >= temp2.stock))\n",
    "    ].s_qty.values\n",
    "    x3 = temp2[\n",
    "        (range_date.value[0] <= temp2.index) & (temp2.index < range_date.value[1])\n",
    "        & ((temp2.s_qty == temp2.stock) | (0 >= temp2.stock))\n",
    "    ].index.values\n",
    "\n",
    "    x6 = temp_demand[\n",
    "        (temp_demand.index >= range_date.value[0])\n",
    "        & (temp_demand.index < range_date.value[1])\n",
    "        & (temp_demand[\"flg_spromo\"] == 1)\n",
    "    ].index.values\n",
    "    y6 = [0] * len(x6)\n",
    "    \n",
    "    # Вывод\n",
    "    clear_output()\n",
    "    display(dropdown_store, dropdown_sku, range_date, button_plot)\n",
    "    \n",
    "    plt.figure(figsize=(15, 7))\n",
    "\n",
    "    plt.plot(x1, y1, label=\"Восстановленный спрос\", c=\"black\", alpha=0.25)\n",
    "    \n",
    "    plt.plot(x2, y2, label=\"Реальные продажи\", c=\"blue\", alpha=0.5)\n",
    "    plt.scatter(x2_, y2_, marker='x', c=\"blue\")\n",
    "    \n",
    "    for i in range( len(x3) ):\n",
    "        if i and (x3[i] - x3[i-1]) / np.timedelta64(1, 'D') == 1:\n",
    "            plt.axvspan(x3[i-1], x3[i], facecolor='r', alpha=0.25)\n",
    "        elif i == len(x3) - 1 and not (x3[i] - x3[i-1]) / np.timedelta64(1, 'D') == 1:\n",
    "            plt.axvspan(x3[i], x3[i]+np.timedelta64(1, 'D'), facecolor='r', alpha=0.25)\n",
    "    \n",
    "    for i in range( len(x6) ):\n",
    "        if i and (x6[i] - x6[i-1]) / np.timedelta64(1, 'D') == 1:\n",
    "            plt.axvspan(x6[i-1], x6[i], facecolor='g', alpha=0.25)\n",
    "        elif i == len(x6) - 1 and not (x6[i] - x6[i-1]) / np.timedelta64(1, 'D') == 1:\n",
    "            plt.axvspan(x6[i], x6[i]+np.timedelta64(1, 'D'), facecolor='g', alpha=0.25)\n",
    "\n",
    "    plt.ylabel(\"Amount of desired products\", fontsize=\"12\")\n",
    "    plt.xlabel(\"Dates\", fontsize=\"12\")\n",
    "    plt.title(f\"Demand and real sales [{range_date.value[0].strftime('%d.%m.%Y')}-{range_date.value[1].strftime('%d.%m.%Y')}]\", fontsize=\"16\")\n",
    "    plt.legend()\n",
    "    plt.show()\n",
    "\n",
    "button_plot.on_click(plot)"
   ]
  },
  {
   "cell_type": "code",
   "execution_count": 48,
   "metadata": {
    "scrolled": false
   },
   "outputs": [
    {
     "data": {
      "application/vnd.jupyter.widget-view+json": {
       "model_id": "ceecc09c45fa4ae19c955f2c38ee6e8e",
       "version_major": 2,
       "version_minor": 0
      },
      "text/plain": [
       "Dropdown(description='Store ID:', options=(4600,), value=4600)"
      ]
     },
     "metadata": {},
     "output_type": "display_data"
    },
    {
     "data": {
      "application/vnd.jupyter.widget-view+json": {
       "model_id": "fdee6965b06143efa4633e57b4ed240d",
       "version_major": 2,
       "version_minor": 0
      },
      "text/plain": [
       "Dropdown(description='SKU ID:', index=8, options=(101300, 404500, 490400, 555800, 559800, 560100, 564900, 5713…"
      ]
     },
     "metadata": {},
     "output_type": "display_data"
    },
    {
     "data": {
      "application/vnd.jupyter.widget-view+json": {
       "model_id": "2c8a29f761914a91838037a6165824ac",
       "version_major": 2,
       "version_minor": 0
      },
      "text/plain": [
       "SelectionRangeSlider(description='Date', index=(0, 208), layout=Layout(width='auto'), options=(('04.01.2016', …"
      ]
     },
     "metadata": {},
     "output_type": "display_data"
    },
    {
     "data": {
      "application/vnd.jupyter.widget-view+json": {
       "model_id": "d439f99476d1409d853bc9d24503f29a",
       "version_major": 2,
       "version_minor": 0
      },
      "text/plain": [
       "Button(description='Plot', icon='check', style=ButtonStyle(), tooltip='Click me')"
      ]
     },
     "metadata": {},
     "output_type": "display_data"
    }
   ],
   "source": [
    "display(dropdown_store, dropdown_sku, range_date, button_plot)"
   ]
  }
 ],
 "metadata": {
  "kernelspec": {
   "display_name": "projectname",
   "language": "python",
   "name": "projectname"
  },
  "language_info": {
   "codemirror_mode": {
    "name": "ipython",
    "version": 3
   },
   "file_extension": ".py",
   "mimetype": "text/x-python",
   "name": "python",
   "nbconvert_exporter": "python",
   "pygments_lexer": "ipython3",
   "version": "3.8.5"
  }
 },
 "nbformat": 4,
 "nbformat_minor": 4
}
