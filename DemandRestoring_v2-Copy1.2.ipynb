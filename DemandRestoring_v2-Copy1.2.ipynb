{
 "cells": [
  {
   "cell_type": "code",
   "execution_count": 1,
   "metadata": {
    "colab": {
     "base_uri": "https://localhost:8080/",
     "height": 122
    },
    "colab_type": "code",
    "executionInfo": {
     "elapsed": 11879,
     "status": "ok",
     "timestamp": 1584622439993,
     "user": {
      "displayName": "Demon Veen",
      "photoUrl": "https://lh3.googleusercontent.com/a-/AOh14Gg-3-7VF26gen-ydxYbd51SpBW85TTL0jLpX37rNg=s64",
      "userId": "11570074803313430802"
     },
     "user_tz": -180
    },
    "id": "glwha0LxZrRC",
    "outputId": "59f77a1a-6c22-47eb-9f47-be75c16252a0"
   },
   "outputs": [
    {
     "name": "stdout",
     "output_type": "stream",
     "text": [
      "Go to this URL in a browser: https://accounts.google.com/o/oauth2/auth?client_id=947318989803-6bn6qk8qdgf4n4g3pfee6491hc0brc4i.apps.googleusercontent.com&redirect_uri=urn%3aietf%3awg%3aoauth%3a2.0%3aoob&response_type=code&scope=email%20https%3a%2f%2fwww.googleapis.com%2fauth%2fdocs.test%20https%3a%2f%2fwww.googleapis.com%2fauth%2fdrive%20https%3a%2f%2fwww.googleapis.com%2fauth%2fdrive.photos.readonly%20https%3a%2f%2fwww.googleapis.com%2fauth%2fpeopleapi.readonly\n",
      "\n",
      "Enter your authorization code:\n",
      "··········\n",
      "Mounted at /content/gdrive\n"
     ]
    }
   ],
   "source": [
    "from google.colab import drive \n",
    "drive.mount('/content/gdrive')"
   ]
  },
  {
   "cell_type": "code",
   "execution_count": 1,
   "metadata": {
    "colab": {},
    "colab_type": "code",
    "id": "SmE2PpKf7mwQ"
   },
   "outputs": [],
   "source": [
    "import numpy as np\n",
    "import pandas as pd\n",
    "from matplotlib import pyplot as plt\n",
    "%matplotlib inline"
   ]
  },
  {
   "cell_type": "markdown",
   "metadata": {
    "colab_type": "text",
    "id": "XuQ7oLIZfGpW"
   },
   "source": [
    "Order_UpTo_Level(SKU, ТТ) - политика пополнения (S)\n",
    "<br>ReOrder_Level(SKU, ТТ) - политика пополнения (s)\n",
    "<br>(Возможное представление — Dataframe)"
   ]
  },
  {
   "cell_type": "code",
   "execution_count": 0,
   "metadata": {
    "colab": {},
    "colab_type": "code",
    "id": "v8ECFJhwZ0Hd"
   },
   "outputs": [],
   "source": [
    "OUL = 1 # Order Upto Level\n",
    "ROL = 0 # Re-Order Level\n",
    "Delta = OUL - ROL # Delta = Order_UpTo_Level - ReOrder_Level (S-s)"
   ]
  },
  {
   "cell_type": "markdown",
   "metadata": {
    "colab_type": "text",
    "id": "5hwfT-Wgl4Os"
   },
   "source": [
    "# Восстановление спроса на тестовых данных\n",
    "\n"
   ]
  },
  {
   "cell_type": "markdown",
   "metadata": {
    "colab_type": "text",
    "id": "Fa1wEY-LbEQN"
   },
   "source": [
    "Используем обучающие данные из файла data.zip, чтобы научиться восстанавливать спрос."
   ]
  },
  {
   "cell_type": "code",
   "execution_count": 0,
   "metadata": {
    "colab": {
     "base_uri": "https://localhost:8080/",
     "height": 235
    },
    "colab_type": "code",
    "executionInfo": {
     "elapsed": 797,
     "status": "ok",
     "timestamp": 1582732315175,
     "user": {
      "displayName": "Demon Veen",
      "photoUrl": "https://lh3.googleusercontent.com/a-/AAuE7mB38Y-utqUuhX6xI67A7QNwN5Bwg9g-rFdthG1HqQ=s64",
      "userId": "11570074803313430802"
     },
     "user_tz": -180
    },
    "id": "qicn9sYybDpY",
    "outputId": "36e6a74f-5728-40b9-8fe3-2e270e8ffc42"
   },
   "outputs": [
    {
     "data": {
      "text/html": [
       "<div>\n",
       "<style scoped>\n",
       "    .dataframe tbody tr th:only-of-type {\n",
       "        vertical-align: middle;\n",
       "    }\n",
       "\n",
       "    .dataframe tbody tr th {\n",
       "        vertical-align: top;\n",
       "    }\n",
       "\n",
       "    .dataframe thead th {\n",
       "        text-align: right;\n",
       "    }\n",
       "</style>\n",
       "<table border=\"1\" class=\"dataframe\">\n",
       "  <thead>\n",
       "    <tr style=\"text-align: right;\">\n",
       "      <th></th>\n",
       "      <th>purchase_date</th>\n",
       "      <th>shop_id</th>\n",
       "      <th>product_id</th>\n",
       "      <th>price</th>\n",
       "      <th>sales</th>\n",
       "      <th>price_after_discount</th>\n",
       "    </tr>\n",
       "    <tr>\n",
       "      <th>Timestamp</th>\n",
       "      <th></th>\n",
       "      <th></th>\n",
       "      <th></th>\n",
       "      <th></th>\n",
       "      <th></th>\n",
       "      <th></th>\n",
       "    </tr>\n",
       "  </thead>\n",
       "  <tbody>\n",
       "    <tr>\n",
       "      <th>2013-01-02</th>\n",
       "      <td>2013-01-02</td>\n",
       "      <td>4001</td>\n",
       "      <td>4100024369</td>\n",
       "      <td>1480</td>\n",
       "      <td>1</td>\n",
       "      <td>1480.0</td>\n",
       "    </tr>\n",
       "    <tr>\n",
       "      <th>2013-01-02</th>\n",
       "      <td>2013-01-02</td>\n",
       "      <td>4001</td>\n",
       "      <td>4100024794</td>\n",
       "      <td>2807</td>\n",
       "      <td>1</td>\n",
       "      <td>2807.0</td>\n",
       "    </tr>\n",
       "    <tr>\n",
       "      <th>2013-01-02</th>\n",
       "      <td>2013-01-02</td>\n",
       "      <td>4001</td>\n",
       "      <td>4100028657</td>\n",
       "      <td>979</td>\n",
       "      <td>1</td>\n",
       "      <td>979.0</td>\n",
       "    </tr>\n",
       "    <tr>\n",
       "      <th>2013-01-02</th>\n",
       "      <td>2013-01-02</td>\n",
       "      <td>4001</td>\n",
       "      <td>4300000205</td>\n",
       "      <td>3319</td>\n",
       "      <td>1</td>\n",
       "      <td>3319.0</td>\n",
       "    </tr>\n",
       "    <tr>\n",
       "      <th>2013-01-02</th>\n",
       "      <td>2013-01-02</td>\n",
       "      <td>4001</td>\n",
       "      <td>4300007581</td>\n",
       "      <td>1899</td>\n",
       "      <td>1</td>\n",
       "      <td>1899.0</td>\n",
       "    </tr>\n",
       "  </tbody>\n",
       "</table>\n",
       "</div>"
      ],
      "text/plain": [
       "           purchase_date  shop_id  ...  sales  price_after_discount\n",
       "Timestamp                          ...                             \n",
       "2013-01-02    2013-01-02     4001  ...      1                1480.0\n",
       "2013-01-02    2013-01-02     4001  ...      1                2807.0\n",
       "2013-01-02    2013-01-02     4001  ...      1                 979.0\n",
       "2013-01-02    2013-01-02     4001  ...      1                3319.0\n",
       "2013-01-02    2013-01-02     4001  ...      1                1899.0\n",
       "\n",
       "[5 rows x 6 columns]"
      ]
     },
     "execution_count": 176,
     "metadata": {
      "tags": []
     },
     "output_type": "execute_result"
    }
   ],
   "source": [
    "sales = pd.read_csv('/content/gdrive/My Drive/A Reinforcement Learning Approach for Inventory Optimization in Retail/DemandRestoring_v0/data/sales_4001.csv', sep=',', decimal='.')\n",
    "sales['Timestamp'] = pd.to_datetime(sales[u'purchase_date'])\n",
    "sales = sales.set_index(['Timestamp'], drop=True).rename(columns={'quantity':'sales'})\n",
    "sales.head()"
   ]
  },
  {
   "cell_type": "code",
   "execution_count": 0,
   "metadata": {
    "colab": {
     "base_uri": "https://localhost:8080/",
     "height": 235
    },
    "colab_type": "code",
    "executionInfo": {
     "elapsed": 474,
     "status": "ok",
     "timestamp": 1582732315176,
     "user": {
      "displayName": "Demon Veen",
      "photoUrl": "https://lh3.googleusercontent.com/a-/AAuE7mB38Y-utqUuhX6xI67A7QNwN5Bwg9g-rFdthG1HqQ=s64",
      "userId": "11570074803313430802"
     },
     "user_tz": -180
    },
    "id": "ZyIRk2sLbvbE",
    "outputId": "4d516ecd-7c52-41e4-fcc3-a991e739453d"
   },
   "outputs": [
    {
     "data": {
      "text/html": [
       "<div>\n",
       "<style scoped>\n",
       "    .dataframe tbody tr th:only-of-type {\n",
       "        vertical-align: middle;\n",
       "    }\n",
       "\n",
       "    .dataframe tbody tr th {\n",
       "        vertical-align: top;\n",
       "    }\n",
       "\n",
       "    .dataframe thead th {\n",
       "        text-align: right;\n",
       "    }\n",
       "</style>\n",
       "<table border=\"1\" class=\"dataframe\">\n",
       "  <thead>\n",
       "    <tr style=\"text-align: right;\">\n",
       "      <th></th>\n",
       "      <th>shop_id</th>\n",
       "      <th>product_id</th>\n",
       "      <th>updated_at</th>\n",
       "      <th>inventory</th>\n",
       "    </tr>\n",
       "    <tr>\n",
       "      <th>Timestamp</th>\n",
       "      <th></th>\n",
       "      <th></th>\n",
       "      <th></th>\n",
       "      <th></th>\n",
       "    </tr>\n",
       "  </thead>\n",
       "  <tbody>\n",
       "    <tr>\n",
       "      <th>2015-08-31</th>\n",
       "      <td>4001</td>\n",
       "      <td>4300059161</td>\n",
       "      <td>2015-08-31</td>\n",
       "      <td>0</td>\n",
       "    </tr>\n",
       "    <tr>\n",
       "      <th>2016-01-02</th>\n",
       "      <td>4001</td>\n",
       "      <td>4300059161</td>\n",
       "      <td>2016-01-02</td>\n",
       "      <td>0</td>\n",
       "    </tr>\n",
       "    <tr>\n",
       "      <th>2015-08-31</th>\n",
       "      <td>4001</td>\n",
       "      <td>4300059161</td>\n",
       "      <td>2015-08-31</td>\n",
       "      <td>1</td>\n",
       "    </tr>\n",
       "    <tr>\n",
       "      <th>2013-04-17</th>\n",
       "      <td>4001</td>\n",
       "      <td>4300051009</td>\n",
       "      <td>2013-04-17</td>\n",
       "      <td>1</td>\n",
       "    </tr>\n",
       "    <tr>\n",
       "      <th>2013-08-11</th>\n",
       "      <td>4001</td>\n",
       "      <td>4300051009</td>\n",
       "      <td>2013-08-11</td>\n",
       "      <td>0</td>\n",
       "    </tr>\n",
       "  </tbody>\n",
       "</table>\n",
       "</div>"
      ],
      "text/plain": [
       "            shop_id  product_id  updated_at  inventory\n",
       "Timestamp                                             \n",
       "2015-08-31     4001  4300059161  2015-08-31          0\n",
       "2016-01-02     4001  4300059161  2016-01-02          0\n",
       "2015-08-31     4001  4300059161  2015-08-31          1\n",
       "2013-04-17     4001  4300051009  2013-04-17          1\n",
       "2013-08-11     4001  4300051009  2013-08-11          0"
      ]
     },
     "execution_count": 177,
     "metadata": {
      "tags": []
     },
     "output_type": "execute_result"
    }
   ],
   "source": [
    "inventory = pd.read_csv('/content/gdrive/My Drive/A Reinforcement Learning Approach for Inventory Optimization in Retail/DemandRestoring_v0/data/remains_4001.csv', sep=',', decimal='.')\n",
    "inventory['Timestamp'] = pd.to_datetime(inventory[u'updated_at'])\n",
    "inventory = inventory.set_index(['Timestamp'], drop=True).rename(columns={'quantity':'inventory'})\n",
    "# inventory = inventory.sort_index()\n",
    "inventory.head()"
   ]
  },
  {
   "cell_type": "markdown",
   "metadata": {
    "colab_type": "text",
    "id": "izcaPzC8eRat"
   },
   "source": [
    "В качестве списка всех магазинов и товаров используем информацию об остатках, так как при наличии записи о ненулевом остатке в inventory можно говорить об нулевых продажах в sales."
   ]
  },
  {
   "cell_type": "code",
   "execution_count": 0,
   "metadata": {
    "colab": {
     "base_uri": "https://localhost:8080/",
     "height": 51
    },
    "colab_type": "code",
    "executionInfo": {
     "elapsed": 583,
     "status": "ok",
     "timestamp": 1582732318881,
     "user": {
      "displayName": "Demon Veen",
      "photoUrl": "https://lh3.googleusercontent.com/a-/AAuE7mB38Y-utqUuhX6xI67A7QNwN5Bwg9g-rFdthG1HqQ=s64",
      "userId": "11570074803313430802"
     },
     "user_tz": -180
    },
    "id": "vnA_ln1rbzC8",
    "outputId": "9d522b60-f131-48a2-fb4c-1381706002b5"
   },
   "outputs": [
    {
     "name": "stdout",
     "output_type": "stream",
     "text": [
      "1 [4001]\n",
      "14466 [4100000013 4100000017 4100000029 ... 4900005059 4900005473 4900005475]\n"
     ]
    }
   ],
   "source": [
    "shops = np.sort(inventory['shop_id'].unique())\n",
    "print(len(shops), shops)\n",
    "\n",
    "products = np.sort(inventory['product_id'].unique())\n",
    "print(len(products), products)"
   ]
  },
  {
   "cell_type": "markdown",
   "metadata": {
    "colab_type": "text",
    "id": "eMzZa3ETfgyc"
   },
   "source": [
    "Для каждого товара в каждом магазине расчитаем lambda.\n",
    "\n"
   ]
  },
  {
   "cell_type": "code",
   "execution_count": 0,
   "metadata": {
    "colab": {
     "base_uri": "https://localhost:8080/",
     "height": 49
    },
    "colab_type": "code",
    "executionInfo": {
     "elapsed": 623,
     "status": "ok",
     "timestamp": 1582732321648,
     "user": {
      "displayName": "Demon Veen",
      "photoUrl": "https://lh3.googleusercontent.com/a-/AAuE7mB38Y-utqUuhX6xI67A7QNwN5Bwg9g-rFdthG1HqQ=s64",
      "userId": "11570074803313430802"
     },
     "user_tz": -180
    },
    "id": "I21IMPqjfbkZ",
    "outputId": "d4c13166-fbc3-4bb2-d4d1-4e95736137f6"
   },
   "outputs": [
    {
     "data": {
      "text/html": [
       "<div>\n",
       "<style scoped>\n",
       "    .dataframe tbody tr th:only-of-type {\n",
       "        vertical-align: middle;\n",
       "    }\n",
       "\n",
       "    .dataframe tbody tr th {\n",
       "        vertical-align: top;\n",
       "    }\n",
       "\n",
       "    .dataframe thead th {\n",
       "        text-align: right;\n",
       "    }\n",
       "</style>\n",
       "<table border=\"1\" class=\"dataframe\">\n",
       "  <thead>\n",
       "    <tr style=\"text-align: right;\">\n",
       "      <th></th>\n",
       "      <th>shop_id</th>\n",
       "      <th>product_id</th>\n",
       "      <th>month</th>\n",
       "      <th>lambda</th>\n",
       "    </tr>\n",
       "  </thead>\n",
       "  <tbody>\n",
       "  </tbody>\n",
       "</table>\n",
       "</div>"
      ],
      "text/plain": [
       "Empty DataFrame\n",
       "Columns: [shop_id, product_id, month, lambda]\n",
       "Index: []"
      ]
     },
     "execution_count": 179,
     "metadata": {
      "tags": []
     },
     "output_type": "execute_result"
    }
   ],
   "source": [
    "lambda_data = pd.DataFrame(columns=['shop_id', 'product_id', 'month', 'lambda'])\n",
    "lambda_data"
   ]
  },
  {
   "cell_type": "code",
   "execution_count": 0,
   "metadata": {
    "colab": {
     "base_uri": "https://localhost:8080/",
     "height": 85
    },
    "colab_type": "code",
    "executionInfo": {
     "elapsed": 1060,
     "status": "ok",
     "timestamp": 1582731454214,
     "user": {
      "displayName": "Demon Veen",
      "photoUrl": "https://lh3.googleusercontent.com/a-/AAuE7mB38Y-utqUuhX6xI67A7QNwN5Bwg9g-rFdthG1HqQ=s64",
      "userId": "11570074803313430802"
     },
     "user_tz": -180
    },
    "id": "nlE8yCakjWEZ",
    "outputId": "d966d6dc-cb21-4287-b699-31d8dde92bd7"
   },
   "outputs": [
    {
     "name": "stdout",
     "output_type": "stream",
     "text": [
      "sum_k:  1.0\n",
      "n_k_less_m:  179\n",
      "n_k_equal_m:  1\n",
      "LAMBDA: 0.005555555555555556\n"
     ]
    }
   ],
   "source": [
    "shop_id = 4001\n",
    "product_id = 4100000013\n",
    "\n",
    "# inventory = inventory[(inventory['product_id'] == product_id) & (inventory['shop_id'] == shop_id)]\n",
    "# inventory[(inventory['product_id'] == product_id) & (inventory['shop_id'] == shop_id)]\n",
    "\n",
    "# Агрегируем на всякий случай остатки на одну дату (берём максимально известный остаток за дату)\n",
    "iv_ts = inventory.reset_index().groupby('Timestamp').agg({'inventory':np.max})\n",
    "\n",
    "# Добавим пропущенные даты и заполним значения остатков в эти даты нулями\n",
    "iv_ts = iv_ts.reindex(pd.date_range(np.min(iv_ts.index), np.max(iv_ts.index))).fillna(method='ffill')\n",
    "\n",
    "# Добавим данные о продажах\n",
    "sales_ts = sales[(sales['product_id'] == product_id) & (sales['shop_id'] == shop_id)]\n",
    "\n",
    "# Объединим продажи и остатки в один датафрейм\n",
    "iv_sales = sales_ts[['sales']].merge(iv_ts, how='right', left_index=True, right_index=True)\n",
    "iv_sales['sales'].fillna(0, inplace=True)\n",
    "\n",
    "# Удалим начало и \"хвост\" истории, когда продажи и остатки были равны нулю\n",
    "positive_iv_sales = iv_sales[iv_sales.max(axis=1) > 0]\n",
    "life_start_date = positive_iv_sales.index[0]\n",
    "life_end_date = positive_iv_sales.index[-1]\n",
    "iv_sales = iv_sales[(iv_sales.index >= life_start_date) & (iv_sales.index <= life_end_date)] \n",
    "\n",
    "# Дни, когда и остатки и продажи = нулю\n",
    "zero_idx = (iv_sales['inventory'] == 0) & (iv_sales['sales'] == 0)\n",
    "# Дни, когда продажи = остаткам\n",
    "sales_equal_inv_idx = (iv_sales['inventory'] == iv_sales['sales']) \n",
    "# Дни, когда продажи >= остаткам\n",
    "sales_greater_i_idx = (iv_sales['inventory'] <= iv_sales['sales']) \n",
    "\n",
    "# Суммарные продажи товара в данном магазине\n",
    "sum_k = iv_sales['sales'].sum()\n",
    "# Количество дней, когда продажи были меньше остатка\n",
    "n_k_less_m = iv_sales['sales'][(~zero_idx) & (~sales_greater_i_idx)].count()\n",
    "# Количество дней, когда продажи были равны остатку (все распродано)\n",
    "n_k_equal_m = iv_sales['sales'][(~zero_idx) & sales_greater_i_idx].count()\n",
    "\n",
    "alpha = 1\n",
    "LAMBDA = sum_k / (n_k_less_m + alpha * n_k_equal_m)\n",
    "\n",
    "print('sum_k: ', sum_k)\n",
    "print('n_k_less_m: ', n_k_less_m)\n",
    "print('n_k_equal_m: ', n_k_equal_m)\n",
    "print('LAMBDA:', LAMBDA)"
   ]
  },
  {
   "cell_type": "code",
   "execution_count": 0,
   "metadata": {
    "colab": {},
    "colab_type": "code",
    "id": "QN71mo_6Il8k"
   },
   "outputs": [],
   "source": [
    "def kernel_default(x, y):\n",
    "    return 1"
   ]
  },
  {
   "cell_type": "code",
   "execution_count": 0,
   "metadata": {
    "colab": {},
    "colab_type": "code",
    "id": "qhU8diiPf2JQ"
   },
   "outputs": [],
   "source": [
    "def DemandRestoring(shop_id, product_id, kernel=kernel_default):\n",
    "    # inventory = inventory[(inventory['product_id'] == product_id) & (inventory['shop_id'] == shop_id)]\n",
    "    # inventory[(inventory['product_id'] == product_id) & (inventory['shop_id'] == shop_id)]\n",
    "\n",
    "    # Агрегируем на всякий случай остатки на одну дату (берём максимально известный остаток за дату)\n",
    "    iv_ts = inventory.reset_index().groupby('Timestamp').agg({'inventory':np.max})\n",
    "\n",
    "    # Добавим пропущенные даты и заполним значения остатков в эти даты нулями\n",
    "    iv_ts = iv_ts.reindex(pd.date_range(np.min(iv_ts.index), np.max(iv_ts.index))).fillna(method='ffill')\n",
    "\n",
    "    # Добавим данные о продажах\n",
    "    sales_ts = sales[(sales['product_id'] == product_id) & (sales['shop_id'] == shop_id)]\n",
    "\n",
    "    # Объединим продажи и остатки в один датафрейм\n",
    "    iv_sales = sales_ts[['sales']].merge(iv_ts, how='right', left_index=True, right_index=True)\n",
    "    iv_sales['sales'].fillna(0, inplace=True)\n",
    "\n",
    "    # Удалим начало и \"хвост\" истории, когда продажи и остатки были равны нулю\n",
    "    positive_iv_sales = iv_sales[iv_sales.max(axis=1) > 0]\n",
    "    life_start_date = positive_iv_sales.index[0]\n",
    "    life_end_date = positive_iv_sales.index[-1]\n",
    "    iv_sales = iv_sales[(iv_sales.index >= life_start_date) & (iv_sales.index <= life_end_date)] \n",
    "\n",
    "    # Дни, когда и остатки и продажи = нулю\n",
    "    zero_idx = (iv_sales['inventory'] == 0) & (iv_sales['sales'] == 0)\n",
    "    # Дни, когда продажи = остаткам\n",
    "    sales_equal_inv_idx = (iv_sales['inventory'] == iv_sales['sales']) \n",
    "    # Дни, когда продажи >= остаткам\n",
    "    sales_greater_i_idx = (iv_sales['inventory'] <= iv_sales['sales']) \n",
    "\n",
    "\n",
    "\n",
    "\n",
    "#     # вычисление веса для каждого периода, когда наблюдался дефицит \n",
    "#     iv_sales['LAMBDA'] = np.NaN\n",
    "#     for oos_day in zero_idx:\n",
    "#         iv_sales['weights'] = [kernel(iv_sales.index[oos_day], iv_sales.index[x]) for x in iv_sales.index] \n",
    "\n",
    "#         # Суммарные продажи товара в данном магазине\n",
    "#         iv_sales['scalar'] = iv_sales['sales'][(~zero_idx)]*iv_sales['weights'][(~zero_idx)]\n",
    "#         sum_k = iv_sales['scalar'].sum()\n",
    "        \n",
    "#         #   sum_k = iv_sales['sales'].sum()\n",
    "#         # Количество дней, когда продажи были меньше остатка\n",
    "# #         n_k_less_m = iv_sales['sales'][(~zero_idx) & (~sales_greater_i_idx)].count()\n",
    "#         n_k_less_m = iv_sales['weights'][(~zero_idx) & (~sales_greater_i_idx)].sum()\n",
    "#         # Количество дней, когда продажи были равны остатку (все распродано)\n",
    "# #         n_k_equal_m = iv_sales['sales'][(~zero_idx) & sales_greater_i_idx].count()\n",
    "#         n_k_equal_m = iv_sales['weights'][(~zero_idx) & sales_greater_i_idx].sum()\n",
    "\n",
    "#         alpha = 1 # Возможно проапгрейдить\n",
    "#         iv_sales['LAMBDA'][oss_day] = sum_k / (n_k_less_m + alpha * n_k_equal_m)\n",
    "\n",
    "\n",
    "\n",
    "\n",
    "    lambda_data_t = pd.DataFrame(columns=['shop_id', 'product_id', 'month', 'lambda'])\n",
    "\n",
    "    # вычисление веса для каждого периода, когда наблюдался дефицит\n",
    "    iv_sales['LAMBDA'] = np.NaN\n",
    "    for oos_day in zero_idx.index:\n",
    "        # iv_sales['weights'] = [kernel(iv_sales.index[oos_day], iv_sales.index[x]) for x in iv_sales.index]\n",
    "        iv_sales['weights'] = [kernel(oos_day.month, x.month) for x in iv_sales.index]\n",
    "        # iv_sales['weights'] = [1 for x in iv_sales.index]\n",
    "\n",
    "        # Суммарные продажи товара в данном магазине\n",
    "        iv_sales['scalar'] = iv_sales['sales'][(~zero_idx)] * iv_sales['weights'][(~zero_idx)]\n",
    "        sum_k = iv_sales['scalar'].sum()\n",
    "        \n",
    "        # Количество дней, когда продажи были меньше остатка\n",
    "        n_k_less_m = iv_sales['weights'][(~zero_idx) & (~sales_greater_i_idx)].sum()\n",
    "\n",
    "        # Количество дней, когда продажи были равны остатку (все распродано)\n",
    "        n_k_equal_m = iv_sales['weights'][(~zero_idx) & sales_greater_i_idx].sum()\n",
    "\n",
    "        alpha = 1 # Возможно проапгрейдить\n",
    "        LAMBDA = sum_k / (n_k_less_m + alpha * n_k_equal_m)\n",
    "\n",
    "        lambda_data_t = lambda_data_t.append({'shop_id': shop_id, 'product_id': product_id, 'month': oos_day.month, 'lambda': LAMBDA}, ignore_index=True)\n",
    "\n",
    "    return lambda_data_t"
   ]
  },
  {
   "cell_type": "code",
   "execution_count": 0,
   "metadata": {
    "colab": {
     "base_uri": "https://localhost:8080/",
     "height": 419
    },
    "colab_type": "code",
    "executionInfo": {
     "elapsed": 11158,
     "status": "ok",
     "timestamp": 1582732704115,
     "user": {
      "displayName": "Demon Veen",
      "photoUrl": "https://lh3.googleusercontent.com/a-/AAuE7mB38Y-utqUuhX6xI67A7QNwN5Bwg9g-rFdthG1HqQ=s64",
      "userId": "11570074803313430802"
     },
     "user_tz": -180
    },
    "id": "WIoSicf2AdqA",
    "outputId": "a86daed3-055f-42d5-d41e-c8eecaa58800"
   },
   "outputs": [
    {
     "data": {
      "text/html": [
       "<div>\n",
       "<style scoped>\n",
       "    .dataframe tbody tr th:only-of-type {\n",
       "        vertical-align: middle;\n",
       "    }\n",
       "\n",
       "    .dataframe tbody tr th {\n",
       "        vertical-align: top;\n",
       "    }\n",
       "\n",
       "    .dataframe thead th {\n",
       "        text-align: right;\n",
       "    }\n",
       "</style>\n",
       "<table border=\"1\" class=\"dataframe\">\n",
       "  <thead>\n",
       "    <tr style=\"text-align: right;\">\n",
       "      <th></th>\n",
       "      <th>shop_id</th>\n",
       "      <th>product_id</th>\n",
       "      <th>month</th>\n",
       "      <th>lambda</th>\n",
       "    </tr>\n",
       "  </thead>\n",
       "  <tbody>\n",
       "    <tr>\n",
       "      <th>0</th>\n",
       "      <td>4001.0</td>\n",
       "      <td>4.100000e+09</td>\n",
       "      <td>1.0</td>\n",
       "      <td>0.005556</td>\n",
       "    </tr>\n",
       "    <tr>\n",
       "      <th>1</th>\n",
       "      <td>4001.0</td>\n",
       "      <td>4.100000e+09</td>\n",
       "      <td>1.0</td>\n",
       "      <td>0.005556</td>\n",
       "    </tr>\n",
       "    <tr>\n",
       "      <th>2</th>\n",
       "      <td>4001.0</td>\n",
       "      <td>4.100000e+09</td>\n",
       "      <td>1.0</td>\n",
       "      <td>0.005556</td>\n",
       "    </tr>\n",
       "    <tr>\n",
       "      <th>3</th>\n",
       "      <td>4001.0</td>\n",
       "      <td>4.100000e+09</td>\n",
       "      <td>1.0</td>\n",
       "      <td>0.005556</td>\n",
       "    </tr>\n",
       "    <tr>\n",
       "      <th>4</th>\n",
       "      <td>4001.0</td>\n",
       "      <td>4.100000e+09</td>\n",
       "      <td>1.0</td>\n",
       "      <td>0.005556</td>\n",
       "    </tr>\n",
       "    <tr>\n",
       "      <th>...</th>\n",
       "      <td>...</td>\n",
       "      <td>...</td>\n",
       "      <td>...</td>\n",
       "      <td>...</td>\n",
       "    </tr>\n",
       "    <tr>\n",
       "      <th>1367</th>\n",
       "      <td>4001.0</td>\n",
       "      <td>4.100000e+09</td>\n",
       "      <td>10.0</td>\n",
       "      <td>0.005556</td>\n",
       "    </tr>\n",
       "    <tr>\n",
       "      <th>1368</th>\n",
       "      <td>4001.0</td>\n",
       "      <td>4.100000e+09</td>\n",
       "      <td>10.0</td>\n",
       "      <td>0.005556</td>\n",
       "    </tr>\n",
       "    <tr>\n",
       "      <th>1369</th>\n",
       "      <td>4001.0</td>\n",
       "      <td>4.100000e+09</td>\n",
       "      <td>10.0</td>\n",
       "      <td>0.005556</td>\n",
       "    </tr>\n",
       "    <tr>\n",
       "      <th>1370</th>\n",
       "      <td>4001.0</td>\n",
       "      <td>4.100000e+09</td>\n",
       "      <td>10.0</td>\n",
       "      <td>0.005556</td>\n",
       "    </tr>\n",
       "    <tr>\n",
       "      <th>1371</th>\n",
       "      <td>4001.0</td>\n",
       "      <td>4.100000e+09</td>\n",
       "      <td>10.0</td>\n",
       "      <td>0.005556</td>\n",
       "    </tr>\n",
       "  </tbody>\n",
       "</table>\n",
       "<p>1372 rows × 4 columns</p>\n",
       "</div>"
      ],
      "text/plain": [
       "      shop_id    product_id  month    lambda\n",
       "0      4001.0  4.100000e+09    1.0  0.005556\n",
       "1      4001.0  4.100000e+09    1.0  0.005556\n",
       "2      4001.0  4.100000e+09    1.0  0.005556\n",
       "3      4001.0  4.100000e+09    1.0  0.005556\n",
       "4      4001.0  4.100000e+09    1.0  0.005556\n",
       "...       ...           ...    ...       ...\n",
       "1367   4001.0  4.100000e+09   10.0  0.005556\n",
       "1368   4001.0  4.100000e+09   10.0  0.005556\n",
       "1369   4001.0  4.100000e+09   10.0  0.005556\n",
       "1370   4001.0  4.100000e+09   10.0  0.005556\n",
       "1371   4001.0  4.100000e+09   10.0  0.005556\n",
       "\n",
       "[1372 rows x 4 columns]"
      ]
     },
     "execution_count": 191,
     "metadata": {
      "tags": []
     },
     "output_type": "execute_result"
    }
   ],
   "source": [
    "lambda_data_t = DemandRestoring(4001, 4100000013).drop_duplicates()\n",
    "lambda_data_t"
   ]
  },
  {
   "cell_type": "code",
   "execution_count": 0,
   "metadata": {
    "colab": {},
    "colab_type": "code",
    "id": "SMFhm5zUcwFn"
   },
   "outputs": [],
   "source": [
    "for shop_id in shops:\n",
    "    for product_id in products:\n",
    "        lambda_data_t = DemandRestoring(shop_id, product_id).drop_duplicates()\n",
    "        lambda_data = lambda_data.append(lambda_data_t)"
   ]
  },
  {
   "cell_type": "code",
   "execution_count": 0,
   "metadata": {
    "colab": {},
    "colab_type": "code",
    "id": "kat2E2B-noV0"
   },
   "outputs": [],
   "source": [
    "lambda_data[['shop_id', 'product_id', 'month']] = lambda_data[['shop_id', 'product_id', 'month']].astype('int64')\n",
    "lambda_data['lambda'] = lambda_data['lambda'].astype('float64')\n",
    "lambda_data"
   ]
  },
  {
   "cell_type": "code",
   "execution_count": 0,
   "metadata": {
    "colab": {},
    "colab_type": "code",
    "id": "LRnwmQ07cv6r"
   },
   "outputs": [],
   "source": [
    "export_lambda_csv = lambda_data.to_csv('/content/gdrive/My Drive/A Reinforcement Learning Approach for Inventory Optimization in Retail/DemandRestoring_v0/data/lambda_data.csv', sep=',', decimal='.')"
   ]
  },
  {
   "cell_type": "markdown",
   "metadata": {
    "colab_type": "text",
    "id": "9YgW9DAabpMg"
   },
   "source": [
    "Можно сразу подгрузить посчитанную lambda."
   ]
  },
  {
   "cell_type": "code",
   "execution_count": 0,
   "metadata": {
    "colab": {
     "base_uri": "https://localhost:8080/",
     "height": 419
    },
    "colab_type": "code",
    "executionInfo": {
     "elapsed": 599,
     "status": "ok",
     "timestamp": 1582732622018,
     "user": {
      "displayName": "Demon Veen",
      "photoUrl": "https://lh3.googleusercontent.com/a-/AAuE7mB38Y-utqUuhX6xI67A7QNwN5Bwg9g-rFdthG1HqQ=s64",
      "userId": "11570074803313430802"
     },
     "user_tz": -180
    },
    "id": "hBk1a3toaA8L",
    "outputId": "ea678aaf-acec-46f1-e8e4-9d88f559421f"
   },
   "outputs": [
    {
     "data": {
      "text/html": [
       "<div>\n",
       "<style scoped>\n",
       "    .dataframe tbody tr th:only-of-type {\n",
       "        vertical-align: middle;\n",
       "    }\n",
       "\n",
       "    .dataframe tbody tr th {\n",
       "        vertical-align: top;\n",
       "    }\n",
       "\n",
       "    .dataframe thead th {\n",
       "        text-align: right;\n",
       "    }\n",
       "</style>\n",
       "<table border=\"1\" class=\"dataframe\">\n",
       "  <thead>\n",
       "    <tr style=\"text-align: right;\">\n",
       "      <th></th>\n",
       "      <th>Unnamed: 0</th>\n",
       "      <th>shop_id</th>\n",
       "      <th>product_id</th>\n",
       "      <th>month</th>\n",
       "      <th>lambda</th>\n",
       "    </tr>\n",
       "  </thead>\n",
       "  <tbody>\n",
       "    <tr>\n",
       "      <th>0</th>\n",
       "      <td>0</td>\n",
       "      <td>4001</td>\n",
       "      <td>4100000013</td>\n",
       "      <td>1</td>\n",
       "      <td>0.005556</td>\n",
       "    </tr>\n",
       "    <tr>\n",
       "      <th>1</th>\n",
       "      <td>1</td>\n",
       "      <td>4001</td>\n",
       "      <td>4100000017</td>\n",
       "      <td>1</td>\n",
       "      <td>0.005587</td>\n",
       "    </tr>\n",
       "    <tr>\n",
       "      <th>2</th>\n",
       "      <td>2</td>\n",
       "      <td>4001</td>\n",
       "      <td>4100000029</td>\n",
       "      <td>1</td>\n",
       "      <td>0.000000</td>\n",
       "    </tr>\n",
       "    <tr>\n",
       "      <th>3</th>\n",
       "      <td>3</td>\n",
       "      <td>4001</td>\n",
       "      <td>4100000137</td>\n",
       "      <td>1</td>\n",
       "      <td>0.005556</td>\n",
       "    </tr>\n",
       "    <tr>\n",
       "      <th>4</th>\n",
       "      <td>4</td>\n",
       "      <td>4001</td>\n",
       "      <td>4100000170</td>\n",
       "      <td>1</td>\n",
       "      <td>0.005556</td>\n",
       "    </tr>\n",
       "    <tr>\n",
       "      <th>...</th>\n",
       "      <td>...</td>\n",
       "      <td>...</td>\n",
       "      <td>...</td>\n",
       "      <td>...</td>\n",
       "      <td>...</td>\n",
       "    </tr>\n",
       "    <tr>\n",
       "      <th>14461</th>\n",
       "      <td>14461</td>\n",
       "      <td>4001</td>\n",
       "      <td>4900005055</td>\n",
       "      <td>1</td>\n",
       "      <td>0.000000</td>\n",
       "    </tr>\n",
       "    <tr>\n",
       "      <th>14462</th>\n",
       "      <td>14462</td>\n",
       "      <td>4001</td>\n",
       "      <td>4900005057</td>\n",
       "      <td>1</td>\n",
       "      <td>0.000000</td>\n",
       "    </tr>\n",
       "    <tr>\n",
       "      <th>14463</th>\n",
       "      <td>14463</td>\n",
       "      <td>4001</td>\n",
       "      <td>4900005059</td>\n",
       "      <td>1</td>\n",
       "      <td>0.000000</td>\n",
       "    </tr>\n",
       "    <tr>\n",
       "      <th>14464</th>\n",
       "      <td>14464</td>\n",
       "      <td>4001</td>\n",
       "      <td>4900005473</td>\n",
       "      <td>1</td>\n",
       "      <td>0.000000</td>\n",
       "    </tr>\n",
       "    <tr>\n",
       "      <th>14465</th>\n",
       "      <td>14465</td>\n",
       "      <td>4001</td>\n",
       "      <td>4900005475</td>\n",
       "      <td>1</td>\n",
       "      <td>0.005556</td>\n",
       "    </tr>\n",
       "  </tbody>\n",
       "</table>\n",
       "<p>14466 rows × 5 columns</p>\n",
       "</div>"
      ],
      "text/plain": [
       "       Unnamed: 0  shop_id  product_id  month    lambda\n",
       "0               0     4001  4100000013      1  0.005556\n",
       "1               1     4001  4100000017      1  0.005587\n",
       "2               2     4001  4100000029      1  0.000000\n",
       "3               3     4001  4100000137      1  0.005556\n",
       "4               4     4001  4100000170      1  0.005556\n",
       "...           ...      ...         ...    ...       ...\n",
       "14461       14461     4001  4900005055      1  0.000000\n",
       "14462       14462     4001  4900005057      1  0.000000\n",
       "14463       14463     4001  4900005059      1  0.000000\n",
       "14464       14464     4001  4900005473      1  0.000000\n",
       "14465       14465     4001  4900005475      1  0.005556\n",
       "\n",
       "[14466 rows x 5 columns]"
      ]
     },
     "execution_count": 189,
     "metadata": {
      "tags": []
     },
     "output_type": "execute_result"
    }
   ],
   "source": [
    "lambda_data = pd.read_csv('/content/gdrive/My Drive/A Reinforcement Learning Approach for Inventory Optimization in Retail/DemandRestoring_v0/data/lambda_data.csv')\n",
    "lambda_data"
   ]
  },
  {
   "cell_type": "markdown",
   "metadata": {
    "colab_type": "text",
    "id": "OCdwTxTtOcQv"
   },
   "source": [
    "# Восстановление спроса на MERGE_TABLE_STORE_4600"
   ]
  },
  {
   "cell_type": "code",
   "execution_count": 0,
   "metadata": {
    "colab": {
     "base_uri": "https://localhost:8080/",
     "height": 450
    },
    "colab_type": "code",
    "executionInfo": {
     "elapsed": 48778,
     "status": "ok",
     "timestamp": 1583957184881,
     "user": {
      "displayName": "Demon Veen",
      "photoUrl": "https://lh3.googleusercontent.com/a-/AOh14Gg-3-7VF26gen-ydxYbd51SpBW85TTL0jLpX37rNg=s64",
      "userId": "11570074803313430802"
     },
     "user_tz": -180
    },
    "id": "rzcMiNiaOkng",
    "outputId": "34fa6c6c-e649-473d-c7d0-e1a06358ceb3"
   },
   "outputs": [
    {
     "data": {
      "text/html": [
       "<div>\n",
       "<style scoped>\n",
       "    .dataframe tbody tr th:only-of-type {\n",
       "        vertical-align: middle;\n",
       "    }\n",
       "\n",
       "    .dataframe tbody tr th {\n",
       "        vertical-align: top;\n",
       "    }\n",
       "\n",
       "    .dataframe thead th {\n",
       "        text-align: right;\n",
       "    }\n",
       "</style>\n",
       "<table border=\"1\" class=\"dataframe\">\n",
       "  <thead>\n",
       "    <tr style=\"text-align: right;\">\n",
       "      <th></th>\n",
       "      <th>product_id</th>\n",
       "      <th>store_id</th>\n",
       "      <th>curr_date</th>\n",
       "      <th>s_qty</th>\n",
       "      <th>flg_spromo</th>\n",
       "      <th>stock</th>\n",
       "    </tr>\n",
       "    <tr>\n",
       "      <th>Timestamp</th>\n",
       "      <th></th>\n",
       "      <th></th>\n",
       "      <th></th>\n",
       "      <th></th>\n",
       "      <th></th>\n",
       "      <th></th>\n",
       "    </tr>\n",
       "  </thead>\n",
       "  <tbody>\n",
       "    <tr>\n",
       "      <th>2016-02-01</th>\n",
       "      <td>200</td>\n",
       "      <td>4600</td>\n",
       "      <td>2016-02-01</td>\n",
       "      <td>NaN</td>\n",
       "      <td>0</td>\n",
       "      <td>2.0</td>\n",
       "    </tr>\n",
       "    <tr>\n",
       "      <th>2016-02-02</th>\n",
       "      <td>200</td>\n",
       "      <td>4600</td>\n",
       "      <td>2016-02-02</td>\n",
       "      <td>NaN</td>\n",
       "      <td>0</td>\n",
       "      <td>2.0</td>\n",
       "    </tr>\n",
       "    <tr>\n",
       "      <th>2016-02-03</th>\n",
       "      <td>200</td>\n",
       "      <td>4600</td>\n",
       "      <td>2016-02-03</td>\n",
       "      <td>NaN</td>\n",
       "      <td>0</td>\n",
       "      <td>2.0</td>\n",
       "    </tr>\n",
       "    <tr>\n",
       "      <th>2016-02-04</th>\n",
       "      <td>200</td>\n",
       "      <td>4600</td>\n",
       "      <td>2016-02-04</td>\n",
       "      <td>NaN</td>\n",
       "      <td>0</td>\n",
       "      <td>2.0</td>\n",
       "    </tr>\n",
       "    <tr>\n",
       "      <th>2016-02-05</th>\n",
       "      <td>200</td>\n",
       "      <td>4600</td>\n",
       "      <td>2016-02-05</td>\n",
       "      <td>NaN</td>\n",
       "      <td>0</td>\n",
       "      <td>2.0</td>\n",
       "    </tr>\n",
       "    <tr>\n",
       "      <th>...</th>\n",
       "      <td>...</td>\n",
       "      <td>...</td>\n",
       "      <td>...</td>\n",
       "      <td>...</td>\n",
       "      <td>...</td>\n",
       "      <td>...</td>\n",
       "    </tr>\n",
       "    <tr>\n",
       "      <th>2019-10-31</th>\n",
       "      <td>20042700</td>\n",
       "      <td>4600</td>\n",
       "      <td>2019-10-31</td>\n",
       "      <td>0.0</td>\n",
       "      <td>0</td>\n",
       "      <td>NaN</td>\n",
       "    </tr>\n",
       "    <tr>\n",
       "      <th>2019-11-01</th>\n",
       "      <td>20042700</td>\n",
       "      <td>4600</td>\n",
       "      <td>2019-11-01</td>\n",
       "      <td>NaN</td>\n",
       "      <td>0</td>\n",
       "      <td>1.0</td>\n",
       "    </tr>\n",
       "    <tr>\n",
       "      <th>2019-11-02</th>\n",
       "      <td>20042700</td>\n",
       "      <td>4600</td>\n",
       "      <td>2019-11-02</td>\n",
       "      <td>NaN</td>\n",
       "      <td>0</td>\n",
       "      <td>1.0</td>\n",
       "    </tr>\n",
       "    <tr>\n",
       "      <th>2019-11-03</th>\n",
       "      <td>20042700</td>\n",
       "      <td>4600</td>\n",
       "      <td>2019-11-03</td>\n",
       "      <td>NaN</td>\n",
       "      <td>0</td>\n",
       "      <td>1.0</td>\n",
       "    </tr>\n",
       "    <tr>\n",
       "      <th>2019-11-03</th>\n",
       "      <td>20051800</td>\n",
       "      <td>4600</td>\n",
       "      <td>2019-11-03</td>\n",
       "      <td>0.0</td>\n",
       "      <td>0</td>\n",
       "      <td>NaN</td>\n",
       "    </tr>\n",
       "  </tbody>\n",
       "</table>\n",
       "<p>13617314 rows × 6 columns</p>\n",
       "</div>"
      ],
      "text/plain": [
       "            product_id  store_id  curr_date  s_qty  flg_spromo  stock\n",
       "Timestamp                                                            \n",
       "2016-02-01         200      4600 2016-02-01    NaN           0    2.0\n",
       "2016-02-02         200      4600 2016-02-02    NaN           0    2.0\n",
       "2016-02-03         200      4600 2016-02-03    NaN           0    2.0\n",
       "2016-02-04         200      4600 2016-02-04    NaN           0    2.0\n",
       "2016-02-05         200      4600 2016-02-05    NaN           0    2.0\n",
       "...                ...       ...        ...    ...         ...    ...\n",
       "2019-10-31    20042700      4600 2019-10-31    0.0           0    NaN\n",
       "2019-11-01    20042700      4600 2019-11-01    NaN           0    1.0\n",
       "2019-11-02    20042700      4600 2019-11-02    NaN           0    1.0\n",
       "2019-11-03    20042700      4600 2019-11-03    NaN           0    1.0\n",
       "2019-11-03    20051800      4600 2019-11-03    0.0           0    NaN\n",
       "\n",
       "[13617314 rows x 6 columns]"
      ]
     },
     "execution_count": 48,
     "metadata": {
      "tags": []
     },
     "output_type": "execute_result"
    }
   ],
   "source": [
    "MERGE_TABLE_STORE_4600 = pd.read_csv('/content/gdrive/My Drive/A Reinforcement Learning Approach for Inventory Optimization in Retail/MERGE_TABLE_STORE_4600/MERGE_TABLE_STORE_4600.csv', sep=';', decimal='.')\n",
    "MERGE_TABLE_STORE_4600['Timestamp'] = pd.to_datetime(MERGE_TABLE_STORE_4600['curr_date'], format='%d%b%Y')\n",
    "MERGE_TABLE_STORE_4600['curr_date'] = MERGE_TABLE_STORE_4600['Timestamp']\n",
    "MERGE_TABLE_STORE_4600 = MERGE_TABLE_STORE_4600.set_index(['Timestamp'], drop=True)\n",
    "MERGE_TABLE_STORE_4600"
   ]
  },
  {
   "cell_type": "code",
   "execution_count": 0,
   "metadata": {
    "colab": {
     "base_uri": "https://localhost:8080/",
     "height": 187
    },
    "colab_type": "code",
    "executionInfo": {
     "elapsed": 843,
     "status": "ok",
     "timestamp": 1583957192763,
     "user": {
      "displayName": "Demon Veen",
      "photoUrl": "https://lh3.googleusercontent.com/a-/AOh14Gg-3-7VF26gen-ydxYbd51SpBW85TTL0jLpX37rNg=s64",
      "userId": "11570074803313430802"
     },
     "user_tz": -180
    },
    "id": "rpBj5yyYVmt-",
    "outputId": "ac5293e5-ae4a-4894-85b2-7c49b66899ea"
   },
   "outputs": [
    {
     "name": "stdout",
     "output_type": "stream",
     "text": [
      "1 [4600]\n",
      "12554 [     200      400      500 ... 20030100 20042700 20051800]\n",
      "1460 DatetimeIndex(['2016-01-01', '2016-01-02', '2016-01-03', '2016-01-04',\n",
      "               '2016-01-05', '2016-01-06', '2016-01-07', '2016-01-08',\n",
      "               '2016-01-09', '2016-01-10',\n",
      "               ...\n",
      "               '2019-12-21', '2019-12-22', '2019-12-23', '2019-12-24',\n",
      "               '2019-12-25', '2019-12-26', '2019-12-27', '2019-12-28',\n",
      "               '2019-12-29', '2019-12-30'],\n",
      "              dtype='datetime64[ns]', length=1460, freq='D')\n"
     ]
    }
   ],
   "source": [
    "shops_4600 = np.sort(MERGE_TABLE_STORE_4600['store_id'].unique())\n",
    "print(len(shops_4600), shops_4600)\n",
    "\n",
    "products_4600 = np.sort(MERGE_TABLE_STORE_4600['product_id'].unique())\n",
    "print(len(products_4600), products_4600)\n",
    "\n",
    "dates_4600 = pd.date_range(start=MERGE_TABLE_STORE_4600['curr_date'].min(), end=MERGE_TABLE_STORE_4600['curr_date'].max())\n",
    "print(len(dates_4600), dates_4600)"
   ]
  },
  {
   "cell_type": "code",
   "execution_count": 0,
   "metadata": {
    "colab": {},
    "colab_type": "code",
    "id": "pca6U8wfPks8"
   },
   "outputs": [],
   "source": [
    "def kernel_default(x, y):\n",
    "    return 1"
   ]
  },
  {
   "cell_type": "code",
   "execution_count": 0,
   "metadata": {
    "colab": {},
    "colab_type": "code",
    "id": "U89KqnPwPy2c"
   },
   "outputs": [],
   "source": [
    "def DemandRestoring(shop_id, product_id, kernel=kernel_default):\n",
    "    # Агрегируем на всякий случай остатки на одну дату (берём максимально известный остаток за дату)\n",
    "    iv_ts = MERGE_TABLE_STORE_4600.reset_index().groupby('Timestamp').agg({'stock':np.max})\n",
    "\n",
    "    # Добавим пропущенные даты и заполним значения остатков в эти даты нулями\n",
    "    iv_ts = iv_ts.reindex(pd.date_range(np.min(iv_ts.index), np.max(iv_ts.index))).fillna(method='ffill')\n",
    "\n",
    "    # Добавим данные о продажах\n",
    "    sales_ts = MERGE_TABLE_STORE_4600[(MERGE_TABLE_STORE_4600['product_id'] == product_id) & (MERGE_TABLE_STORE_4600['store_id'] == shop_id)]\n",
    "\n",
    "    # Объединим продажи и остатки в один датафрейм\n",
    "    iv_sales = sales_ts[['s_qty']].merge(iv_ts, how='right', left_index=True, right_index=True)\n",
    "\n",
    "    # Удалим начало и \"хвост\" истории, когда продажи и остатки были равны нулю\n",
    "    positive_iv_sales = iv_sales[iv_sales.max(axis=1) > 0]\n",
    "    life_start_date = positive_iv_sales.index[0]\n",
    "    life_end_date = positive_iv_sales.index[-1]\n",
    "    iv_sales = iv_sales[(iv_sales.index >= life_start_date) & (iv_sales.index <= life_end_date)] \n",
    "\n",
    "    # Дни, когда и остатки и продажи = нулю\n",
    "    zero_idx = (iv_sales['stock'] == 0) & (iv_sales['s_qty'] == 0)\n",
    "    # Дни, когда продажи = остаткам\n",
    "    sales_equal_inv_idx = (iv_sales['stock'] == iv_sales['s_qty']) \n",
    "    # Дни, когда продажи >= остаткам\n",
    "    sales_greater_i_idx = (iv_sales['stock'] <= iv_sales['s_qty']) \n",
    "\n",
    "    lambda_data_t = pd.DataFrame(columns=['shop_id', 'product_id', 'month', 'lambda'])\n",
    "\n",
    "    # вычисление веса для каждого периода, когда наблюдался дефицит\n",
    "    iv_sales['LAMBDA'] = np.NaN\n",
    "    for oos_day in zero_idx.index:\n",
    "        # iv_sales['weights'] = [kernel(iv_sales.index[oos_day], iv_sales.index[x]) for x in iv_sales.index]\n",
    "        iv_sales['weights'] = [kernel(oos_day.month, x.month) for x in iv_sales.index]\n",
    "        # iv_sales['weights'] = [1 for x in iv_sales.index]\n",
    "\n",
    "        # Суммарные продажи товара в данном магазине\n",
    "        iv_sales['scalar'] = iv_sales['s_qty'][(~zero_idx)] * iv_sales['weights'][(~zero_idx)]\n",
    "        sum_k = iv_sales['scalar'].sum()\n",
    "        \n",
    "        # Количество дней, когда продажи были меньше остатка\n",
    "        n_k_less_m = iv_sales['weights'][(~zero_idx) & (~sales_greater_i_idx)].sum()\n",
    "\n",
    "        # Количество дней, когда продажи были равны остатку (все распродано)\n",
    "        n_k_equal_m = iv_sales['weights'][(~zero_idx) & sales_greater_i_idx].sum()\n",
    "\n",
    "        alpha = 1 # Возможно проапгрейдить\n",
    "        LAMBDA = sum_k / (n_k_less_m + alpha * n_k_equal_m)\n",
    "\n",
    "        lambda_data_t = lambda_data_t.append({'shop_id': shop_id, 'product_id': product_id, 'month': oos_day.month, 'lambda': LAMBDA}, ignore_index=True)\n",
    "\n",
    "    return lambda_data_t"
   ]
  },
  {
   "cell_type": "code",
   "execution_count": 0,
   "metadata": {
    "colab": {
     "base_uri": "https://localhost:8080/",
     "height": 421
    },
    "colab_type": "code",
    "executionInfo": {
     "elapsed": 9694,
     "status": "ok",
     "timestamp": 1583317626081,
     "user": {
      "displayName": "Demon Veen",
      "photoUrl": "https://lh3.googleusercontent.com/a-/AOh14Gg-3-7VF26gen-ydxYbd51SpBW85TTL0jLpX37rNg=s64",
      "userId": "11570074803313430802"
     },
     "user_tz": -180
    },
    "id": "SFL7ecYvORJP",
    "outputId": "4f8c981b-61c0-4240-b98b-c69636230e47"
   },
   "outputs": [
    {
     "data": {
      "text/html": [
       "<div>\n",
       "<style scoped>\n",
       "    .dataframe tbody tr th:only-of-type {\n",
       "        vertical-align: middle;\n",
       "    }\n",
       "\n",
       "    .dataframe tbody tr th {\n",
       "        vertical-align: top;\n",
       "    }\n",
       "\n",
       "    .dataframe thead th {\n",
       "        text-align: right;\n",
       "    }\n",
       "</style>\n",
       "<table border=\"1\" class=\"dataframe\">\n",
       "  <thead>\n",
       "    <tr style=\"text-align: right;\">\n",
       "      <th></th>\n",
       "      <th>shop_id</th>\n",
       "      <th>product_id</th>\n",
       "      <th>month</th>\n",
       "      <th>lambda</th>\n",
       "    </tr>\n",
       "  </thead>\n",
       "  <tbody>\n",
       "    <tr>\n",
       "      <th>0</th>\n",
       "      <td>4600.0</td>\n",
       "      <td>200.0</td>\n",
       "      <td>1.0</td>\n",
       "      <td>0.006211</td>\n",
       "    </tr>\n",
       "    <tr>\n",
       "      <th>20</th>\n",
       "      <td>4600.0</td>\n",
       "      <td>200.0</td>\n",
       "      <td>2.0</td>\n",
       "      <td>0.006211</td>\n",
       "    </tr>\n",
       "    <tr>\n",
       "      <th>49</th>\n",
       "      <td>4600.0</td>\n",
       "      <td>200.0</td>\n",
       "      <td>3.0</td>\n",
       "      <td>0.006211</td>\n",
       "    </tr>\n",
       "    <tr>\n",
       "      <th>80</th>\n",
       "      <td>4600.0</td>\n",
       "      <td>200.0</td>\n",
       "      <td>4.0</td>\n",
       "      <td>0.006211</td>\n",
       "    </tr>\n",
       "    <tr>\n",
       "      <th>110</th>\n",
       "      <td>4600.0</td>\n",
       "      <td>200.0</td>\n",
       "      <td>5.0</td>\n",
       "      <td>0.006211</td>\n",
       "    </tr>\n",
       "    <tr>\n",
       "      <th>141</th>\n",
       "      <td>4600.0</td>\n",
       "      <td>200.0</td>\n",
       "      <td>6.0</td>\n",
       "      <td>0.006211</td>\n",
       "    </tr>\n",
       "    <tr>\n",
       "      <th>171</th>\n",
       "      <td>4600.0</td>\n",
       "      <td>200.0</td>\n",
       "      <td>7.0</td>\n",
       "      <td>0.006211</td>\n",
       "    </tr>\n",
       "    <tr>\n",
       "      <th>202</th>\n",
       "      <td>4600.0</td>\n",
       "      <td>200.0</td>\n",
       "      <td>8.0</td>\n",
       "      <td>0.006211</td>\n",
       "    </tr>\n",
       "    <tr>\n",
       "      <th>233</th>\n",
       "      <td>4600.0</td>\n",
       "      <td>200.0</td>\n",
       "      <td>9.0</td>\n",
       "      <td>0.006211</td>\n",
       "    </tr>\n",
       "    <tr>\n",
       "      <th>263</th>\n",
       "      <td>4600.0</td>\n",
       "      <td>200.0</td>\n",
       "      <td>10.0</td>\n",
       "      <td>0.006211</td>\n",
       "    </tr>\n",
       "    <tr>\n",
       "      <th>294</th>\n",
       "      <td>4600.0</td>\n",
       "      <td>200.0</td>\n",
       "      <td>11.0</td>\n",
       "      <td>0.006211</td>\n",
       "    </tr>\n",
       "    <tr>\n",
       "      <th>324</th>\n",
       "      <td>4600.0</td>\n",
       "      <td>200.0</td>\n",
       "      <td>12.0</td>\n",
       "      <td>0.006211</td>\n",
       "    </tr>\n",
       "  </tbody>\n",
       "</table>\n",
       "</div>"
      ],
      "text/plain": [
       "     shop_id  product_id  month    lambda\n",
       "0     4600.0       200.0    1.0  0.006211\n",
       "20    4600.0       200.0    2.0  0.006211\n",
       "49    4600.0       200.0    3.0  0.006211\n",
       "80    4600.0       200.0    4.0  0.006211\n",
       "110   4600.0       200.0    5.0  0.006211\n",
       "141   4600.0       200.0    6.0  0.006211\n",
       "171   4600.0       200.0    7.0  0.006211\n",
       "202   4600.0       200.0    8.0  0.006211\n",
       "233   4600.0       200.0    9.0  0.006211\n",
       "263   4600.0       200.0   10.0  0.006211\n",
       "294   4600.0       200.0   11.0  0.006211\n",
       "324   4600.0       200.0   12.0  0.006211"
      ]
     },
     "execution_count": 8,
     "metadata": {
      "tags": []
     },
     "output_type": "execute_result"
    }
   ],
   "source": [
    "lambda_data_4600_t = DemandRestoring(4600, 200).drop_duplicates()\n",
    "lambda_data_4600_t"
   ]
  },
  {
   "cell_type": "code",
   "execution_count": 0,
   "metadata": {
    "colab": {},
    "colab_type": "code",
    "id": "bGiGR5XXPrpD"
   },
   "outputs": [],
   "source": [
    "lambda_data_4600 = pd.DataFrame(columns=['shop_id', 'product_id', 'month', 'lambda'])\n",
    "\n",
    "for shop_id in shops_4600:\n",
    "    for product_id in products_4600:\n",
    "    # for product_id in [200, 400, 500]:\n",
    "        lambda_data_4600_t = DemandRestoring(shop_id, product_id).drop_duplicates()\n",
    "        lambda_data_4600 = lambda_data_4600.append(lambda_data_4600_t)"
   ]
  },
  {
   "cell_type": "code",
   "execution_count": 0,
   "metadata": {
    "colab": {
     "base_uri": "https://localhost:8080/",
     "height": 164
    },
    "colab_type": "code",
    "executionInfo": {
     "elapsed": 1508,
     "status": "error",
     "timestamp": 1583991260246,
     "user": {
      "displayName": "Demon Veen",
      "photoUrl": "https://lh3.googleusercontent.com/a-/AOh14Gg-3-7VF26gen-ydxYbd51SpBW85TTL0jLpX37rNg=s64",
      "userId": "11570074803313430802"
     },
     "user_tz": -180
    },
    "id": "s8zSmbNkNzac",
    "outputId": "2ce81c1c-9657-43dd-8c86-69c034155e9c"
   },
   "outputs": [
    {
     "ename": "NameError",
     "evalue": "ignored",
     "output_type": "error",
     "traceback": [
      "\u001b[0;31m---------------------------------------------------------------------------\u001b[0m",
      "\u001b[0;31mNameError\u001b[0m                                 Traceback (most recent call last)",
      "\u001b[0;32m<ipython-input-1-142f511763b2>\u001b[0m in \u001b[0;36m<module>\u001b[0;34m()\u001b[0m\n\u001b[0;32m----> 1\u001b[0;31m \u001b[0mlambda_data_4600\u001b[0m\u001b[0;34m\u001b[0m\u001b[0;34m\u001b[0m\u001b[0m\n\u001b[0m",
      "\u001b[0;31mNameError\u001b[0m: name 'lambda_data_4600' is not defined"
     ]
    }
   ],
   "source": [
    "lambda_data_4600"
   ]
  },
  {
   "cell_type": "code",
   "execution_count": 0,
   "metadata": {
    "colab": {},
    "colab_type": "code",
    "id": "kt_13OJmPDHC"
   },
   "outputs": [],
   "source": []
  },
  {
   "cell_type": "code",
   "execution_count": 0,
   "metadata": {
    "colab": {},
    "colab_type": "code",
    "id": "XsFD016nQbIx"
   },
   "outputs": [],
   "source": [
    "lambda_data_4600[['shop_id', 'product_id', 'month']] = lambda_data_4600[['shop_id', 'product_id', 'month']].astype('int64')\n",
    "lambda_data_4600['lambda'] = lambda_data_4600['lambda'].astype('float64')\n",
    "export_lambda_4600_csv = lambda_data_4600.to_csv('/content/gdrive/My Drive/A Reinforcement Learning Approach for Inventory Optimization in Retail/MERGE_TABLE_STORE_4600/lambda_data_4600.csv', sep=',', decimal='.')"
   ]
  },
  {
   "cell_type": "code",
   "execution_count": 0,
   "metadata": {
    "colab": {},
    "colab_type": "code",
    "id": "nNMEhhqGQlLz"
   },
   "outputs": [],
   "source": [
    "lambda_data_4600 = pd.read_csv('/content/gdrive/My Drive/A Reinforcement Learning Approach for Inventory Optimization in Retail/MERGE_TABLE_STORE_4600/lambda_data_4600.csv', sep=',', decimal='.')"
   ]
  },
  {
   "cell_type": "code",
   "execution_count": 0,
   "metadata": {
    "colab": {
     "base_uri": "https://localhost:8080/",
     "height": 204
    },
    "colab_type": "code",
    "executionInfo": {
     "elapsed": 1052,
     "status": "ok",
     "timestamp": 1583921583310,
     "user": {
      "displayName": "Demon Veen",
      "photoUrl": "https://lh3.googleusercontent.com/a-/AOh14Gg-3-7VF26gen-ydxYbd51SpBW85TTL0jLpX37rNg=s64",
      "userId": "11570074803313430802"
     },
     "user_tz": -180
    },
    "id": "VgG_ZAPJhELN",
    "outputId": "7ada866c-e1a7-4a94-d402-4225554a0922"
   },
   "outputs": [
    {
     "data": {
      "text/html": [
       "<div>\n",
       "<style scoped>\n",
       "    .dataframe tbody tr th:only-of-type {\n",
       "        vertical-align: middle;\n",
       "    }\n",
       "\n",
       "    .dataframe tbody tr th {\n",
       "        vertical-align: top;\n",
       "    }\n",
       "\n",
       "    .dataframe thead th {\n",
       "        text-align: right;\n",
       "    }\n",
       "</style>\n",
       "<table border=\"1\" class=\"dataframe\">\n",
       "  <thead>\n",
       "    <tr style=\"text-align: right;\">\n",
       "      <th></th>\n",
       "      <th>shop_id</th>\n",
       "      <th>product_id</th>\n",
       "      <th>month</th>\n",
       "      <th>lambda</th>\n",
       "    </tr>\n",
       "  </thead>\n",
       "  <tbody>\n",
       "    <tr>\n",
       "      <th>0</th>\n",
       "      <td>4600</td>\n",
       "      <td>200</td>\n",
       "      <td>1</td>\n",
       "      <td>0.006211</td>\n",
       "    </tr>\n",
       "    <tr>\n",
       "      <th>20</th>\n",
       "      <td>4600</td>\n",
       "      <td>200</td>\n",
       "      <td>2</td>\n",
       "      <td>0.006211</td>\n",
       "    </tr>\n",
       "    <tr>\n",
       "      <th>49</th>\n",
       "      <td>4600</td>\n",
       "      <td>200</td>\n",
       "      <td>3</td>\n",
       "      <td>0.006211</td>\n",
       "    </tr>\n",
       "    <tr>\n",
       "      <th>80</th>\n",
       "      <td>4600</td>\n",
       "      <td>200</td>\n",
       "      <td>4</td>\n",
       "      <td>0.006211</td>\n",
       "    </tr>\n",
       "    <tr>\n",
       "      <th>110</th>\n",
       "      <td>4600</td>\n",
       "      <td>200</td>\n",
       "      <td>5</td>\n",
       "      <td>0.006211</td>\n",
       "    </tr>\n",
       "  </tbody>\n",
       "</table>\n",
       "</div>"
      ],
      "text/plain": [
       "     shop_id  product_id  month    lambda\n",
       "0       4600         200      1  0.006211\n",
       "20      4600         200      2  0.006211\n",
       "49      4600         200      3  0.006211\n",
       "80      4600         200      4  0.006211\n",
       "110     4600         200      5  0.006211"
      ]
     },
     "execution_count": 26,
     "metadata": {
      "tags": []
     },
     "output_type": "execute_result"
    }
   ],
   "source": [
    "lambda_data_4600.head()"
   ]
  },
  {
   "cell_type": "markdown",
   "metadata": {
    "colab_type": "text",
    "id": "CoZ0-ohFg_LY"
   },
   "source": [
    "# Reward"
   ]
  },
  {
   "cell_type": "markdown",
   "metadata": {
    "colab_type": "text",
    "id": "OROetjB5bB-M"
   },
   "source": [
    "Service Level:"
   ]
  },
  {
   "cell_type": "code",
   "execution_count": 0,
   "metadata": {
    "colab": {
     "base_uri": "https://localhost:8080/",
     "height": 419
    },
    "colab_type": "code",
    "executionInfo": {
     "elapsed": 3138,
     "status": "ok",
     "timestamp": 1583934860793,
     "user": {
      "displayName": "Demon Veen",
      "photoUrl": "https://lh3.googleusercontent.com/a-/AOh14Gg-3-7VF26gen-ydxYbd51SpBW85TTL0jLpX37rNg=s64",
      "userId": "11570074803313430802"
     },
     "user_tz": -180
    },
    "id": "Bv5zuFYFc69u",
    "outputId": "9359f4a3-cdd5-4429-826f-8768e8439588"
   },
   "outputs": [
    {
     "data": {
      "text/html": [
       "<div>\n",
       "<style scoped>\n",
       "    .dataframe tbody tr th:only-of-type {\n",
       "        vertical-align: middle;\n",
       "    }\n",
       "\n",
       "    .dataframe tbody tr th {\n",
       "        vertical-align: top;\n",
       "    }\n",
       "\n",
       "    .dataframe thead th {\n",
       "        text-align: right;\n",
       "    }\n",
       "</style>\n",
       "<table border=\"1\" class=\"dataframe\">\n",
       "  <thead>\n",
       "    <tr style=\"text-align: right;\">\n",
       "      <th></th>\n",
       "      <th>date_from</th>\n",
       "      <th>date_to</th>\n",
       "      <th>product_ids</th>\n",
       "      <th>location_ids</th>\n",
       "      <th>value</th>\n",
       "    </tr>\n",
       "  </thead>\n",
       "  <tbody>\n",
       "    <tr>\n",
       "      <th>0</th>\n",
       "      <td>2019-05-18</td>\n",
       "      <td>2019-05-19</td>\n",
       "      <td>200</td>\n",
       "      <td>16500</td>\n",
       "      <td>0.81</td>\n",
       "    </tr>\n",
       "    <tr>\n",
       "      <th>1</th>\n",
       "      <td>2019-05-20</td>\n",
       "      <td>2019-05-20</td>\n",
       "      <td>200</td>\n",
       "      <td>16500</td>\n",
       "      <td>0.90</td>\n",
       "    </tr>\n",
       "    <tr>\n",
       "      <th>2</th>\n",
       "      <td>2019-05-21</td>\n",
       "      <td>2019-05-21</td>\n",
       "      <td>200</td>\n",
       "      <td>16500</td>\n",
       "      <td>0.81</td>\n",
       "    </tr>\n",
       "    <tr>\n",
       "      <th>3</th>\n",
       "      <td>2019-05-22</td>\n",
       "      <td>2019-05-22</td>\n",
       "      <td>200</td>\n",
       "      <td>16500</td>\n",
       "      <td>0.95</td>\n",
       "    </tr>\n",
       "    <tr>\n",
       "      <th>4</th>\n",
       "      <td>2019-05-24</td>\n",
       "      <td>2019-06-10</td>\n",
       "      <td>200</td>\n",
       "      <td>16500</td>\n",
       "      <td>0.81</td>\n",
       "    </tr>\n",
       "    <tr>\n",
       "      <th>...</th>\n",
       "      <td>...</td>\n",
       "      <td>...</td>\n",
       "      <td>...</td>\n",
       "      <td>...</td>\n",
       "      <td>...</td>\n",
       "    </tr>\n",
       "    <tr>\n",
       "      <th>2893689</th>\n",
       "      <td>2019-06-26</td>\n",
       "      <td>2019-06-26</td>\n",
       "      <td>19907000</td>\n",
       "      <td>357900</td>\n",
       "      <td>0.45</td>\n",
       "    </tr>\n",
       "    <tr>\n",
       "      <th>2893690</th>\n",
       "      <td>2019-06-26</td>\n",
       "      <td>2019-06-26</td>\n",
       "      <td>19907000</td>\n",
       "      <td>364400</td>\n",
       "      <td>0.45</td>\n",
       "    </tr>\n",
       "    <tr>\n",
       "      <th>2893691</th>\n",
       "      <td>2019-06-26</td>\n",
       "      <td>2019-06-26</td>\n",
       "      <td>19907000</td>\n",
       "      <td>375700</td>\n",
       "      <td>0.45</td>\n",
       "    </tr>\n",
       "    <tr>\n",
       "      <th>2893692</th>\n",
       "      <td>2019-06-26</td>\n",
       "      <td>2019-06-26</td>\n",
       "      <td>19907000</td>\n",
       "      <td>411200</td>\n",
       "      <td>0.45</td>\n",
       "    </tr>\n",
       "    <tr>\n",
       "      <th>2893693</th>\n",
       "      <td>2019-06-26</td>\n",
       "      <td>2019-06-26</td>\n",
       "      <td>19907000</td>\n",
       "      <td>465600</td>\n",
       "      <td>0.45</td>\n",
       "    </tr>\n",
       "  </tbody>\n",
       "</table>\n",
       "<p>2893694 rows × 5 columns</p>\n",
       "</div>"
      ],
      "text/plain": [
       "         date_from    date_to  product_ids  location_ids  value\n",
       "0       2019-05-18 2019-05-19          200         16500   0.81\n",
       "1       2019-05-20 2019-05-20          200         16500   0.90\n",
       "2       2019-05-21 2019-05-21          200         16500   0.81\n",
       "3       2019-05-22 2019-05-22          200         16500   0.95\n",
       "4       2019-05-24 2019-06-10          200         16500   0.81\n",
       "...            ...        ...          ...           ...    ...\n",
       "2893689 2019-06-26 2019-06-26     19907000        357900   0.45\n",
       "2893690 2019-06-26 2019-06-26     19907000        364400   0.45\n",
       "2893691 2019-06-26 2019-06-26     19907000        375700   0.45\n",
       "2893692 2019-06-26 2019-06-26     19907000        411200   0.45\n",
       "2893693 2019-06-26 2019-06-26     19907000        465600   0.45\n",
       "\n",
       "[2893694 rows x 5 columns]"
      ]
     },
     "execution_count": 10,
     "metadata": {
      "tags": []
     },
     "output_type": "execute_result"
    }
   ],
   "source": [
    "sl_data = pd.read_csv('/content/gdrive/My Drive/A Reinforcement Learning Approach for Inventory Optimization in Retail/MERGE_TABLE_STORE_4600/data/echelon/echelon_1_sl.csv', sep=';')\n",
    "sl_data['date_from'] = pd.to_datetime(sl_data['date_from'], format='%d%b%Y')\n",
    "sl_data['date_to'] = pd.to_datetime(sl_data['date_to'], format='%d%b%Y')\n",
    "sl_data"
   ]
  },
  {
   "cell_type": "code",
   "execution_count": 0,
   "metadata": {
    "colab": {
     "base_uri": "https://localhost:8080/",
     "height": 323
    },
    "colab_type": "code",
    "executionInfo": {
     "elapsed": 748,
     "status": "ok",
     "timestamp": 1583934924353,
     "user": {
      "displayName": "Demon Veen",
      "photoUrl": "https://lh3.googleusercontent.com/a-/AOh14Gg-3-7VF26gen-ydxYbd51SpBW85TTL0jLpX37rNg=s64",
      "userId": "11570074803313430802"
     },
     "user_tz": -180
    },
    "id": "a0srtsrib14u",
    "outputId": "a3e88d24-db97-4ab7-d9fc-35c9d9b6bc88"
   },
   "outputs": [
    {
     "name": "stdout",
     "output_type": "stream",
     "text": [
      "9089 [     200      500      800 ... 19902400 19902500 19907000]\n",
      "59 [  4600  16500  22800  32700  34000  34800  35200  42500  43400  44400\n",
      " 132100 136300 136500 140400 140600 140800 145200 146100 147000 181000\n",
      " 183300 185200 185300 191000 193400 193800 199100 201700 202000 210400\n",
      " 211800 223500 223600 230900 243300 357900 358400 359200 360400 360900\n",
      " 363600 364400 364900 365000 366600 375400 375700 376200 385200 411200\n",
      " 412000 412300 422700 425000 430000 431000 436900 465600 497200]\n",
      "40 DatetimeIndex(['2019-05-18', '2019-05-19', '2019-05-20', '2019-05-21',\n",
      "               '2019-05-22', '2019-05-23', '2019-05-24', '2019-05-25',\n",
      "               '2019-05-26', '2019-05-27', '2019-05-28', '2019-05-29',\n",
      "               '2019-05-30', '2019-05-31', '2019-06-01', '2019-06-02',\n",
      "               '2019-06-03', '2019-06-04', '2019-06-05', '2019-06-06',\n",
      "               '2019-06-07', '2019-06-08', '2019-06-09', '2019-06-10',\n",
      "               '2019-06-11', '2019-06-12', '2019-06-13', '2019-06-14',\n",
      "               '2019-06-15', '2019-06-16', '2019-06-17', '2019-06-18',\n",
      "               '2019-06-19', '2019-06-20', '2019-06-21', '2019-06-22',\n",
      "               '2019-06-23', '2019-06-24', '2019-06-25', '2019-06-26'],\n",
      "              dtype='datetime64[ns]', freq='D')\n"
     ]
    }
   ],
   "source": [
    "products_echelon_1 = np.sort(sl_data['product_ids'].unique())\n",
    "print(len(products_echelon_1), products_echelon_1)\n",
    "\n",
    "locations_echelon_1 = np.sort(sl_data['location_ids'].unique())\n",
    "print(len(locations_echelon_1), locations_echelon_1)\n",
    "\n",
    "dates_echelon_1 = pd.date_range(start=sl_data['date_from'].min(), end=sl_data['date_to'].max())\n",
    "print(len(dates_echelon_1), dates_echelon_1)"
   ]
  },
  {
   "cell_type": "code",
   "execution_count": 0,
   "metadata": {
    "colab": {
     "base_uri": "https://localhost:8080/",
     "height": 34
    },
    "colab_type": "code",
    "executionInfo": {
     "elapsed": 2960893,
     "status": "ok",
     "timestamp": 1583939354818,
     "user": {
      "displayName": "Demon Veen",
      "photoUrl": "https://lh3.googleusercontent.com/a-/AOh14Gg-3-7VF26gen-ydxYbd51SpBW85TTL0jLpX37rNg=s64",
      "userId": "11570074803313430802"
     },
     "user_tz": -180
    },
    "id": "-DV0qoTXh374",
    "outputId": "ed44565f-de76-4f3b-ce14-4abe3ac831ff"
   },
   "outputs": [
    {
     "name": "stdout",
     "output_type": "stream",
     "text": [
      "reward = -151099.16302236047\n"
     ]
    }
   ],
   "source": [
    "reward = 0\n",
    "\n",
    "for shop_id in [shop for shop in shops_4600 if shop in locations_echelon_1]:\n",
    "    for product_id in [prod for prod in products_4600 if prod in products_echelon_1]:\n",
    "    # for product_id in [18973900]:\n",
    "\n",
    "        store_sales_t = MERGE_TABLE_STORE_4600[MERGE_TABLE_STORE_4600['store_id']==shop_id]\n",
    "        store_sales_t = store_sales_t[store_sales_t['product_id']==product_id].fillna(0)\n",
    "\n",
    "        sl_data_t = sl_data.set_index(['date_from'], drop=True)\n",
    "        sl_data_t = sl_data_t[sl_data_t['location_ids']==shop_id]\n",
    "        sl_data_t = sl_data_t[sl_data_t['product_ids']==product_id]\n",
    "\n",
    "        if not sl_data_t.empty:\n",
    "\n",
    "            # Дополнительная обработка пропусков в sl_data_t\n",
    "            all_days = pd.date_range(start=sl_data_t.index.min(), end=sl_data_t['date_to'].max())\n",
    "            sl_data_t.index = pd.DatetimeIndex(sl_data_t.index)\n",
    "            sl_data_t = sl_data_t.reindex(all_days, method='ffill')\n",
    "            sl_data_t = sl_data_t.drop(columns=['date_to'])\n",
    "\n",
    "            r = (store_sales_t['s_qty'] - store_sales_t['stock'] * (1 - sl_data_t['value']) / sl_data_t['value']).sum()\n",
    "            reward += r\n",
    "\n",
    "print('reward =', reward)"
   ]
  },
  {
   "cell_type": "markdown",
   "metadata": {
    "colab_type": "text",
    "id": "1wjR1J6XcE4_"
   },
   "source": [
    "# Остальные составляющие среды"
   ]
  },
  {
   "cell_type": "markdown",
   "metadata": {
    "colab_type": "text",
    "id": "QQQ6C589dJSG"
   },
   "source": [
    "Order(SKU, ТТ)_t - это количество товаров,отправка которого инициировано соответствующим Recommended_Order(SKU, ТТ)_t, которое финально доедет и будет выставлено на полку в магазин.\n",
    "\n",
    "Order(SKU, ТТ)_t и Recommended_Order_t в этих обозначениях _t - дата, когда сформировались данные объёмы.\n",
    "\n",
    "State: (Stock(SKU, ТТ)_j, Sales(SKU, ТТ)_j, Demand(SKU, ТТ)_j, Orders_Pipeline(SKU, ТТ): [Order_t, Ordrer_t-n, Order_t-m, Order_t-p], n<m<p) period t1-t2\n",
    "\n",
    "Хранить Stock, Sales и Demand как dataframe?\n",
    "\n",
    "LT = 1\n",
    "\n",
    "Важно: в State продаж (Sales) и остатки (Stock) - модельные (нужно моделировать. Те, Sales и Stock, что пришли в данных от заказчика (как результат работы реальной системы) - нужны только для восстановления спрос"
   ]
  },
  {
   "cell_type": "code",
   "execution_count": 0,
   "metadata": {
    "colab": {},
    "colab_type": "code",
    "id": "epB2X9aemQCL"
   },
   "outputs": [],
   "source": [
    "sales_data = pd.DataFrame(columns=['purchase_date', 'shop_id', 'product_id', 'price', 'sales'])\n",
    "stock_data = pd.DataFrame(columns=['updated_at', 'shop_id', 'product_id', 'stock'])\n",
    "recommended_order_data = pd.DataFrame(columns=['updated_at', 'shop_id', 'product_id', 'value'])\n",
    "order_data = pd.DataFrame(columns=['updated_at', 'shop_id', 'product_id', 'value'])"
   ]
  },
  {
   "cell_type": "markdown",
   "metadata": {
    "colab_type": "text",
    "id": "HOY5gADUVcVp"
   },
   "source": [
    "*   Demand(SKU)_t = F(Sales_all_data, Inv_all_history)\n",
    "*   Моделирование Sales_t = MAX(Demand_t, Inv_{t-1}+Orders_{t-LT+})\n",
    "*   Моделирование Inv_t = MAX(Inv_{t-1} + Orders_{t-LT+} - Demand_t, 0)"
   ]
  },
  {
   "cell_type": "code",
   "execution_count": 0,
   "metadata": {
    "colab": {},
    "colab_type": "code",
    "id": "kTXYGDHLVF3p"
   },
   "outputs": [],
   "source": [
    "def sales_update(date, shop_id, product_id, price):\n",
    "    LT = 1\n",
    "    sales_data_t = pd.DataFrame(columns=['purchase_date', 'shop_id', 'product_id', 'price', 'sales'])\n",
    "\n",
    "    sales = max(demand_data[demand_data['shop_id']==shop_id][demand_data['product_id']==product_id].demand, stock_data[stock_data['shop_id']==shop_id][stock_data['product_id']==product_id].iloc[-1].stock\n",
    "                + order_data[order_data['shop_id']==shop_id][order_data['product_id']==product_id].iloc[-1-LT].value)\n",
    "    price = sales_data[sales_data['shop_id']==shop_id][sales_data['product_id']==product_id].iloc[-1].price\n",
    "    sales_data_t = sales_data_t.append({'purchase_date': date, 'shop_id': shop_id, 'product_id': product_id, 'price': price, 'sales': sales}, ignore_index=True)\n",
    "\n",
    "    return sales_data_t"
   ]
  },
  {
   "cell_type": "code",
   "execution_count": 0,
   "metadata": {
    "colab": {},
    "colab_type": "code",
    "id": "dElShpabWwup"
   },
   "outputs": [],
   "source": [
    "def stock_update(date, shop_id, product_id):\n",
    "    LT = 1\n",
    "    stock_data_t = pd.DataFrame(columns=['updated_at', 'shop_id', 'product_id', 'stock'])\n",
    "\n",
    "    stock = max(stock_data[stock_data['shop_id']==shop_id][stock_data['product_id']==product_id].iloc[-1].stock\n",
    "                + order_data[order_data['shop_id']==shop_id][order_data['product_id']==product_id].iloc[-1-LT].value\n",
    "                - demand_data[demand_data['shop_id']==shop_id][demand_data['product_id']==product_id].demand, 0)\n",
    "\n",
    "    stock_data_t = stock_data_t.append({'updated_at': date, 'shop_id': shop_id, 'product_id': product_id, 'stock': stock}, ignore_index=True)\n",
    "\n",
    "    return stock_data_t"
   ]
  },
  {
   "cell_type": "markdown",
   "metadata": {
    "colab_type": "text",
    "id": "hUzUvNYAcbXk"
   },
   "source": [
    "Рекомендация к заказу: Recommend_Order_t = OUL - (INV + Orders_t - 1), IF Inv_t <= ROL 0, otherwise."
   ]
  },
  {
   "cell_type": "markdown",
   "metadata": {
    "colab_type": "text",
    "id": "d3oW6QbVcfbP"
   },
   "source": [
    "recommend_order - наша рекомендация к заказу\n",
    "<br>order - объем получаемого заказа\n",
    "\n",
    "order = F(recommend_order_t, alpha_order)\n",
    "<br>1)order <= recommend_order_t \n",
    "<br>2)$\\sum_{sku}$ E(order_{sku,t}) = alpha_order * E(recommend_order_{sku,t})\n",
    "\n",
    "inv[t] = max(inv[t - 1] + order_come[t] - demand(m), 0)\n",
    "<br>sales = max(demand(m), inv[t - 1] + order_come[t])"
   ]
  },
  {
   "cell_type": "code",
   "execution_count": 2,
   "metadata": {
    "colab": {},
    "colab_type": "code",
    "id": "R479VZgZOYtK"
   },
   "outputs": [],
   "source": [
    "def rec_order_update(date, shop_id, product_id):\n",
    "    recommended_order_data_t = pd.DataFrame(columns=['updated_at', 'shop_id', 'product_id', 'value'])\n",
    "\n",
    "    if stock(shop_id, product_id) <= ROL:\n",
    "        value = OUL - stock_data[stock_data['shop_id']==shop_id][stock_data['product_id']==product_id].iloc[-1].stock - order_data[order_data['shop_id']==shop_id][order_data['product_id']==product_id].iloc[-1].value\n",
    "        recommended_order_data_t = recommended_order_data_t.append({'updated_at': date, 'shop_id': shop_id, 'product_id': product_id, 'value': value}, ignore_index=True)\n",
    "    else:\n",
    "        recommended_order_data_t = recommended_order_data_t.append({'updated_at': date, 'shop_id': shop_id, 'product_id': product_id, 'value': 0}, ignore_index=True)\n",
    "\n",
    "    return recommended_order_data_t"
   ]
  },
  {
   "cell_type": "code",
   "execution_count": 3,
   "metadata": {
    "colab": {},
    "colab_type": "code",
    "id": "-9qlYc50TBx5"
   },
   "outputs": [],
   "source": [
    "def order_update(date, shop_id, product_id):\n",
    "    alpha_order = 0.3\n",
    "    order_data_t = pd.DataFrame(columns=['updated_at', 'shop_id', 'product_id', 'value'])\n",
    "\n",
    "    # value = ceil(np.random.uniform(rec_order * alpha_order, rec_order))\n",
    "    order_data_t = order_data_t.append({'updated_at': date, 'shop_id': shop_id, 'product_id': product_id, 'value': value}, ignore_index=True)\n",
    "\n",
    "    return order_data_t"
   ]
  },
  {
   "cell_type": "code",
   "execution_count": 6,
   "metadata": {
    "colab": {},
    "colab_type": "code",
    "id": "nNMudHsNCujQ"
   },
   "outputs": [],
   "source": [
    "from scipy import stats\n",
    "\n",
    "# Uniform Distribution -- mu=(a+b-1)/2\n",
    "def order_update0(rec_order, alpha_order):\n",
    "    return np.random.uniform(rec_order * alpha_order, rec_order)\n",
    "\n",
    "# # Poisson Distribution -- mu=lambda\n",
    "# def order_update1(rec_order, alpha_order):\n",
    "#     return np.random.poisson(rec_order * alpha_order)\n",
    "\n",
    "# Poisson Distribution -- mu=lambda\n",
    "def order_update1(rec_order, alpha_order):\n",
    "    return np.min([np.random.poisson(rec_order * alpha_order), rec_order], axis=0)\n",
    "\n",
    "# Binomial Distribution -- mu=n*p\n",
    "def order_update2(rec_order, alpha_order):\n",
    "    return np.random.binomial(n=rec_order, p=alpha_order)\n",
    "\n",
    "# Negative Binomial Distribution -- mu=n(1-p)/p\n",
    "def order_update3(rec_order, alpha_order):\n",
    "    return np.random.negative_binomial(n=rec_order, p=1 - alpha_order)\n",
    "\n",
    "# Negative Binomial Distribution -- mu=n(1-p)/p\n",
    "def order_update4(rec_order, alpha_order):\n",
    "    return np.min([np.random.negative_binomial(n=rec_order, p=1 - alpha_order), rec_order], axis=0)\n",
    "\n",
    "# Beta-Binomial Distribution -- mu=n*a/(a+b)\n",
    "def order_update5(rec_order, alpha_order):\n",
    "    return stats.betabinom.rvs(n=rec_order, a=alpha_order * rec_order, b=rec_order)\n",
    "\n",
    "\n",
    "# realization = [order_update5(rec_order=1, alpha_order=0.3) for x in range(10000)]\n",
    "# plt.hist(realization)\n",
    "# print(np.mean(realization))"
   ]
  },
  {
   "cell_type": "code",
   "execution_count": 7,
   "metadata": {
    "colab": {
     "base_uri": "https://localhost:8080/",
     "height": 606
    },
    "colab_type": "code",
    "executionInfo": {
     "elapsed": 2949,
     "status": "ok",
     "timestamp": 1584641764055,
     "user": {
      "displayName": "Demon Veen",
      "photoUrl": "https://lh3.googleusercontent.com/a-/AOh14Gg-3-7VF26gen-ydxYbd51SpBW85TTL0jLpX37rNg=s64",
      "userId": "11570074803313430802"
     },
     "user_tz": -180
    },
    "id": "jCUna2JDCwNg",
    "outputId": "8e56d275-e0ce-4259-becb-3a4d7444977d"
   },
   "outputs": [
    {
     "ename": "AttributeError",
     "evalue": "module 'scipy.stats' has no attribute 'betabinom'",
     "output_type": "error",
     "traceback": [
      "\u001b[1;31m---------------------------------------------------------------------------\u001b[0m",
      "\u001b[1;31mAttributeError\u001b[0m                            Traceback (most recent call last)",
      "\u001b[1;32m<ipython-input-7-5394b693d290>\u001b[0m in \u001b[0;36m<module>\u001b[1;34m\u001b[0m\n\u001b[0;32m      7\u001b[0m \u001b[0mrealization3\u001b[0m \u001b[1;33m=\u001b[0m \u001b[1;33m[\u001b[0m\u001b[0morder_update3\u001b[0m\u001b[1;33m(\u001b[0m\u001b[0mrec_order\u001b[0m\u001b[1;33m,\u001b[0m \u001b[0malpha_order\u001b[0m\u001b[1;33m)\u001b[0m \u001b[1;32mfor\u001b[0m \u001b[0mx\u001b[0m \u001b[1;32min\u001b[0m \u001b[0mrange\u001b[0m\u001b[1;33m(\u001b[0m\u001b[1;36m10000\u001b[0m\u001b[1;33m)\u001b[0m\u001b[1;33m]\u001b[0m    \u001b[1;31m# Negative Binomial Distribution                -- mu=n(1-p)/p\u001b[0m\u001b[1;33m\u001b[0m\u001b[1;33m\u001b[0m\u001b[0m\n\u001b[0;32m      8\u001b[0m \u001b[0mrealization4\u001b[0m \u001b[1;33m=\u001b[0m \u001b[1;33m[\u001b[0m\u001b[0morder_update4\u001b[0m\u001b[1;33m(\u001b[0m\u001b[0mrec_order\u001b[0m\u001b[1;33m,\u001b[0m \u001b[0malpha_order\u001b[0m\u001b[1;33m)\u001b[0m \u001b[1;32mfor\u001b[0m \u001b[0mx\u001b[0m \u001b[1;32min\u001b[0m \u001b[0mrange\u001b[0m\u001b[1;33m(\u001b[0m\u001b[1;36m10000\u001b[0m\u001b[1;33m)\u001b[0m\u001b[1;33m]\u001b[0m    \u001b[1;31m# Negative Binomial Distribution with np.min    -- mu=n(1-p)/p\u001b[0m\u001b[1;33m\u001b[0m\u001b[1;33m\u001b[0m\u001b[0m\n\u001b[1;32m----> 9\u001b[1;33m \u001b[0mrealization5\u001b[0m \u001b[1;33m=\u001b[0m \u001b[1;33m[\u001b[0m\u001b[0morder_update5\u001b[0m\u001b[1;33m(\u001b[0m\u001b[0mrec_order\u001b[0m\u001b[1;33m,\u001b[0m \u001b[0malpha_order\u001b[0m\u001b[1;33m)\u001b[0m \u001b[1;32mfor\u001b[0m \u001b[0mx\u001b[0m \u001b[1;32min\u001b[0m \u001b[0mrange\u001b[0m\u001b[1;33m(\u001b[0m\u001b[1;36m10000\u001b[0m\u001b[1;33m)\u001b[0m\u001b[1;33m]\u001b[0m    \u001b[1;31m# Beta-Binomial Distribution                    -- mu=n*a/(a+b)\u001b[0m\u001b[1;33m\u001b[0m\u001b[1;33m\u001b[0m\u001b[0m\n\u001b[0m\u001b[0;32m     10\u001b[0m \u001b[1;33m\u001b[0m\u001b[0m\n\u001b[0;32m     11\u001b[0m \u001b[0mplt\u001b[0m\u001b[1;33m.\u001b[0m\u001b[0mfigure\u001b[0m\u001b[1;33m(\u001b[0m\u001b[0mfigsize\u001b[0m\u001b[1;33m=\u001b[0m\u001b[1;33m(\u001b[0m\u001b[1;36m20\u001b[0m\u001b[1;33m,\u001b[0m \u001b[1;36m10\u001b[0m\u001b[1;33m)\u001b[0m\u001b[1;33m)\u001b[0m\u001b[1;33m\u001b[0m\u001b[1;33m\u001b[0m\u001b[0m\n",
      "\u001b[1;32m<ipython-input-7-5394b693d290>\u001b[0m in \u001b[0;36m<listcomp>\u001b[1;34m(.0)\u001b[0m\n\u001b[0;32m      7\u001b[0m \u001b[0mrealization3\u001b[0m \u001b[1;33m=\u001b[0m \u001b[1;33m[\u001b[0m\u001b[0morder_update3\u001b[0m\u001b[1;33m(\u001b[0m\u001b[0mrec_order\u001b[0m\u001b[1;33m,\u001b[0m \u001b[0malpha_order\u001b[0m\u001b[1;33m)\u001b[0m \u001b[1;32mfor\u001b[0m \u001b[0mx\u001b[0m \u001b[1;32min\u001b[0m \u001b[0mrange\u001b[0m\u001b[1;33m(\u001b[0m\u001b[1;36m10000\u001b[0m\u001b[1;33m)\u001b[0m\u001b[1;33m]\u001b[0m    \u001b[1;31m# Negative Binomial Distribution                -- mu=n(1-p)/p\u001b[0m\u001b[1;33m\u001b[0m\u001b[1;33m\u001b[0m\u001b[0m\n\u001b[0;32m      8\u001b[0m \u001b[0mrealization4\u001b[0m \u001b[1;33m=\u001b[0m \u001b[1;33m[\u001b[0m\u001b[0morder_update4\u001b[0m\u001b[1;33m(\u001b[0m\u001b[0mrec_order\u001b[0m\u001b[1;33m,\u001b[0m \u001b[0malpha_order\u001b[0m\u001b[1;33m)\u001b[0m \u001b[1;32mfor\u001b[0m \u001b[0mx\u001b[0m \u001b[1;32min\u001b[0m \u001b[0mrange\u001b[0m\u001b[1;33m(\u001b[0m\u001b[1;36m10000\u001b[0m\u001b[1;33m)\u001b[0m\u001b[1;33m]\u001b[0m    \u001b[1;31m# Negative Binomial Distribution with np.min    -- mu=n(1-p)/p\u001b[0m\u001b[1;33m\u001b[0m\u001b[1;33m\u001b[0m\u001b[0m\n\u001b[1;32m----> 9\u001b[1;33m \u001b[0mrealization5\u001b[0m \u001b[1;33m=\u001b[0m \u001b[1;33m[\u001b[0m\u001b[0morder_update5\u001b[0m\u001b[1;33m(\u001b[0m\u001b[0mrec_order\u001b[0m\u001b[1;33m,\u001b[0m \u001b[0malpha_order\u001b[0m\u001b[1;33m)\u001b[0m \u001b[1;32mfor\u001b[0m \u001b[0mx\u001b[0m \u001b[1;32min\u001b[0m \u001b[0mrange\u001b[0m\u001b[1;33m(\u001b[0m\u001b[1;36m10000\u001b[0m\u001b[1;33m)\u001b[0m\u001b[1;33m]\u001b[0m    \u001b[1;31m# Beta-Binomial Distribution                    -- mu=n*a/(a+b)\u001b[0m\u001b[1;33m\u001b[0m\u001b[1;33m\u001b[0m\u001b[0m\n\u001b[0m\u001b[0;32m     10\u001b[0m \u001b[1;33m\u001b[0m\u001b[0m\n\u001b[0;32m     11\u001b[0m \u001b[0mplt\u001b[0m\u001b[1;33m.\u001b[0m\u001b[0mfigure\u001b[0m\u001b[1;33m(\u001b[0m\u001b[0mfigsize\u001b[0m\u001b[1;33m=\u001b[0m\u001b[1;33m(\u001b[0m\u001b[1;36m20\u001b[0m\u001b[1;33m,\u001b[0m \u001b[1;36m10\u001b[0m\u001b[1;33m)\u001b[0m\u001b[1;33m)\u001b[0m\u001b[1;33m\u001b[0m\u001b[1;33m\u001b[0m\u001b[0m\n",
      "\u001b[1;32m<ipython-input-6-ae4cdbcb7430>\u001b[0m in \u001b[0;36morder_update5\u001b[1;34m(rec_order, alpha_order)\u001b[0m\n\u001b[0;32m     27\u001b[0m \u001b[1;31m# Beta-Binomial Distribution -- mu=n*a/(a+b)\u001b[0m\u001b[1;33m\u001b[0m\u001b[1;33m\u001b[0m\u001b[1;33m\u001b[0m\u001b[0m\n\u001b[0;32m     28\u001b[0m \u001b[1;32mdef\u001b[0m \u001b[0morder_update5\u001b[0m\u001b[1;33m(\u001b[0m\u001b[0mrec_order\u001b[0m\u001b[1;33m,\u001b[0m \u001b[0malpha_order\u001b[0m\u001b[1;33m)\u001b[0m\u001b[1;33m:\u001b[0m\u001b[1;33m\u001b[0m\u001b[1;33m\u001b[0m\u001b[0m\n\u001b[1;32m---> 29\u001b[1;33m     \u001b[1;32mreturn\u001b[0m \u001b[0mstats\u001b[0m\u001b[1;33m.\u001b[0m\u001b[0mbetabinom\u001b[0m\u001b[1;33m.\u001b[0m\u001b[0mrvs\u001b[0m\u001b[1;33m(\u001b[0m\u001b[0mn\u001b[0m\u001b[1;33m=\u001b[0m\u001b[0mrec_order\u001b[0m\u001b[1;33m,\u001b[0m \u001b[0ma\u001b[0m\u001b[1;33m=\u001b[0m\u001b[0malpha_order\u001b[0m \u001b[1;33m*\u001b[0m \u001b[0mrec_order\u001b[0m\u001b[1;33m,\u001b[0m \u001b[0mb\u001b[0m\u001b[1;33m=\u001b[0m\u001b[0mrec_order\u001b[0m\u001b[1;33m)\u001b[0m\u001b[1;33m\u001b[0m\u001b[1;33m\u001b[0m\u001b[0m\n\u001b[0m\u001b[0;32m     30\u001b[0m \u001b[1;33m\u001b[0m\u001b[0m\n\u001b[0;32m     31\u001b[0m \u001b[1;33m\u001b[0m\u001b[0m\n",
      "\u001b[1;31mAttributeError\u001b[0m: module 'scipy.stats' has no attribute 'betabinom'"
     ]
    }
   ],
   "source": [
    "rec_order = 1\n",
    "alpha_order = 0.3\n",
    "\n",
    "realization0 = [order_update0(rec_order, alpha_order) for x in range(10000)]    # Uniform Distribution                          -- mu=(a+b-1)/2\n",
    "realization1 = [order_update1(rec_order, alpha_order) for x in range(10000)]    # Poisson Distribution with np.min              -- mu=lambda\n",
    "realization2 = [order_update2(rec_order, alpha_order) for x in range(10000)]    # Binomial Distribution                         -- mu=n*p\n",
    "realization3 = [order_update3(rec_order, alpha_order) for x in range(10000)]    # Negative Binomial Distribution                -- mu=n(1-p)/p\n",
    "realization4 = [order_update4(rec_order, alpha_order) for x in range(10000)]    # Negative Binomial Distribution with np.min    -- mu=n(1-p)/p\n",
    "realization5 = [order_update5(rec_order, alpha_order) for x in range(10000)]    # Beta-Binomial Distribution                    -- mu=n*a/(a+b)\n",
    "\n",
    "plt.figure(figsize=(20, 10))\n",
    "for i, real in enumerate([realization0, realization1, realization2, realization3, realization4, realization5]):\n",
    "    plt.subplot(2, 3, i + 1)\n",
    "    plt.hist(real)\n",
    "    plt.xlabel(np.mean(real))"
   ]
  },
  {
   "cell_type": "code",
   "execution_count": 33,
   "metadata": {
    "colab": {
     "base_uri": "https://localhost:8080/",
     "height": 606
    },
    "colab_type": "code",
    "executionInfo": {
     "elapsed": 2950,
     "status": "ok",
     "timestamp": 1584641809396,
     "user": {
      "displayName": "Demon Veen",
      "photoUrl": "https://lh3.googleusercontent.com/a-/AOh14Gg-3-7VF26gen-ydxYbd51SpBW85TTL0jLpX37rNg=s64",
      "userId": "11570074803313430802"
     },
     "user_tz": -180
    },
    "id": "w7exAntS_g3N",
    "outputId": "689ace64-a7a8-4424-ed21-4ada4ccd6047"
   },
   "outputs": [
    {
     "data": {
      "image/png": "[encoded data removed]",
      "text/plain": [
       "<Figure size 1440x720 with 6 Axes>"
      ]
     },
     "metadata": {
      "tags": []
     },
     "output_type": "display_data"
    }
   ],
   "source": [
    "rec_order = 10\n",
    "alpha_order = 0.3\n",
    "\n",
    "realization0 = [order_update0(rec_order, alpha_order) for x in range(10000)]    # Uniform Distribution                          -- mu=(a+b-1)/2\n",
    "realization1 = [order_update1(rec_order, alpha_order) for x in range(10000)]    # Poisson Distribution with np.min              -- mu=lambda\n",
    "realization2 = [order_update2(rec_order, alpha_order) for x in range(10000)]    # Binomial Distribution                         -- mu=n*p\n",
    "realization3 = [order_update3(rec_order, alpha_order) for x in range(10000)]    # Negative Binomial Distribution                -- mu=n(1-p)/p\n",
    "realization4 = [order_update4(rec_order, alpha_order) for x in range(10000)]    # Negative Binomial Distribution with np.min    -- mu=n(1-p)/p\n",
    "realization5 = [order_update5(rec_order, alpha_order) for x in range(10000)]    # Beta-Binomial Distribution                    -- mu=n*a/(a+b)\n",
    "\n",
    "plt.figure(figsize=(20, 10))\n",
    "for i, real in enumerate([realization0, realization1, realization2, realization3, realization4, realization5]):\n",
    "    plt.subplot(2, 3, i + 1)\n",
    "    plt.hist(real)\n",
    "    plt.xlabel(np.mean(real))"
   ]
  },
  {
   "cell_type": "code",
   "execution_count": 0,
   "metadata": {
    "colab": {},
    "colab_type": "code",
    "id": "2YwbIKiMAm1z"
   },
   "outputs": [],
   "source": []
  }
 ],
 "metadata": {
  "accelerator": "GPU",
  "colab": {
   "collapsed_sections": [
    "5hwfT-Wgl4Os"
   ],
   "machine_shape": "hm",
   "name": "DemandRestoring_v2.2.ipynb",
   "provenance": []
  },
  "kernelspec": {
   "display_name": "Python 3",
   "language": "python",
   "name": "python3"
  },
  "language_info": {
   "codemirror_mode": {
    "name": "ipython",
    "version": 3
   },
   "file_extension": ".py",
   "mimetype": "text/x-python",
   "name": "python",
   "nbconvert_exporter": "python",
   "pygments_lexer": "ipython3",
   "version": "3.6.8"
  }
 },
 "nbformat": 4,
 "nbformat_minor": 1
}
